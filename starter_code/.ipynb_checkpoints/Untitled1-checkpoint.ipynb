{
 "cells": [
  {
   "cell_type": "code",
   "execution_count": null,
   "metadata": {},
   "outputs": [],
   "source": [
    "# Dependencies and Setup\n",
    "import requests as req\n",
    "import json\n",
    "import pandas as pd\n",
    "import matplotlib.pyplot as plt\n",
    "import config\n",
    "import numpy as np\n",
    "import random\n",
    "from random import uniform\n",
    "from citipy import citipy\n",
    "\n",
    "# Output File (CSV)\n",
    "#output_data_file = \"output_data/cities.csv\"\n",
    "\n",
    "# Range of latitudes and longitudes\n",
    "lat_range = (-90, 90)\n",
    "lng_range = (-180, 180)"
   ]
  },
  {
   "cell_type": "code",
   "execution_count": null,
   "metadata": {},
   "outputs": [],
   "source": [
    "# Create a set of random lat and lng combinations\n",
    "#lats = np.random.uniform(low=-90.000, high=90.000, size=1500)\n",
    "#lngs = np.random.uniform(low=-180.000, high=180.000, size=1500)\n",
    "#lat_lngs = zip(lats, lngs)"
   ]
  },
  {
   "cell_type": "code",
   "execution_count": null,
   "metadata": {},
   "outputs": [],
   "source": [
    "#list to hold the data\n",
    "weather_data = []\n",
    "\n",
    "#counter to generate data for at least 500 cities values\n",
    "n = 0\n",
    "\n",
    "while n < 600:\n",
    "    #generates random values and pull city names from citipy\n",
    "    #lat, long = uniform(-90, 90), uniform(-180, 180)\n",
    "     lats = np.random.uniform(low=-90.000, high=90.000, size=1500)\n",
    "     lngs = np.random.uniform(low=-180.000, high=180.000, size=1500)\n",
    "     lat_lngs = zip(lats, lngs)\n",
    "    city = citipy.nearest_city(lat, long)\n",
    "    name = city.city_name\n",
    "    #city_set.add(name)"
   ]
  },
  {
   "cell_type": "code",
   "execution_count": null,
   "metadata": {},
   "outputs": [],
   "source": [
    "#API CALLS\n",
    "    \n",
    "    #build URL\n",
    "    url = \"http://api.openweathermap.org/data/2.5/weather?&units=imperial&q=%s\" % (name)\n",
    "    key = config.api_key\n",
    "    target_url = url + \"&appid=\" + key\n",
    "    \n",
    "    #request the json data\n",
    "    response = req.get(target_url)\n",
    "    print (response.status_code)\n",
    "    \n",
    "    if response:\n",
    "        rj = response.json()\n",
    "        \n",
    "        #loop to remove duplicate cities in data\n",
    "        if rj not in weather_data:\n",
    "            weather_data.append(rj)\n",
    "        else:\n",
    "            continue\n",
    "    else:\n",
    "        continue\n",
    "        \n",
    "\n",
    "    #print results\n",
    "    print(\"Now getting weather for city #: \" + str(n) + \" \" + name + ' at coordinates ' + str(lat) + \" \" + str(long))\n",
    "    print (target_url)\n",
    "    \n",
    "    n += 1"
   ]
  },
  {
   "cell_type": "code",
   "execution_count": null,
   "metadata": {},
   "outputs": [],
   "source": []
  }
 ],
 "metadata": {
  "kernelspec": {
   "display_name": "Python 3",
   "language": "python",
   "name": "python3"
  },
  "language_info": {
   "codemirror_mode": {
    "name": "ipython",
    "version": 3
   },
   "file_extension": ".py",
   "mimetype": "text/x-python",
   "name": "python",
   "nbconvert_exporter": "python",
   "pygments_lexer": "ipython3",
   "version": "3.6.5"
  }
 },
 "nbformat": 4,
 "nbformat_minor": 2
}
