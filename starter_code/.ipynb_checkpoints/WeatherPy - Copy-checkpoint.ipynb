{
 "cells": [
  {
   "cell_type": "code",
   "execution_count": 6,
   "metadata": {
    "scrolled": true
   },
   "outputs": [],
   "source": [
    "# Dependencies and Setup\n",
    "from citipy import citipy\n",
    "import matplotlib.pyplot as plt\n",
    "import requests as req\n",
    "import pandas as pd\n",
    "import numpy as np\n",
    "import time\n",
    "import progressbar"
   ]
  },
  {
   "cell_type": "code",
   "execution_count": 7,
   "metadata": {},
   "outputs": [
    {
     "name": "stdout",
     "output_type": "stream",
     "text": [
      "\n",
      "\n",
      "\n",
      "\n",
      "\n",
      "\n",
      "\n",
      "\n",
      "\n",
      "\n",
      "\n",
      "\n",
      "\n",
      "\n",
      "\n",
      "\n",
      "\n",
      "\n",
      "\n",
      "\n",
      "\n",
      "\n",
      "\n",
      "\n",
      "\n",
      "\n",
      "\n",
      "\n",
      "\n",
      "\n",
      "\n",
      "\n",
      "\n",
      "\n",
      "\n",
      "\n",
      "\n",
      "\n",
      "\n",
      "\n",
      "\n",
      "\n",
      "\n",
      "\n",
      "\n",
      "\n",
      "\n",
      "\n",
      "\n",
      "\n",
      "\n",
      "\n",
      "\n",
      "\n",
      "\n",
      "\n",
      "\n",
      "\n",
      "\n",
      "\n",
      "\n",
      "\n",
      "\n",
      "\n",
      "\n",
      "\n",
      "\n",
      "\n",
      "\n",
      "\n",
      "\n",
      "\n",
      "\n",
      "\n",
      "\n",
      "\n",
      "\n",
      "\n",
      "\n",
      "\n",
      "\n",
      "\n",
      "\n",
      "\n",
      "\n",
      "\n",
      "\n",
      "\n",
      "\n",
      "\n",
      "\n",
      "\n",
      "\n",
      "\n",
      "\n",
      "\n",
      "\n",
      "\n",
      "\n",
      "\n",
      "\n",
      "\n",
      "\n",
      "\n",
      "\n",
      "\n",
      "\n",
      "\n",
      "\n",
      "\n",
      "\n",
      "\n",
      "\n",
      "\n",
      "\n",
      "\n",
      "\n",
      "\n",
      "\n",
      "\n",
      "\n",
      "\n",
      "\n",
      "\n",
      "\n",
      "\n",
      "\n",
      "\n",
      "\n",
      "\n",
      "\n",
      "\n",
      "\n",
      "\n",
      "\n",
      "\n",
      "\n",
      "\n",
      "\n",
      "\n",
      "\n",
      "\n",
      "\n",
      "\n",
      "\n",
      "\n",
      "\n",
      "\n",
      "\n",
      "\n",
      "\n",
      "\n",
      "\n",
      "\n",
      "\n",
      "\n",
      "\n",
      "\n",
      "\n",
      "\n",
      "\n",
      "\n",
      "\n",
      "\n",
      "\n",
      "\n",
      "\n",
      "\n",
      "\n",
      "\n",
      "\n",
      "\n",
      "\n",
      "\n",
      "\n",
      "\n",
      "\n",
      "\n",
      "\n",
      "\n",
      "\n",
      "\n",
      "\n",
      "\n",
      "\n",
      "\n",
      "\n",
      "\n",
      "\n",
      "\n",
      "\n",
      "\n",
      "\n",
      "\n",
      "\n",
      "\n",
      "\n",
      "\n",
      "\n",
      "\n",
      "\n",
      "\n",
      "\n",
      "\n",
      "\n",
      "\n",
      "\n",
      "\n",
      "\n",
      "\n",
      "\n",
      "\n",
      "\n",
      "\n",
      "\n",
      "\n",
      "\n",
      "\n",
      "\n",
      "\n",
      "\n",
      "\n",
      "\n",
      "\n",
      "\n",
      "\n",
      "\n",
      "\n",
      "\n",
      "\n",
      "\n",
      "\n",
      "\n",
      "\n",
      "\n",
      "\n",
      "\n",
      "\n",
      "\n",
      "\n",
      "\n",
      "\n",
      "\n",
      "\n",
      "\n",
      "\n",
      "\n",
      "\n",
      "\n",
      "\n",
      "\n",
      "\n",
      "\n",
      "\n",
      "\n",
      "\n",
      "\n",
      "\n",
      "\n",
      "\n",
      "\n",
      "\n",
      "\n",
      "\n",
      "\n",
      "\n",
      "\n",
      "\n",
      "\n",
      "\n",
      "\n",
      "\n",
      "\n",
      "\n",
      "\n",
      "\n",
      "\n",
      "\n",
      "\n",
      "\n",
      "\n",
      "\n",
      "\n",
      "\n",
      "\n",
      "\n",
      "\n",
      "\n",
      "\n",
      "\n",
      "\n",
      "\n",
      "\n",
      "\n",
      "\n",
      "\n",
      "\n",
      "\n",
      "\n",
      "\n",
      "\n",
      "\n",
      "\n",
      "\n",
      "\n",
      "\n",
      "\n",
      "\n",
      "\n",
      "\n",
      "\n",
      "\n",
      "\n",
      "\n",
      "\n",
      "\n",
      "\n",
      "\n",
      "\n",
      "\n",
      "\n",
      "\n",
      "\n",
      "\n",
      "\n",
      "\n",
      "\n",
      "\n",
      "\n",
      "\n",
      "\n",
      "\n",
      "\n",
      "\n",
      "\n",
      "\n",
      "\n",
      "\n",
      "\n",
      "\n",
      "\n",
      "\n",
      "\n",
      "\n",
      "\n",
      "\n",
      "\n",
      "\n",
      "\n",
      "\n",
      "\n",
      "\n",
      "\n",
      "\n",
      "\n",
      "\n",
      "\n",
      "\n",
      "\n",
      "\n",
      "\n",
      "\n",
      "\n",
      "\n",
      "\n",
      "\n",
      "\n",
      "\n",
      "\n",
      "\n",
      "\n",
      "\n",
      "\n",
      "\n",
      "\n",
      "\n",
      "\n",
      "\n",
      "\n",
      "\n",
      "\n",
      "\n",
      "\n",
      "\n",
      "\n",
      "\n",
      "\n",
      "\n",
      "\n",
      "\n",
      "\n",
      "\n",
      "\n",
      "\n",
      "\n",
      "\n",
      "\n",
      "\n",
      "\n",
      "\n",
      "\n",
      "\n",
      "\n",
      "\n",
      "\n",
      "\n",
      "\n",
      "\n",
      "\n",
      "\n",
      "\n",
      "\n",
      "\n",
      "\n",
      "\n",
      "\n",
      "\n",
      "\n",
      "\n",
      "\n",
      "\n",
      "\n",
      "\n",
      "\n",
      "\n",
      "\n",
      "\n",
      "\n",
      "\n",
      "\n",
      "\n",
      "\n",
      "\n",
      "\n",
      "\n",
      "\n",
      "\n",
      "\n",
      "\n",
      "\n",
      "\n",
      "\n",
      "\n",
      "\n",
      "\n",
      "\n",
      "\n",
      "\n",
      "\n",
      "\n",
      "\n",
      "\n",
      "\n",
      "\n",
      "\n",
      "\n",
      "\n",
      "\n",
      "\n",
      "\n",
      "\n",
      "\n",
      "\n",
      "\n",
      "\n",
      "\n",
      "\n",
      "\n",
      "\n",
      "\n",
      "\n",
      "\n",
      "\n",
      "\n",
      "\n",
      "\n",
      "\n",
      "\n",
      "\n",
      "\n",
      "\n",
      "\n",
      "\n",
      "\n",
      "\n",
      "\n",
      "\n",
      "\n",
      "\n",
      "\n",
      "\n",
      "\n",
      "\n",
      "\n",
      "\n",
      "\n",
      "\n",
      "\n",
      "\n",
      "\n",
      "\n",
      "\n",
      "\n",
      "\n",
      "\n",
      "\n",
      "\n",
      "\n",
      "\n",
      "\n",
      "\n",
      "\n",
      "\n",
      "\n",
      "\n",
      "\n",
      "\n",
      "\n",
      "\n",
      "\n",
      "\n",
      "\n",
      "\n",
      "\n",
      "\n",
      "\n",
      "\n",
      "\n",
      "\n",
      "\n",
      "\n",
      "\n",
      "\n",
      "\n",
      "\n",
      "\n",
      "\n",
      "\n",
      "\n",
      "\n",
      "\n",
      "\n",
      "\n",
      "\n",
      "\n",
      "\n",
      "\n",
      "\n",
      "\n",
      "\n",
      "\n",
      "\n",
      "\n",
      "\n",
      "\n",
      "\n",
      "\n",
      "\n",
      "\n",
      "\n",
      "\n",
      "\n",
      "\n",
      "\n",
      "\n",
      "\n",
      "\n",
      "\n",
      "\n",
      "\n",
      "\n",
      "\n",
      "\n",
      "\n",
      "\n",
      "\n",
      "\n",
      "\n",
      "\n",
      "\n",
      "\n",
      "\n",
      "\n",
      "\n",
      "\n",
      "\n",
      "\n",
      "\n",
      "\n",
      "\n",
      "\n",
      "\n",
      "\n",
      "\n",
      "\n",
      "\n",
      "\n",
      "\n",
      "\n",
      "\n",
      "\n",
      "\n",
      "\n",
      "\n",
      "\n",
      "\n",
      "\n",
      "\n",
      "\n",
      "\n",
      "\n",
      "\n",
      "\n",
      "\n",
      "\n",
      "\n",
      "\n",
      "\n",
      "\n",
      "\n",
      "\n",
      "\n",
      "\n",
      "\n",
      "\n",
      "\n",
      "\n",
      "\n",
      "\n",
      "\n",
      "\n",
      "\n",
      "\n",
      "\n",
      "\n",
      "\n",
      "\n",
      "\n",
      "\n",
      "\n",
      "\n",
      "\n",
      "\n",
      "\n",
      "\n",
      "\n",
      "\n",
      "\n",
      "\n",
      "\n",
      "\n",
      "\n",
      "\n",
      "\n",
      "\n",
      "\n",
      "\n",
      "\n",
      "\n",
      "\n",
      "\n",
      "\n",
      "\n",
      "\n",
      "\n",
      "\n",
      "\n",
      "\n",
      "\n",
      "\n",
      "\n",
      "\n",
      "\n",
      "\n",
      "\n",
      "\n",
      "\n",
      "\n",
      "\n",
      "\n",
      "\n",
      "\n",
      "\n",
      "\n",
      "\n",
      "\n",
      "\n",
      "\n",
      "\n",
      "\n",
      "\n",
      "\n",
      "\n",
      "\n",
      "\n",
      "\n",
      "\n",
      "\n",
      "\n",
      "\n",
      "\n",
      "\n",
      "\n",
      "\n",
      "\n",
      "\n",
      "\n",
      "\n",
      "\n",
      "\n",
      "\n",
      "\n",
      "\n",
      "\n",
      "\n",
      "\n",
      "\n",
      "\n",
      "\n",
      "\n",
      "\n",
      "\n",
      "\n",
      "\n",
      "\n",
      "\n",
      "\n",
      "\n",
      "\n",
      "\n",
      "\n",
      "\n",
      "\n",
      "\n",
      "\n",
      "\n",
      "\n",
      "\n",
      "\n",
      "\n",
      "\n",
      "\n",
      "\n",
      "\n",
      "\n",
      "\n",
      "\n",
      "\n",
      "\n",
      "\n",
      "\n",
      "\n",
      "\n",
      "\n",
      "\n",
      "\n",
      "\n",
      "\n",
      "\n",
      "\n",
      "\n",
      "\n",
      "\n",
      "\n",
      "\n",
      "\n",
      "\n",
      "\n",
      "\n",
      "\n",
      "\n",
      "\n",
      "\n",
      "\n",
      "\n",
      "\n",
      "\n",
      "\n",
      "\n",
      "\n",
      "\n",
      "\n",
      "\n",
      "\n",
      "\n",
      "\n",
      "\n",
      "\n",
      "\n",
      "\n",
      "\n",
      "\n",
      "\n",
      "\n",
      "\n",
      "\n",
      "\n",
      "\n",
      "\n",
      "\n",
      "\n",
      "\n",
      "\n",
      "\n",
      "\n",
      "\n",
      "\n",
      "\n",
      "\n",
      "\n",
      "\n",
      "\n",
      "\n",
      "\n",
      "\n",
      "\n",
      "\n",
      "\n",
      "\n",
      "\n",
      "\n",
      "\n",
      "\n",
      "\n",
      "\n",
      "\n",
      "\n",
      "\n",
      "\n",
      "\n",
      "\n",
      "\n",
      "\n",
      "\n",
      "\n",
      "\n",
      "\n",
      "\n",
      "\n",
      "\n",
      "\n",
      "\n",
      "\n",
      "\n",
      "\n",
      "\n",
      "\n",
      "\n",
      "\n",
      "\n",
      "\n",
      "\n",
      "\n",
      "\n",
      "\n",
      "\n",
      "\n",
      "\n",
      "\n",
      "\n",
      "\n",
      "\n",
      "\n",
      "\n",
      "\n",
      "\n",
      "\n",
      "\n",
      "\n",
      "\n",
      "\n",
      "\n",
      "\n",
      "\n",
      "\n",
      "\n",
      "\n",
      "\n",
      "\n",
      "\n",
      "\n",
      "\n",
      "\n",
      "\n",
      "\n",
      "\n",
      "\n",
      "\n",
      "\n",
      "\n",
      "\n",
      "\n",
      "\n",
      "\n",
      "\n",
      "\n",
      "\n",
      "\n",
      "\n",
      "\n",
      "\n",
      "\n",
      "\n",
      "\n",
      "\n",
      "\n",
      "\n",
      "\n",
      "\n",
      "\n",
      "\n",
      "\n",
      "\n",
      "\n",
      "\n",
      "\n",
      "\n",
      "\n",
      "\n",
      "\n",
      "\n",
      "\n",
      "\n",
      "\n",
      "\n",
      "\n",
      "\n",
      "\n",
      "\n",
      "\n",
      "\n",
      "\n",
      "\n",
      "\n",
      "\n",
      "\n",
      "\n",
      "\n",
      "\n",
      "\n",
      "\n",
      "\n",
      "\n",
      "\n",
      "\n",
      "\n",
      "\n",
      "\n",
      "\n",
      "\n",
      "\n",
      "\n",
      "\n",
      "\n",
      "\n",
      "\n",
      "\n",
      "\n",
      "\n",
      "\n",
      "\n",
      "\n",
      "\n",
      "\n",
      "\n",
      "\n",
      "\n",
      "\n",
      "\n",
      "\n",
      "\n",
      "\n",
      "\n",
      "\n",
      "\n",
      "\n",
      "\n",
      "\n",
      "\n",
      "\n",
      "\n",
      "\n",
      "\n",
      "\n",
      "\n",
      "\n",
      "\n",
      "\n",
      "\n",
      "\n",
      "\n",
      "\n",
      "\n",
      "\n",
      "\n",
      "\n",
      "\n",
      "\n",
      "\n",
      "\n",
      "Before: 1000\n",
      "After: 437\n",
      "Removed 563 duplicates\n",
      "\n",
      "\n",
      "\n",
      "\n",
      "\n",
      "\n",
      "\n",
      "\n",
      "\n",
      "\n",
      "\n",
      "\n",
      "\n",
      "\n",
      "\n",
      "\n",
      "\n",
      "\n",
      "\n",
      "\n",
      "\n",
      "\n",
      "\n",
      "\n",
      "\n",
      "\n",
      "\n",
      "\n",
      "\n",
      "\n",
      "\n",
      "\n",
      "\n",
      "\n",
      "\n",
      "\n",
      "\n",
      "\n",
      "\n",
      "\n",
      "\n",
      "\n",
      "\n",
      "\n",
      "\n",
      "\n",
      "\n",
      "\n",
      "\n",
      "\n",
      "\n",
      "\n",
      "\n",
      "\n",
      "\n",
      "\n",
      "\n",
      "\n",
      "\n",
      "\n",
      "\n",
      "\n",
      "\n",
      "\n",
      "\n",
      "\n",
      "\n",
      "\n",
      "\n",
      "\n",
      "\n",
      "\n",
      "\n",
      "\n",
      "\n",
      "\n",
      "\n",
      "\n",
      "\n",
      "\n",
      "\n",
      "\n",
      "\n",
      "\n",
      "\n",
      "\n",
      "\n",
      "\n",
      "\n",
      "\n",
      "\n",
      "\n",
      "\n",
      "\n",
      "\n",
      "\n",
      "\n",
      "\n",
      "\n",
      "\n",
      "\n",
      "\n",
      "\n",
      "\n",
      "\n",
      "\n",
      "\n",
      "\n",
      "\n",
      "\n",
      "\n",
      "\n",
      "\n",
      "\n",
      "\n",
      "\n",
      "\n",
      "\n",
      "\n",
      "\n",
      "\n",
      "\n",
      "\n",
      "\n",
      "\n",
      "\n",
      "\n",
      "\n",
      "\n",
      "\n",
      "\n",
      "\n",
      "\n",
      "\n",
      "\n",
      "\n",
      "\n",
      "\n",
      "\n",
      "\n",
      "\n",
      "\n",
      "\n",
      "\n",
      "\n",
      "\n",
      "\n",
      "\n",
      "\n",
      "\n",
      "\n",
      "\n",
      "\n",
      "\n",
      "\n",
      "\n",
      "\n",
      "\n",
      "\n",
      "\n",
      "\n",
      "\n",
      "\n",
      "\n",
      "\n",
      "\n",
      "\n",
      "\n",
      "\n",
      "\n",
      "\n",
      "\n",
      "\n",
      "\n",
      "\n",
      "\n",
      "\n",
      "\n",
      "\n",
      "\n",
      "\n",
      "\n",
      "\n",
      "\n",
      "\n",
      "\n",
      "\n",
      "\n",
      "\n",
      "\n",
      "\n",
      "\n",
      "\n",
      "\n",
      "\n",
      "\n",
      "\n",
      "\n",
      "\n",
      "\n",
      "\n",
      "\n",
      "\n",
      "\n",
      "\n",
      "\n",
      "\n",
      "\n",
      "\n",
      "\n",
      "\n",
      "\n",
      "\n",
      "\n",
      "\n",
      "\n",
      "\n",
      "\n",
      "\n",
      "\n",
      "\n",
      "\n",
      "\n",
      "\n",
      "\n",
      "\n",
      "\n",
      "\n",
      "\n",
      "\n",
      "\n",
      "\n",
      "\n",
      "\n",
      "\n",
      "\n",
      "\n",
      "\n",
      "\n",
      "\n",
      "\n",
      "\n",
      "\n",
      "\n",
      "\n",
      "\n",
      "\n",
      "\n",
      "\n",
      "\n",
      "\n",
      "\n",
      "\n",
      "\n",
      "\n",
      "\n",
      "\n",
      "\n",
      "\n",
      "\n",
      "\n",
      "\n",
      "\n",
      "\n",
      "\n",
      "\n",
      "\n",
      "\n",
      "\n",
      "\n",
      "\n",
      "\n",
      "\n",
      "\n",
      "\n",
      "\n",
      "\n",
      "\n",
      "\n",
      "\n",
      "\n",
      "\n",
      "\n",
      "\n",
      "\n",
      "\n",
      "\n",
      "\n",
      "\n",
      "\n",
      "\n",
      "\n",
      "\n",
      "\n",
      "\n",
      "\n",
      "\n",
      "\n",
      "\n",
      "\n",
      "\n",
      "\n",
      "\n",
      "\n",
      "\n",
      "\n",
      "\n",
      "\n",
      "\n",
      "\n",
      "\n",
      "\n",
      "\n",
      "\n",
      "\n",
      "\n",
      "\n",
      "\n",
      "\n",
      "\n",
      "\n",
      "\n",
      "\n",
      "\n",
      "\n",
      "\n",
      "\n",
      "\n",
      "\n",
      "\n",
      "\n",
      "\n",
      "\n",
      "\n",
      "\n",
      "\n",
      "\n",
      "\n",
      "\n",
      "\n",
      "\n",
      "\n",
      "\n",
      "\n",
      "\n",
      "\n",
      "\n",
      "\n",
      "\n",
      "\n",
      "\n",
      "\n",
      "\n",
      "\n",
      "\n",
      "\n",
      "\n",
      "\n",
      "\n",
      "\n",
      "\n",
      "\n",
      "\n",
      "\n",
      "\n",
      "\n",
      "\n",
      "\n",
      "\n",
      "\n",
      "\n",
      "\n",
      "\n",
      "\n",
      "\n",
      "\n",
      "\n",
      "\n",
      "\n",
      "\n",
      "\n",
      "\n",
      "\n",
      "\n",
      "\n",
      "\n",
      "\n",
      "\n",
      "\n",
      "\n",
      "\n",
      "\n",
      "\n",
      "\n",
      "\n",
      "\n",
      "\n",
      "\n",
      "\n",
      "\n",
      "\n",
      "\n",
      "\n",
      "\n",
      "\n",
      "\n",
      "\n",
      "\n",
      "\n",
      "\n",
      "\n",
      "\n",
      "\n",
      "\n",
      "\n",
      "\n",
      "\n",
      "\n",
      "\n",
      "\n",
      "\n",
      "\n",
      "\n",
      "\n",
      "\n",
      "\n",
      "\n",
      "\n",
      "\n",
      "\n",
      "\n",
      "\n",
      "\n",
      "\n",
      "\n",
      "\n",
      "\n",
      "\n",
      "\n",
      "\n",
      "\n",
      "\n",
      "\n",
      "\n",
      "\n",
      "\n",
      "\n",
      "\n",
      "\n",
      "\n",
      "\n",
      "\n",
      "\n",
      "\n",
      "\n",
      "\n",
      "\n",
      "\n",
      "\n",
      "\n",
      "\n",
      "\n",
      "\n",
      "\n",
      "\n",
      "\n",
      "\n",
      "\n",
      "\n",
      "\n",
      "\n",
      "\n",
      "\n",
      "\n",
      "\n",
      "\n",
      "\n",
      "\n",
      "\n",
      "\n",
      "\n",
      "\n",
      "\n",
      "\n",
      "\n",
      "\n",
      "\n",
      "\n",
      "\n",
      "\n",
      "\n",
      "\n",
      "\n",
      "\n",
      "\n",
      "\n",
      "\n",
      "\n",
      "\n",
      "\n",
      "\n",
      "\n",
      "\n",
      "\n",
      "\n",
      "\n",
      "\n",
      "\n",
      "\n",
      "\n",
      "\n",
      "\n",
      "\n",
      "\n",
      "\n",
      "\n",
      "\n",
      "\n",
      "\n",
      "\n",
      "\n",
      "\n",
      "\n",
      "\n",
      "\n",
      "\n",
      "\n",
      "\n",
      "\n",
      "\n",
      "\n",
      "\n",
      "\n",
      "\n",
      "\n",
      "\n",
      "\n",
      "\n",
      "\n",
      "\n",
      "\n",
      "\n",
      "\n",
      "\n",
      "\n",
      "\n",
      "\n",
      "\n",
      "\n",
      "\n",
      "\n",
      "\n",
      "\n",
      "\n",
      "\n",
      "\n",
      "\n",
      "\n",
      "\n",
      "\n",
      "\n",
      "\n",
      "\n",
      "\n",
      "\n",
      "\n",
      "\n",
      "\n",
      "\n",
      "\n",
      "\n",
      "\n",
      "\n",
      "\n",
      "\n",
      "\n",
      "\n",
      "\n",
      "\n",
      "\n",
      "\n",
      "\n",
      "\n",
      "\n",
      "\n",
      "\n",
      "\n",
      "\n",
      "\n",
      "\n",
      "\n",
      "\n",
      "\n",
      "\n",
      "\n",
      "\n",
      "\n",
      "\n",
      "\n",
      "\n",
      "\n",
      "\n",
      "\n",
      "\n",
      "\n",
      "\n",
      "\n",
      "\n",
      "\n",
      "\n",
      "\n",
      "\n",
      "\n",
      "\n",
      "\n",
      "\n",
      "\n",
      "\n",
      "\n",
      "\n",
      "\n",
      "\n",
      "\n",
      "\n",
      "\n",
      "\n",
      "\n",
      "\n",
      "\n",
      "\n",
      "\n",
      "\n",
      "\n",
      "\n",
      "\n",
      "\n",
      "\n",
      "\n",
      "\n",
      "\n",
      "\n",
      "\n",
      "\n",
      "\n",
      "\n",
      "\n",
      "\n",
      "\n",
      "\n",
      "\n",
      "\n",
      "\n",
      "\n",
      "\n",
      "\n",
      "\n",
      "\n",
      "\n",
      "\n",
      "\n",
      "\n",
      "\n",
      "\n",
      "\n",
      "\n",
      "\n",
      "\n",
      "\n",
      "\n",
      "\n",
      "\n",
      "\n",
      "\n",
      "\n",
      "\n",
      "\n",
      "\n",
      "\n",
      "\n",
      "\n",
      "\n",
      "\n",
      "\n",
      "\n",
      "\n",
      "\n",
      "\n",
      "\n",
      "\n",
      "\n",
      "\n",
      "\n",
      "\n",
      "\n",
      "\n",
      "\n",
      "\n",
      "\n",
      "\n",
      "\n",
      "\n",
      "\n",
      "\n",
      "\n",
      "\n",
      "\n",
      "\n",
      "\n",
      "\n",
      "\n",
      "\n",
      "\n",
      "\n",
      "\n",
      "\n",
      "\n",
      "\n",
      "\n",
      "\n",
      "\n",
      "\n",
      "\n",
      "\n",
      "\n",
      "\n",
      "\n",
      "\n",
      "\n",
      "\n",
      "\n",
      "\n",
      "\n",
      "\n",
      "\n",
      "\n",
      "\n",
      "\n",
      "\n",
      "\n",
      "\n",
      "\n",
      "\n",
      "\n",
      "\n",
      "\n",
      "\n",
      "\n",
      "\n",
      "\n",
      "\n",
      "\n",
      "\n",
      "\n",
      "\n",
      "\n",
      "\n",
      "\n",
      "\n",
      "\n",
      "\n",
      "\n",
      "\n",
      "\n",
      "\n",
      "\n",
      "\n",
      "\n",
      "\n",
      "\n",
      "\n",
      "\n",
      "\n",
      "\n",
      "\n",
      "\n",
      "\n",
      "\n",
      "\n",
      "\n",
      "\n",
      "\n",
      "\n",
      "\n",
      "\n",
      "\n",
      "\n",
      "\n",
      "\n",
      "\n",
      "\n",
      "\n",
      "\n",
      "\n",
      "\n",
      "\n",
      "\n",
      "\n",
      "\n",
      "\n",
      "\n",
      "\n",
      "\n",
      "\n",
      "\n",
      "\n",
      "\n",
      "\n",
      "\n",
      "\n",
      "\n",
      "\n",
      "\n",
      "\n",
      "\n",
      "\n",
      "\n",
      "\n",
      "\n",
      "\n",
      "\n",
      "\n",
      "\n",
      "\n",
      "\n",
      "\n",
      "\n",
      "\n",
      "\n",
      "\n",
      "\n",
      "\n",
      "\n",
      "\n",
      "\n",
      "\n",
      "\n",
      "\n",
      "\n",
      "\n",
      "\n",
      "\n",
      "\n",
      "\n",
      "\n",
      "\n",
      "\n",
      "\n",
      "\n",
      "\n",
      "\n",
      "\n",
      "\n",
      "\n",
      "\n",
      "\n",
      "\n",
      "\n",
      "\n",
      "\n",
      "\n",
      "\n",
      "\n",
      "\n",
      "\n",
      "\n",
      "\n",
      "\n",
      "\n",
      "\n",
      "\n",
      "\n",
      "\n",
      "\n",
      "\n",
      "\n",
      "\n",
      "\n",
      "\n",
      "\n",
      "\n",
      "\n",
      "\n",
      "\n",
      "\n",
      "\n",
      "\n",
      "\n",
      "\n",
      "\n",
      "\n",
      "\n",
      "\n",
      "\n",
      "\n",
      "\n",
      "\n",
      "\n",
      "\n",
      "\n",
      "\n",
      "\n",
      "\n",
      "\n",
      "\n",
      "\n",
      "\n",
      "\n",
      "\n",
      "\n",
      "\n",
      "\n",
      "\n",
      "\n",
      "\n",
      "\n",
      "\n",
      "\n",
      "\n",
      "\n",
      "\n",
      "\n",
      "\n",
      "\n",
      "\n",
      "\n",
      "\n",
      "\n",
      "\n",
      "\n",
      "\n",
      "\n",
      "\n",
      "\n",
      "\n",
      "\n",
      "\n",
      "\n",
      "\n",
      "\n",
      "\n",
      "\n",
      "\n",
      "\n",
      "\n",
      "\n",
      "\n",
      "\n",
      "\n",
      "\n",
      "\n",
      "\n",
      "\n",
      "\n",
      "\n",
      "\n",
      "\n",
      "\n",
      "\n",
      "\n",
      "\n",
      "\n",
      "\n",
      "\n",
      "\n",
      "\n",
      "\n",
      "\n",
      "\n",
      "\n",
      "\n",
      "\n",
      "\n",
      "\n",
      "\n",
      "\n",
      "\n",
      "\n",
      "\n",
      "\n",
      "\n",
      "\n",
      "\n",
      "\n",
      "\n",
      "\n",
      "\n",
      "\n",
      "\n",
      "\n",
      "\n",
      "\n",
      "\n",
      "\n",
      "\n",
      "\n",
      "\n",
      "\n",
      "\n",
      "\n",
      "\n",
      "Before: 1437\n",
      "After: 738\n",
      "Removed 699 duplicates\n",
      "738 unique cities found!\n"
     ]
    }
   ],
   "source": [
    "cities = []\n",
    "# loop until there are over 500 unique cities\n",
    "while (len(cities) < 500):\n",
    "    # get list of random lat and lng\n",
    "    lats = np.random.randint(low=-90, high=90, size=1000)\n",
    "    lons = np.random.randint(low=-180, high=180, size=1000)\n",
    "\n",
    "    # convert to list\n",
    "    lats = lats.tolist()\n",
    "    lons = lons.tolist()\n",
    "\n",
    "    # get list of cities\n",
    "    for i in range(len(lats)):\n",
    "        city = citipy.nearest_city(lats[i], lons[i])\n",
    "        print()\n",
    "        cities.append(city.city_name)\n",
    "\n",
    "    # remove duplicates\n",
    "    print('Before: ' + str(len(cities)))\n",
    "    before = len(cities)\n",
    "    cities = list(set(cities))\n",
    "    print('After: ' + str(len(cities)))\n",
    "    after = len(cities)\n",
    "    print('Removed ' + str(before - after) + ' duplicates')\n",
    "    \n",
    "print(str(len(cities)) + ' unique cities found!')"
   ]
  },
  {
   "cell_type": "code",
   "execution_count": 8,
   "metadata": {},
   "outputs": [
    {
     "data": {
      "text/plain": [
       "int"
      ]
     },
     "execution_count": 8,
     "metadata": {},
     "output_type": "execute_result"
    }
   ],
   "source": [
    "type(lats[2])"
   ]
  },
  {
   "cell_type": "code",
   "execution_count": 9,
   "metadata": {},
   "outputs": [
    {
     "name": "stderr",
     "output_type": "stream",
     "text": [
      "\r",
      "                                                                               \r",
      "\r",
      "N/A% (0 of 738) |                        | Elapsed Time: 0:00:00 ETA:  --:--:--"
     ]
    },
    {
     "name": "stdout",
     "output_type": "stream",
     "text": [
      "http://api.openweathermap.org/data/2.5/weather?appid=03b66fb88de8694398153caaae511ea5&q=san martin&units=imperial\n"
     ]
    },
    {
     "name": "stderr",
     "output_type": "stream",
     "text": [
      "\r",
      "                                                                               \r",
      "\r",
      "  0% (1 of 738) |                        | Elapsed Time: 0:00:00 ETA:   0:06:23"
     ]
    },
    {
     "name": "stdout",
     "output_type": "stream",
     "text": [
      "http://api.openweathermap.org/data/2.5/weather?appid=03b66fb88de8694398153caaae511ea5&q=tucuman&units=imperial\n"
     ]
    },
    {
     "name": "stderr",
     "output_type": "stream",
     "text": [
      "\r",
      "                                                                               \r",
      "\r",
      "  0% (2 of 738) |                        | Elapsed Time: 0:00:00 ETA:   0:04:40"
     ]
    },
    {
     "name": "stdout",
     "output_type": "stream",
     "text": [
      "http://api.openweathermap.org/data/2.5/weather?appid=03b66fb88de8694398153caaae511ea5&q=tabuk&units=imperial\n"
     ]
    },
    {
     "name": "stderr",
     "output_type": "stream",
     "text": [
      "  0% (4 of 738) |                        | Elapsed Time: 0:00:01 ETA:   0:03:38"
     ]
    },
    {
     "name": "stdout",
     "output_type": "stream",
     "text": [
      "http://api.openweathermap.org/data/2.5/weather?appid=03b66fb88de8694398153caaae511ea5&q=aflu&units=imperial\n",
      "http://api.openweathermap.org/data/2.5/weather?appid=03b66fb88de8694398153caaae511ea5&q=pierre&units=imperial\n"
     ]
    },
    {
     "name": "stderr",
     "output_type": "stream",
     "text": [
      "  0% (6 of 738) |                        | Elapsed Time: 0:00:01 ETA:   0:02:59"
     ]
    },
    {
     "name": "stdout",
     "output_type": "stream",
     "text": [
      "http://api.openweathermap.org/data/2.5/weather?appid=03b66fb88de8694398153caaae511ea5&q=juneau&units=imperial\n",
      "http://api.openweathermap.org/data/2.5/weather?appid=03b66fb88de8694398153caaae511ea5&q=rosetta&units=imperial\n"
     ]
    },
    {
     "name": "stderr",
     "output_type": "stream",
     "text": [
      "  1% (8 of 738) |                        | Elapsed Time: 0:00:01 ETA:   0:02:54"
     ]
    },
    {
     "name": "stdout",
     "output_type": "stream",
     "text": [
      "http://api.openweathermap.org/data/2.5/weather?appid=03b66fb88de8694398153caaae511ea5&q=belmonte&units=imperial\n",
      "http://api.openweathermap.org/data/2.5/weather?appid=03b66fb88de8694398153caaae511ea5&q=vanimo&units=imperial\n"
     ]
    },
    {
     "name": "stderr",
     "output_type": "stream",
     "text": [
      "\r",
      "                                                                               \r",
      "\r",
      "  1% (9 of 738) |                        | Elapsed Time: 0:00:02 ETA:   0:02:55"
     ]
    },
    {
     "name": "stdout",
     "output_type": "stream",
     "text": [
      "http://api.openweathermap.org/data/2.5/weather?appid=03b66fb88de8694398153caaae511ea5&q=hami&units=imperial\n"
     ]
    },
    {
     "name": "stderr",
     "output_type": "stream",
     "text": [
      "  1% (11 of 738) |                       | Elapsed Time: 0:00:02 ETA:   0:02:28"
     ]
    },
    {
     "name": "stdout",
     "output_type": "stream",
     "text": [
      "http://api.openweathermap.org/data/2.5/weather?appid=03b66fb88de8694398153caaae511ea5&q=vaitupu&units=imperial\n",
      "http://api.openweathermap.org/data/2.5/weather?appid=03b66fb88de8694398153caaae511ea5&q=tuktoyaktuk&units=imperial\n"
     ]
    },
    {
     "name": "stderr",
     "output_type": "stream",
     "text": [
      "  1% (13 of 738) |                       | Elapsed Time: 0:00:02 ETA:   0:02:19"
     ]
    },
    {
     "name": "stdout",
     "output_type": "stream",
     "text": [
      "http://api.openweathermap.org/data/2.5/weather?appid=03b66fb88de8694398153caaae511ea5&q=krasnoselkup&units=imperial\n",
      "http://api.openweathermap.org/data/2.5/weather?appid=03b66fb88de8694398153caaae511ea5&q=chokurdakh&units=imperial\n"
     ]
    },
    {
     "name": "stderr",
     "output_type": "stream",
     "text": [
      "\r",
      "                                                                               \r",
      "\r",
      "  1% (14 of 738) |                       | Elapsed Time: 0:00:03 ETA:   0:02:16"
     ]
    },
    {
     "name": "stdout",
     "output_type": "stream",
     "text": [
      "http://api.openweathermap.org/data/2.5/weather?appid=03b66fb88de8694398153caaae511ea5&q=wattegama&units=imperial\n"
     ]
    },
    {
     "name": "stderr",
     "output_type": "stream",
     "text": [
      "  2% (16 of 738) |                       | Elapsed Time: 0:00:03 ETA:   0:02:19"
     ]
    },
    {
     "name": "stdout",
     "output_type": "stream",
     "text": [
      "http://api.openweathermap.org/data/2.5/weather?appid=03b66fb88de8694398153caaae511ea5&q=tiznit&units=imperial\n",
      "http://api.openweathermap.org/data/2.5/weather?appid=03b66fb88de8694398153caaae511ea5&q=new norfolk&units=imperial\n"
     ]
    },
    {
     "name": "stderr",
     "output_type": "stream",
     "text": [
      "\r",
      "                                                                               \r",
      "\r",
      "  2% (17 of 738) |                       | Elapsed Time: 0:00:03 ETA:   0:02:19"
     ]
    },
    {
     "name": "stdout",
     "output_type": "stream",
     "text": [
      "http://api.openweathermap.org/data/2.5/weather?appid=03b66fb88de8694398153caaae511ea5&q=zhigansk&units=imperial\n"
     ]
    },
    {
     "name": "stderr",
     "output_type": "stream",
     "text": [
      "\r",
      "                                                                               \r",
      "\r",
      "  2% (18 of 738) |                       | Elapsed Time: 0:00:03 ETA:   0:02:17"
     ]
    },
    {
     "name": "stdout",
     "output_type": "stream",
     "text": [
      "http://api.openweathermap.org/data/2.5/weather?appid=03b66fb88de8694398153caaae511ea5&q=saquena&units=imperial\n"
     ]
    },
    {
     "name": "stderr",
     "output_type": "stream",
     "text": [
      "  2% (20 of 738) |                       | Elapsed Time: 0:00:04 ETA:   0:02:18"
     ]
    },
    {
     "name": "stdout",
     "output_type": "stream",
     "text": [
      "http://api.openweathermap.org/data/2.5/weather?appid=03b66fb88de8694398153caaae511ea5&q=kaitangata&units=imperial\n",
      "http://api.openweathermap.org/data/2.5/weather?appid=03b66fb88de8694398153caaae511ea5&q=tazovskiy&units=imperial\n"
     ]
    },
    {
     "name": "stderr",
     "output_type": "stream",
     "text": [
      "  2% (22 of 738) |                       | Elapsed Time: 0:00:04 ETA:   0:02:12"
     ]
    },
    {
     "name": "stdout",
     "output_type": "stream",
     "text": [
      "http://api.openweathermap.org/data/2.5/weather?appid=03b66fb88de8694398153caaae511ea5&q=naze&units=imperial\n",
      "http://api.openweathermap.org/data/2.5/weather?appid=03b66fb88de8694398153caaae511ea5&q=manzhouli&units=imperial\n"
     ]
    },
    {
     "name": "stderr",
     "output_type": "stream",
     "text": [
      "\r",
      "                                                                               \r",
      "\r",
      "  3% (23 of 738) |                       | Elapsed Time: 0:00:04 ETA:   0:02:10"
     ]
    },
    {
     "name": "stdout",
     "output_type": "stream",
     "text": [
      "http://api.openweathermap.org/data/2.5/weather?appid=03b66fb88de8694398153caaae511ea5&q=bastrop&units=imperial\n"
     ]
    },
    {
     "name": "stderr",
     "output_type": "stream",
     "text": [
      "  3% (25 of 738) |                       | Elapsed Time: 0:00:05 ETA:   0:02:17"
     ]
    },
    {
     "name": "stdout",
     "output_type": "stream",
     "text": [
      "http://api.openweathermap.org/data/2.5/weather?appid=03b66fb88de8694398153caaae511ea5&q=leningradskiy&units=imperial\n",
      "http://api.openweathermap.org/data/2.5/weather?appid=03b66fb88de8694398153caaae511ea5&q=constitucion&units=imperial\n"
     ]
    },
    {
     "name": "stderr",
     "output_type": "stream",
     "text": [
      "\r",
      "                                                                               \r",
      "\r",
      "  3% (26 of 738) |                       | Elapsed Time: 0:00:05 ETA:   0:02:14"
     ]
    },
    {
     "name": "stdout",
     "output_type": "stream",
     "text": [
      "http://api.openweathermap.org/data/2.5/weather?appid=03b66fb88de8694398153caaae511ea5&q=mahibadhoo&units=imperial\n"
     ]
    },
    {
     "name": "stderr",
     "output_type": "stream",
     "text": [
      "\r",
      "                                                                               \r",
      "\r",
      "  3% (27 of 738) |                       | Elapsed Time: 0:00:05 ETA:   0:02:15"
     ]
    },
    {
     "name": "stdout",
     "output_type": "stream",
     "text": [
      "http://api.openweathermap.org/data/2.5/weather?appid=03b66fb88de8694398153caaae511ea5&q=svetlogorsk&units=imperial\n"
     ]
    },
    {
     "name": "stderr",
     "output_type": "stream",
     "text": [
      "\r",
      "                                                                               \r",
      "\r",
      "  3% (28 of 738) |                       | Elapsed Time: 0:00:05 ETA:   0:02:22"
     ]
    },
    {
     "name": "stdout",
     "output_type": "stream",
     "text": [
      "http://api.openweathermap.org/data/2.5/weather?appid=03b66fb88de8694398153caaae511ea5&q=champerico&units=imperial\n"
     ]
    },
    {
     "name": "stderr",
     "output_type": "stream",
     "text": [
      "\r",
      "                                                                               \r",
      "\r",
      "  3% (29 of 738) |                       | Elapsed Time: 0:00:06 ETA:   0:02:21"
     ]
    },
    {
     "name": "stdout",
     "output_type": "stream",
     "text": [
      "http://api.openweathermap.org/data/2.5/weather?appid=03b66fb88de8694398153caaae511ea5&q=akcakoca&units=imperial\n"
     ]
    },
    {
     "name": "stderr",
     "output_type": "stream",
     "text": [
      "\r",
      "                                                                               \r",
      "\r",
      "  4% (30 of 738) |                       | Elapsed Time: 0:00:06 ETA:   0:02:23"
     ]
    },
    {
     "name": "stdout",
     "output_type": "stream",
     "text": [
      "http://api.openweathermap.org/data/2.5/weather?appid=03b66fb88de8694398153caaae511ea5&q=santa cruz del sur&units=imperial\n"
     ]
    },
    {
     "name": "stderr",
     "output_type": "stream",
     "text": [
      "\r",
      "                                                                               \r",
      "\r",
      "  4% (31 of 738) |                       | Elapsed Time: 0:00:06 ETA:   0:02:30"
     ]
    },
    {
     "name": "stdout",
     "output_type": "stream",
     "text": [
      "http://api.openweathermap.org/data/2.5/weather?appid=03b66fb88de8694398153caaae511ea5&q=miguel hidalgo&units=imperial\n"
     ]
    },
    {
     "name": "stderr",
     "output_type": "stream",
     "text": [
      "\r",
      "                                                                               \r",
      "\r",
      "  4% (32 of 738) |                       | Elapsed Time: 0:00:06 ETA:   0:02:48"
     ]
    },
    {
     "name": "stdout",
     "output_type": "stream",
     "text": [
      "http://api.openweathermap.org/data/2.5/weather?appid=03b66fb88de8694398153caaae511ea5&q=mitrofanovka&units=imperial\n"
     ]
    },
    {
     "name": "stderr",
     "output_type": "stream",
     "text": [
      "\r",
      "                                                                               \r",
      "\r",
      "  4% (33 of 738) |#                      | Elapsed Time: 0:00:07 ETA:   0:02:47"
     ]
    },
    {
     "name": "stdout",
     "output_type": "stream",
     "text": [
      "http://api.openweathermap.org/data/2.5/weather?appid=03b66fb88de8694398153caaae511ea5&q=azimur&units=imperial\n"
     ]
    },
    {
     "name": "stderr",
     "output_type": "stream",
     "text": [
      "\r",
      "                                                                               \r",
      "\r",
      "  4% (34 of 738) |#                      | Elapsed Time: 0:00:07 ETA:   0:03:07"
     ]
    },
    {
     "name": "stdout",
     "output_type": "stream",
     "text": [
      "http://api.openweathermap.org/data/2.5/weather?appid=03b66fb88de8694398153caaae511ea5&q=surt&units=imperial\n"
     ]
    },
    {
     "name": "stderr",
     "output_type": "stream",
     "text": [
      "\r",
      "                                                                               \r",
      "\r",
      "  4% (35 of 738) |#                      | Elapsed Time: 0:00:07 ETA:   0:03:06"
     ]
    },
    {
     "name": "stdout",
     "output_type": "stream",
     "text": [
      "http://api.openweathermap.org/data/2.5/weather?appid=03b66fb88de8694398153caaae511ea5&q=ahuimanu&units=imperial\n"
     ]
    },
    {
     "name": "stderr",
     "output_type": "stream",
     "text": [
      "  5% (37 of 738) |#                      | Elapsed Time: 0:00:08 ETA:   0:02:55"
     ]
    },
    {
     "name": "stdout",
     "output_type": "stream",
     "text": [
      "http://api.openweathermap.org/data/2.5/weather?appid=03b66fb88de8694398153caaae511ea5&q=east london&units=imperial\n",
      "http://api.openweathermap.org/data/2.5/weather?appid=03b66fb88de8694398153caaae511ea5&q=punta arenas&units=imperial\n"
     ]
    },
    {
     "name": "stderr",
     "output_type": "stream",
     "text": [
      "  5% (39 of 738) |#                      | Elapsed Time: 0:00:08 ETA:   0:02:38"
     ]
    },
    {
     "name": "stdout",
     "output_type": "stream",
     "text": [
      "http://api.openweathermap.org/data/2.5/weather?appid=03b66fb88de8694398153caaae511ea5&q=hualmay&units=imperial\n",
      "http://api.openweathermap.org/data/2.5/weather?appid=03b66fb88de8694398153caaae511ea5&q=port-gentil&units=imperial\n"
     ]
    },
    {
     "name": "stderr",
     "output_type": "stream",
     "text": [
      "  5% (41 of 738) |#                      | Elapsed Time: 0:00:08 ETA:   0:02:23"
     ]
    },
    {
     "name": "stdout",
     "output_type": "stream",
     "text": [
      "http://api.openweathermap.org/data/2.5/weather?appid=03b66fb88de8694398153caaae511ea5&q=vanavara&units=imperial\n",
      "http://api.openweathermap.org/data/2.5/weather?appid=03b66fb88de8694398153caaae511ea5&q=sabang&units=imperial\n"
     ]
    },
    {
     "name": "stderr",
     "output_type": "stream",
     "text": [
      "\r",
      "                                                                               \r",
      "\r",
      "  5% (42 of 738) |#                      | Elapsed Time: 0:00:08 ETA:   0:02:20"
     ]
    },
    {
     "name": "stdout",
     "output_type": "stream",
     "text": [
      "http://api.openweathermap.org/data/2.5/weather?appid=03b66fb88de8694398153caaae511ea5&q=saint-andre-les-vergers&units=imperial\n"
     ]
    },
    {
     "name": "stderr",
     "output_type": "stream",
     "text": [
      "\r",
      "                                                                               \r",
      "\r",
      "  5% (43 of 738) |#                      | Elapsed Time: 0:00:09 ETA:   0:02:16"
     ]
    },
    {
     "name": "stdout",
     "output_type": "stream",
     "text": [
      "http://api.openweathermap.org/data/2.5/weather?appid=03b66fb88de8694398153caaae511ea5&q=haines junction&units=imperial\n"
     ]
    },
    {
     "name": "stderr",
     "output_type": "stream",
     "text": [
      "\r",
      "                                                                               \r",
      "\r",
      "  5% (44 of 738) |#                      | Elapsed Time: 0:00:09 ETA:   0:02:15"
     ]
    },
    {
     "name": "stdout",
     "output_type": "stream",
     "text": [
      "http://api.openweathermap.org/data/2.5/weather?appid=03b66fb88de8694398153caaae511ea5&q=barguzin&units=imperial\n"
     ]
    },
    {
     "name": "stderr",
     "output_type": "stream",
     "text": [
      "  6% (46 of 738) |#                      | Elapsed Time: 0:00:09 ETA:   0:02:08"
     ]
    },
    {
     "name": "stdout",
     "output_type": "stream",
     "text": [
      "http://api.openweathermap.org/data/2.5/weather?appid=03b66fb88de8694398153caaae511ea5&q=novoilinsk&units=imperial\n",
      "http://api.openweathermap.org/data/2.5/weather?appid=03b66fb88de8694398153caaae511ea5&q=jesup&units=imperial\n"
     ]
    },
    {
     "name": "stderr",
     "output_type": "stream",
     "text": [
      "\r",
      "                                                                               \r",
      "\r",
      "  6% (47 of 738) |#                      | Elapsed Time: 0:00:09 ETA:   0:02:06"
     ]
    },
    {
     "name": "stdout",
     "output_type": "stream",
     "text": [
      "http://api.openweathermap.org/data/2.5/weather?appid=03b66fb88de8694398153caaae511ea5&q=turukhansk&units=imperial\n"
     ]
    },
    {
     "name": "stderr",
     "output_type": "stream",
     "text": [
      "\r",
      "                                                                               \r",
      "\r",
      "  6% (48 of 738) |#                      | Elapsed Time: 0:00:10 ETA:   0:02:22"
     ]
    },
    {
     "name": "stdout",
     "output_type": "stream",
     "text": [
      "http://api.openweathermap.org/data/2.5/weather?appid=03b66fb88de8694398153caaae511ea5&q=kjollefjord&units=imperial\n"
     ]
    },
    {
     "name": "stderr",
     "output_type": "stream",
     "text": [
      "  6% (50 of 738) |#                      | Elapsed Time: 0:00:10 ETA:   0:02:36"
     ]
    },
    {
     "name": "stdout",
     "output_type": "stream",
     "text": [
      "http://api.openweathermap.org/data/2.5/weather?appid=03b66fb88de8694398153caaae511ea5&q=pochutla&units=imperial\n",
      "http://api.openweathermap.org/data/2.5/weather?appid=03b66fb88de8694398153caaae511ea5&q=awjilah&units=imperial\n"
     ]
    },
    {
     "name": "stderr",
     "output_type": "stream",
     "text": [
      "  7% (52 of 738) |#                      | Elapsed Time: 0:00:10 ETA:   0:02:28"
     ]
    },
    {
     "name": "stdout",
     "output_type": "stream",
     "text": [
      "http://api.openweathermap.org/data/2.5/weather?appid=03b66fb88de8694398153caaae511ea5&q=puerto ayora&units=imperial\n",
      "http://api.openweathermap.org/data/2.5/weather?appid=03b66fb88de8694398153caaae511ea5&q=hakkari&units=imperial\n"
     ]
    },
    {
     "name": "stderr",
     "output_type": "stream",
     "text": [
      "\r",
      "                                                                               \r",
      "\r",
      "  7% (53 of 738) |#                      | Elapsed Time: 0:00:11 ETA:   0:02:30"
     ]
    },
    {
     "name": "stdout",
     "output_type": "stream",
     "text": [
      "http://api.openweathermap.org/data/2.5/weather?appid=03b66fb88de8694398153caaae511ea5&q=wawa&units=imperial\n"
     ]
    },
    {
     "name": "stderr",
     "output_type": "stream",
     "text": [
      "\r",
      "                                                                               \r",
      "\r",
      "  7% (54 of 738) |#                      | Elapsed Time: 0:00:11 ETA:   0:02:31"
     ]
    },
    {
     "name": "stdout",
     "output_type": "stream",
     "text": [
      "http://api.openweathermap.org/data/2.5/weather?appid=03b66fb88de8694398153caaae511ea5&q=miandrivazo&units=imperial\n"
     ]
    },
    {
     "name": "stderr",
     "output_type": "stream",
     "text": [
      "  7% (56 of 738) |#                      | Elapsed Time: 0:00:11 ETA:   0:02:35"
     ]
    },
    {
     "name": "stdout",
     "output_type": "stream",
     "text": [
      "http://api.openweathermap.org/data/2.5/weather?appid=03b66fb88de8694398153caaae511ea5&q=ayer itam&units=imperial\n",
      "http://api.openweathermap.org/data/2.5/weather?appid=03b66fb88de8694398153caaae511ea5&q=attawapiskat&units=imperial\n"
     ]
    },
    {
     "name": "stderr",
     "output_type": "stream",
     "text": [
      "\r",
      "                                                                               \r",
      "\r",
      "  7% (57 of 738) |#                      | Elapsed Time: 0:00:12 ETA:   0:02:29"
     ]
    },
    {
     "name": "stdout",
     "output_type": "stream",
     "text": [
      "http://api.openweathermap.org/data/2.5/weather?appid=03b66fb88de8694398153caaae511ea5&q=ballina&units=imperial\n"
     ]
    },
    {
     "name": "stderr",
     "output_type": "stream",
     "text": [
      "  7% (59 of 738) |#                      | Elapsed Time: 0:00:12 ETA:   0:02:17"
     ]
    },
    {
     "name": "stdout",
     "output_type": "stream",
     "text": [
      "http://api.openweathermap.org/data/2.5/weather?appid=03b66fb88de8694398153caaae511ea5&q=san patricio&units=imperial\n",
      "http://api.openweathermap.org/data/2.5/weather?appid=03b66fb88de8694398153caaae511ea5&q=ibate&units=imperial\n"
     ]
    },
    {
     "name": "stderr",
     "output_type": "stream",
     "text": [
      "\r",
      "                                                                               \r",
      "\r",
      "  8% (60 of 738) |#                      | Elapsed Time: 0:00:12 ETA:   0:02:25"
     ]
    },
    {
     "name": "stdout",
     "output_type": "stream",
     "text": [
      "http://api.openweathermap.org/data/2.5/weather?appid=03b66fb88de8694398153caaae511ea5&q=meaux&units=imperial\n"
     ]
    },
    {
     "name": "stderr",
     "output_type": "stream",
     "text": [
      "\r",
      "                                                                               \r",
      "\r",
      "  8% (61 of 738) |#                      | Elapsed Time: 0:00:13 ETA:   0:02:40"
     ]
    },
    {
     "name": "stdout",
     "output_type": "stream",
     "text": [
      "http://api.openweathermap.org/data/2.5/weather?appid=03b66fb88de8694398153caaae511ea5&q=spring hill&units=imperial\n"
     ]
    },
    {
     "name": "stderr",
     "output_type": "stream",
     "text": [
      "\r",
      "                                                                               \r",
      "\r",
      "  8% (62 of 738) |#                      | Elapsed Time: 0:00:13 ETA:   0:02:48"
     ]
    },
    {
     "name": "stdout",
     "output_type": "stream",
     "text": [
      "http://api.openweathermap.org/data/2.5/weather?appid=03b66fb88de8694398153caaae511ea5&q=sorong&units=imperial\n"
     ]
    },
    {
     "name": "stderr",
     "output_type": "stream",
     "text": [
      "\r",
      "                                                                               \r",
      "\r",
      "  8% (63 of 738) |#                      | Elapsed Time: 0:00:13 ETA:   0:02:51"
     ]
    },
    {
     "name": "stdout",
     "output_type": "stream",
     "text": [
      "http://api.openweathermap.org/data/2.5/weather?appid=03b66fb88de8694398153caaae511ea5&q=kentau&units=imperial\n"
     ]
    },
    {
     "name": "stderr",
     "output_type": "stream",
     "text": [
      "  8% (65 of 738) |##                     | Elapsed Time: 0:00:14 ETA:   0:03:03"
     ]
    },
    {
     "name": "stdout",
     "output_type": "stream",
     "text": [
      "http://api.openweathermap.org/data/2.5/weather?appid=03b66fb88de8694398153caaae511ea5&q=umm durman&units=imperial\n",
      "http://api.openweathermap.org/data/2.5/weather?appid=03b66fb88de8694398153caaae511ea5&q=mbacke&units=imperial\n"
     ]
    },
    {
     "name": "stderr",
     "output_type": "stream",
     "text": [
      "  9% (67 of 738) |##                     | Elapsed Time: 0:00:14 ETA:   0:02:48"
     ]
    },
    {
     "name": "stdout",
     "output_type": "stream",
     "text": [
      "http://api.openweathermap.org/data/2.5/weather?appid=03b66fb88de8694398153caaae511ea5&q=phrai bung&units=imperial\n",
      "http://api.openweathermap.org/data/2.5/weather?appid=03b66fb88de8694398153caaae511ea5&q=cherskiy&units=imperial\n"
     ]
    },
    {
     "name": "stderr",
     "output_type": "stream",
     "text": [
      "  9% (69 of 738) |##                     | Elapsed Time: 0:00:14 ETA:   0:02:31"
     ]
    },
    {
     "name": "stdout",
     "output_type": "stream",
     "text": [
      "http://api.openweathermap.org/data/2.5/weather?appid=03b66fb88de8694398153caaae511ea5&q=barrow&units=imperial\n",
      "http://api.openweathermap.org/data/2.5/weather?appid=03b66fb88de8694398153caaae511ea5&q=kuche&units=imperial\n"
     ]
    },
    {
     "name": "stderr",
     "output_type": "stream",
     "text": [
      "  9% (71 of 738) |##                     | Elapsed Time: 0:00:15 ETA:   0:02:17"
     ]
    },
    {
     "name": "stdout",
     "output_type": "stream",
     "text": [
      "http://api.openweathermap.org/data/2.5/weather?appid=03b66fb88de8694398153caaae511ea5&q=goderich&units=imperial\n",
      "http://api.openweathermap.org/data/2.5/weather?appid=03b66fb88de8694398153caaae511ea5&q=mar del plata&units=imperial\n"
     ]
    },
    {
     "name": "stderr",
     "output_type": "stream",
     "text": [
      "\r",
      "                                                                               \r",
      "\r",
      "  9% (72 of 738) |##                     | Elapsed Time: 0:00:15 ETA:   0:02:13"
     ]
    },
    {
     "name": "stdout",
     "output_type": "stream",
     "text": [
      "http://api.openweathermap.org/data/2.5/weather?appid=03b66fb88de8694398153caaae511ea5&q=jaleswar&units=imperial\n"
     ]
    },
    {
     "name": "stderr",
     "output_type": "stream",
     "text": [
      " 10% (74 of 738) |##                     | Elapsed Time: 0:00:15 ETA:   0:02:03"
     ]
    },
    {
     "name": "stdout",
     "output_type": "stream",
     "text": [
      "http://api.openweathermap.org/data/2.5/weather?appid=03b66fb88de8694398153caaae511ea5&q=yumen&units=imperial\n",
      "http://api.openweathermap.org/data/2.5/weather?appid=03b66fb88de8694398153caaae511ea5&q=tuatapere&units=imperial\n"
     ]
    },
    {
     "name": "stderr",
     "output_type": "stream",
     "text": [
      " 10% (76 of 738) |##                     | Elapsed Time: 0:00:16 ETA:   0:01:54"
     ]
    },
    {
     "name": "stdout",
     "output_type": "stream",
     "text": [
      "http://api.openweathermap.org/data/2.5/weather?appid=03b66fb88de8694398153caaae511ea5&q=san cristobal&units=imperial\n",
      "http://api.openweathermap.org/data/2.5/weather?appid=03b66fb88de8694398153caaae511ea5&q=ponta do sol&units=imperial\n"
     ]
    },
    {
     "name": "stderr",
     "output_type": "stream",
     "text": [
      "\r",
      "                                                                               \r",
      "\r",
      " 10% (77 of 738) |##                     | Elapsed Time: 0:00:16 ETA:   0:01:47"
     ]
    },
    {
     "name": "stdout",
     "output_type": "stream",
     "text": [
      "http://api.openweathermap.org/data/2.5/weather?appid=03b66fb88de8694398153caaae511ea5&q=dukat&units=imperial\n"
     ]
    },
    {
     "name": "stderr",
     "output_type": "stream",
     "text": [
      "\r",
      "                                                                               \r",
      "\r",
      " 10% (78 of 738) |##                     | Elapsed Time: 0:00:16 ETA:   0:01:52"
     ]
    },
    {
     "name": "stdout",
     "output_type": "stream",
     "text": [
      "http://api.openweathermap.org/data/2.5/weather?appid=03b66fb88de8694398153caaae511ea5&q=villa carlos paz&units=imperial\n"
     ]
    },
    {
     "name": "stderr",
     "output_type": "stream",
     "text": [
      " 10% (80 of 738) |##                     | Elapsed Time: 0:00:16 ETA:   0:01:55"
     ]
    },
    {
     "name": "stdout",
     "output_type": "stream",
     "text": [
      "http://api.openweathermap.org/data/2.5/weather?appid=03b66fb88de8694398153caaae511ea5&q=bluff&units=imperial\n",
      "http://api.openweathermap.org/data/2.5/weather?appid=03b66fb88de8694398153caaae511ea5&q=ellsworth&units=imperial\n"
     ]
    },
    {
     "name": "stderr",
     "output_type": "stream",
     "text": [
      " 11% (82 of 738) |##                     | Elapsed Time: 0:00:17 ETA:   0:02:05"
     ]
    },
    {
     "name": "stdout",
     "output_type": "stream",
     "text": [
      "http://api.openweathermap.org/data/2.5/weather?appid=03b66fb88de8694398153caaae511ea5&q=kazalinsk&units=imperial\n",
      "http://api.openweathermap.org/data/2.5/weather?appid=03b66fb88de8694398153caaae511ea5&q=la asuncion&units=imperial\n"
     ]
    },
    {
     "name": "stderr",
     "output_type": "stream",
     "text": [
      " 11% (84 of 738) |##                     | Elapsed Time: 0:00:17 ETA:   0:02:13"
     ]
    },
    {
     "name": "stdout",
     "output_type": "stream",
     "text": [
      "http://api.openweathermap.org/data/2.5/weather?appid=03b66fb88de8694398153caaae511ea5&q=auki&units=imperial\n",
      "http://api.openweathermap.org/data/2.5/weather?appid=03b66fb88de8694398153caaae511ea5&q=jalu&units=imperial\n"
     ]
    },
    {
     "name": "stderr",
     "output_type": "stream",
     "text": [
      "\r",
      "                                                                               \r",
      "\r",
      " 11% (85 of 738) |##                     | Elapsed Time: 0:00:17 ETA:   0:02:11"
     ]
    },
    {
     "name": "stdout",
     "output_type": "stream",
     "text": [
      "http://api.openweathermap.org/data/2.5/weather?appid=03b66fb88de8694398153caaae511ea5&q=holoby&units=imperial\n"
     ]
    },
    {
     "name": "stderr",
     "output_type": "stream",
     "text": [
      "\r",
      "                                                                               \r",
      "\r",
      " 11% (86 of 738) |##                     | Elapsed Time: 0:00:18 ETA:   0:02:20"
     ]
    },
    {
     "name": "stdout",
     "output_type": "stream",
     "text": [
      "http://api.openweathermap.org/data/2.5/weather?appid=03b66fb88de8694398153caaae511ea5&q=ciudad real&units=imperial\n"
     ]
    },
    {
     "name": "stderr",
     "output_type": "stream",
     "text": [
      " 11% (88 of 738) |##                     | Elapsed Time: 0:00:18 ETA:   0:02:20"
     ]
    },
    {
     "name": "stdout",
     "output_type": "stream",
     "text": [
      "http://api.openweathermap.org/data/2.5/weather?appid=03b66fb88de8694398153caaae511ea5&q=airai&units=imperial\n",
      "http://api.openweathermap.org/data/2.5/weather?appid=03b66fb88de8694398153caaae511ea5&q=santa isabel do rio negro&units=imperial\n"
     ]
    },
    {
     "name": "stderr",
     "output_type": "stream",
     "text": [
      "\r",
      "                                                                               \r",
      "\r",
      " 12% (89 of 738) |##                     | Elapsed Time: 0:00:18 ETA:   0:02:26"
     ]
    },
    {
     "name": "stdout",
     "output_type": "stream",
     "text": [
      "http://api.openweathermap.org/data/2.5/weather?appid=03b66fb88de8694398153caaae511ea5&q=mumford&units=imperial\n"
     ]
    },
    {
     "name": "stderr",
     "output_type": "stream",
     "text": [
      "\r",
      "                                                                               \r",
      "\r",
      " 12% (90 of 738) |##                     | Elapsed Time: 0:00:19 ETA:   0:02:24"
     ]
    },
    {
     "name": "stdout",
     "output_type": "stream",
     "text": [
      "http://api.openweathermap.org/data/2.5/weather?appid=03b66fb88de8694398153caaae511ea5&q=kovdor&units=imperial\n"
     ]
    },
    {
     "name": "stderr",
     "output_type": "stream",
     "text": [
      " 12% (92 of 738) |##                     | Elapsed Time: 0:00:19 ETA:   0:02:27"
     ]
    },
    {
     "name": "stdout",
     "output_type": "stream",
     "text": [
      "http://api.openweathermap.org/data/2.5/weather?appid=03b66fb88de8694398153caaae511ea5&q=taolanaro&units=imperial\n",
      "http://api.openweathermap.org/data/2.5/weather?appid=03b66fb88de8694398153caaae511ea5&q=hay river&units=imperial\n"
     ]
    },
    {
     "name": "stderr",
     "output_type": "stream",
     "text": [
      "\r",
      "                                                                               \r",
      "\r",
      " 12% (93 of 738) |##                     | Elapsed Time: 0:00:19 ETA:   0:02:15"
     ]
    },
    {
     "name": "stdout",
     "output_type": "stream",
     "text": [
      "http://api.openweathermap.org/data/2.5/weather?appid=03b66fb88de8694398153caaae511ea5&q=maldonado&units=imperial\n"
     ]
    },
    {
     "name": "stderr",
     "output_type": "stream",
     "text": [
      " 12% (95 of 738) |##                     | Elapsed Time: 0:00:20 ETA:   0:02:20"
     ]
    },
    {
     "name": "stdout",
     "output_type": "stream",
     "text": [
      "http://api.openweathermap.org/data/2.5/weather?appid=03b66fb88de8694398153caaae511ea5&q=touros&units=imperial\n",
      "http://api.openweathermap.org/data/2.5/weather?appid=03b66fb88de8694398153caaae511ea5&q=saint-francois&units=imperial\n"
     ]
    },
    {
     "name": "stderr",
     "output_type": "stream",
     "text": [
      " 13% (97 of 738) |###                    | Elapsed Time: 0:00:20 ETA:   0:02:11"
     ]
    },
    {
     "name": "stdout",
     "output_type": "stream",
     "text": [
      "http://api.openweathermap.org/data/2.5/weather?appid=03b66fb88de8694398153caaae511ea5&q=oga&units=imperial\n",
      "http://api.openweathermap.org/data/2.5/weather?appid=03b66fb88de8694398153caaae511ea5&q=porangatu&units=imperial\n"
     ]
    },
    {
     "name": "stderr",
     "output_type": "stream",
     "text": [
      " 13% (99 of 738) |###                    | Elapsed Time: 0:00:20 ETA:   0:02:11"
     ]
    },
    {
     "name": "stdout",
     "output_type": "stream",
     "text": [
      "http://api.openweathermap.org/data/2.5/weather?appid=03b66fb88de8694398153caaae511ea5&q=hermanus&units=imperial\n",
      "http://api.openweathermap.org/data/2.5/weather?appid=03b66fb88de8694398153caaae511ea5&q=teguise&units=imperial\n"
     ]
    },
    {
     "name": "stderr",
     "output_type": "stream",
     "text": [
      " 13% (101 of 738) |###                   | Elapsed Time: 0:00:21 ETA:   0:02:07"
     ]
    },
    {
     "name": "stdout",
     "output_type": "stream",
     "text": [
      "http://api.openweathermap.org/data/2.5/weather?appid=03b66fb88de8694398153caaae511ea5&q=isla vista&units=imperial\n",
      "http://api.openweathermap.org/data/2.5/weather?appid=03b66fb88de8694398153caaae511ea5&q=katsuura&units=imperial\n"
     ]
    },
    {
     "name": "stderr",
     "output_type": "stream",
     "text": [
      " 13% (103 of 738) |###                   | Elapsed Time: 0:00:21 ETA:   0:01:59"
     ]
    },
    {
     "name": "stdout",
     "output_type": "stream",
     "text": [
      "http://api.openweathermap.org/data/2.5/weather?appid=03b66fb88de8694398153caaae511ea5&q=cabo san lucas&units=imperial\n",
      "http://api.openweathermap.org/data/2.5/weather?appid=03b66fb88de8694398153caaae511ea5&q=gari&units=imperial\n"
     ]
    },
    {
     "name": "stderr",
     "output_type": "stream",
     "text": [
      "\r",
      "                                                                               \r",
      "\r",
      " 14% (104 of 738) |###                   | Elapsed Time: 0:00:21 ETA:   0:02:04"
     ]
    },
    {
     "name": "stdout",
     "output_type": "stream",
     "text": [
      "http://api.openweathermap.org/data/2.5/weather?appid=03b66fb88de8694398153caaae511ea5&q=usinsk&units=imperial\n"
     ]
    },
    {
     "name": "stderr",
     "output_type": "stream",
     "text": [
      "\r",
      "                                                                               \r",
      "\r",
      " 14% (105 of 738) |###                   | Elapsed Time: 0:00:22 ETA:   0:02:24"
     ]
    },
    {
     "name": "stdout",
     "output_type": "stream",
     "text": [
      "http://api.openweathermap.org/data/2.5/weather?appid=03b66fb88de8694398153caaae511ea5&q=idanre&units=imperial\n"
     ]
    },
    {
     "name": "stderr",
     "output_type": "stream",
     "text": [
      " 14% (107 of 738) |###                   | Elapsed Time: 0:00:22 ETA:   0:02:28"
     ]
    },
    {
     "name": "stdout",
     "output_type": "stream",
     "text": [
      "http://api.openweathermap.org/data/2.5/weather?appid=03b66fb88de8694398153caaae511ea5&q=yerbogachen&units=imperial\n",
      "http://api.openweathermap.org/data/2.5/weather?appid=03b66fb88de8694398153caaae511ea5&q=lubben&units=imperial\n"
     ]
    },
    {
     "name": "stderr",
     "output_type": "stream",
     "text": [
      " 14% (109 of 738) |###                   | Elapsed Time: 0:00:23 ETA:   0:02:26"
     ]
    },
    {
     "name": "stdout",
     "output_type": "stream",
     "text": [
      "http://api.openweathermap.org/data/2.5/weather?appid=03b66fb88de8694398153caaae511ea5&q=puerto escondido&units=imperial\n",
      "http://api.openweathermap.org/data/2.5/weather?appid=03b66fb88de8694398153caaae511ea5&q=nikolskoye&units=imperial\n"
     ]
    },
    {
     "name": "stderr",
     "output_type": "stream",
     "text": [
      " 15% (111 of 738) |###                   | Elapsed Time: 0:00:23 ETA:   0:02:26"
     ]
    },
    {
     "name": "stdout",
     "output_type": "stream",
     "text": [
      "http://api.openweathermap.org/data/2.5/weather?appid=03b66fb88de8694398153caaae511ea5&q=port alfred&units=imperial\n",
      "http://api.openweathermap.org/data/2.5/weather?appid=03b66fb88de8694398153caaae511ea5&q=tura&units=imperial\n"
     ]
    },
    {
     "name": "stderr",
     "output_type": "stream",
     "text": [
      "\r",
      "                                                                               \r",
      "\r",
      " 15% (112 of 738) |###                   | Elapsed Time: 0:00:23 ETA:   0:02:26"
     ]
    },
    {
     "name": "stdout",
     "output_type": "stream",
     "text": [
      "http://api.openweathermap.org/data/2.5/weather?appid=03b66fb88de8694398153caaae511ea5&q=vodnyy&units=imperial\n"
     ]
    },
    {
     "name": "stderr",
     "output_type": "stream",
     "text": [
      "\r",
      "                                                                               \r",
      "\r",
      " 15% (113 of 738) |###                   | Elapsed Time: 0:00:23 ETA:   0:02:25"
     ]
    },
    {
     "name": "stdout",
     "output_type": "stream",
     "text": [
      "http://api.openweathermap.org/data/2.5/weather?appid=03b66fb88de8694398153caaae511ea5&q=kamalpur&units=imperial\n"
     ]
    },
    {
     "name": "stderr",
     "output_type": "stream",
     "text": [
      "\r",
      "                                                                               \r",
      "\r",
      " 15% (114 of 738) |###                   | Elapsed Time: 0:00:24 ETA:   0:02:27"
     ]
    },
    {
     "name": "stdout",
     "output_type": "stream",
     "text": [
      "http://api.openweathermap.org/data/2.5/weather?appid=03b66fb88de8694398153caaae511ea5&q=hosanagara&units=imperial\n"
     ]
    },
    {
     "name": "stderr",
     "output_type": "stream",
     "text": [
      "\r",
      "                                                                               \r",
      "\r",
      " 15% (115 of 738) |###                   | Elapsed Time: 0:00:24 ETA:   0:02:09"
     ]
    },
    {
     "name": "stdout",
     "output_type": "stream",
     "text": [
      "http://api.openweathermap.org/data/2.5/weather?appid=03b66fb88de8694398153caaae511ea5&q=severodvinsk&units=imperial\n"
     ]
    },
    {
     "name": "stderr",
     "output_type": "stream",
     "text": [
      " 15% (117 of 738) |###                   | Elapsed Time: 0:00:24 ETA:   0:02:10"
     ]
    },
    {
     "name": "stdout",
     "output_type": "stream",
     "text": [
      "http://api.openweathermap.org/data/2.5/weather?appid=03b66fb88de8694398153caaae511ea5&q=codrington&units=imperial\n",
      "http://api.openweathermap.org/data/2.5/weather?appid=03b66fb88de8694398153caaae511ea5&q=seymour&units=imperial\n"
     ]
    },
    {
     "name": "stderr",
     "output_type": "stream",
     "text": [
      "\r",
      "                                                                               \r",
      "\r",
      " 15% (118 of 738) |###                   | Elapsed Time: 0:00:25 ETA:   0:02:21"
     ]
    },
    {
     "name": "stdout",
     "output_type": "stream",
     "text": [
      "http://api.openweathermap.org/data/2.5/weather?appid=03b66fb88de8694398153caaae511ea5&q=kanye&units=imperial\n"
     ]
    },
    {
     "name": "stderr",
     "output_type": "stream",
     "text": [
      " 16% (120 of 738) |###                   | Elapsed Time: 0:00:25 ETA:   0:02:35"
     ]
    },
    {
     "name": "stdout",
     "output_type": "stream",
     "text": [
      "http://api.openweathermap.org/data/2.5/weather?appid=03b66fb88de8694398153caaae511ea5&q=thompson&units=imperial\n",
      "http://api.openweathermap.org/data/2.5/weather?appid=03b66fb88de8694398153caaae511ea5&q=gannan&units=imperial\n"
     ]
    },
    {
     "name": "stderr",
     "output_type": "stream",
     "text": [
      " 16% (122 of 738) |###                   | Elapsed Time: 0:00:26 ETA:   0:02:28"
     ]
    },
    {
     "name": "stdout",
     "output_type": "stream",
     "text": [
      "http://api.openweathermap.org/data/2.5/weather?appid=03b66fb88de8694398153caaae511ea5&q=poum&units=imperial\n",
      "http://api.openweathermap.org/data/2.5/weather?appid=03b66fb88de8694398153caaae511ea5&q=krasnyy kut&units=imperial\n"
     ]
    },
    {
     "name": "stderr",
     "output_type": "stream",
     "text": [
      "\r",
      "                                                                               \r",
      "\r",
      " 16% (123 of 738) |###                   | Elapsed Time: 0:00:26 ETA:   0:02:26"
     ]
    },
    {
     "name": "stdout",
     "output_type": "stream",
     "text": [
      "http://api.openweathermap.org/data/2.5/weather?appid=03b66fb88de8694398153caaae511ea5&q=platteville&units=imperial\n"
     ]
    },
    {
     "name": "stderr",
     "output_type": "stream",
     "text": [
      "\r",
      "                                                                               \r",
      "\r",
      " 16% (124 of 738) |###                   | Elapsed Time: 0:00:26 ETA:   0:02:26"
     ]
    },
    {
     "name": "stdout",
     "output_type": "stream",
     "text": [
      "http://api.openweathermap.org/data/2.5/weather?appid=03b66fb88de8694398153caaae511ea5&q=khash&units=imperial\n"
     ]
    },
    {
     "name": "stderr",
     "output_type": "stream",
     "text": [
      "\r",
      "                                                                               \r",
      "\r",
      " 16% (125 of 738) |###                   | Elapsed Time: 0:00:27 ETA:   0:02:36"
     ]
    },
    {
     "name": "stdout",
     "output_type": "stream",
     "text": [
      "http://api.openweathermap.org/data/2.5/weather?appid=03b66fb88de8694398153caaae511ea5&q=saint-pierre&units=imperial\n"
     ]
    },
    {
     "name": "stderr",
     "output_type": "stream",
     "text": [
      "\r",
      "                                                                               \r",
      "\r",
      " 17% (126 of 738) |###                   | Elapsed Time: 0:00:27 ETA:   0:03:05"
     ]
    },
    {
     "name": "stdout",
     "output_type": "stream",
     "text": [
      "http://api.openweathermap.org/data/2.5/weather?appid=03b66fb88de8694398153caaae511ea5&q=yeniseysk&units=imperial\n"
     ]
    },
    {
     "name": "stderr",
     "output_type": "stream",
     "text": [
      " 17% (128 of 738) |###                   | Elapsed Time: 0:00:28 ETA:   0:03:04"
     ]
    },
    {
     "name": "stdout",
     "output_type": "stream",
     "text": [
      "http://api.openweathermap.org/data/2.5/weather?appid=03b66fb88de8694398153caaae511ea5&q=lebu&units=imperial\n",
      "http://api.openweathermap.org/data/2.5/weather?appid=03b66fb88de8694398153caaae511ea5&q=acarau&units=imperial\n"
     ]
    },
    {
     "name": "stderr",
     "output_type": "stream",
     "text": [
      "\r",
      "                                                                               \r",
      "\r",
      " 17% (129 of 738) |###                   | Elapsed Time: 0:00:28 ETA:   0:03:03"
     ]
    },
    {
     "name": "stdout",
     "output_type": "stream",
     "text": [
      "http://api.openweathermap.org/data/2.5/weather?appid=03b66fb88de8694398153caaae511ea5&q=deputatskiy&units=imperial\n"
     ]
    },
    {
     "name": "stderr",
     "output_type": "stream",
     "text": [
      "\r",
      "                                                                               \r",
      "\r",
      " 17% (130 of 738) |###                   | Elapsed Time: 0:00:28 ETA:   0:03:03"
     ]
    },
    {
     "name": "stdout",
     "output_type": "stream",
     "text": [
      "http://api.openweathermap.org/data/2.5/weather?appid=03b66fb88de8694398153caaae511ea5&q=berga&units=imperial\n"
     ]
    },
    {
     "name": "stderr",
     "output_type": "stream",
     "text": [
      "\r",
      "                                                                               \r",
      "\r",
      " 17% (131 of 738) |###                   | Elapsed Time: 0:00:28 ETA:   0:03:10"
     ]
    },
    {
     "name": "stdout",
     "output_type": "stream",
     "text": [
      "http://api.openweathermap.org/data/2.5/weather?appid=03b66fb88de8694398153caaae511ea5&q=calvinia&units=imperial\n"
     ]
    },
    {
     "name": "stderr",
     "output_type": "stream",
     "text": [
      " 18% (133 of 738) |###                   | Elapsed Time: 0:00:29 ETA:   0:02:47"
     ]
    },
    {
     "name": "stdout",
     "output_type": "stream",
     "text": [
      "http://api.openweathermap.org/data/2.5/weather?appid=03b66fb88de8694398153caaae511ea5&q=pevek&units=imperial\n",
      "http://api.openweathermap.org/data/2.5/weather?appid=03b66fb88de8694398153caaae511ea5&q=kabare&units=imperial\n"
     ]
    },
    {
     "name": "stderr",
     "output_type": "stream",
     "text": [
      " 18% (135 of 738) |####                  | Elapsed Time: 0:00:29 ETA:   0:02:38"
     ]
    },
    {
     "name": "stdout",
     "output_type": "stream",
     "text": [
      "http://api.openweathermap.org/data/2.5/weather?appid=03b66fb88de8694398153caaae511ea5&q=grand gaube&units=imperial\n",
      "http://api.openweathermap.org/data/2.5/weather?appid=03b66fb88de8694398153caaae511ea5&q=anadyr&units=imperial\n"
     ]
    },
    {
     "name": "stderr",
     "output_type": "stream",
     "text": [
      " 18% (137 of 738) |####                  | Elapsed Time: 0:00:29 ETA:   0:02:01"
     ]
    },
    {
     "name": "stdout",
     "output_type": "stream",
     "text": [
      "http://api.openweathermap.org/data/2.5/weather?appid=03b66fb88de8694398153caaae511ea5&q=severo-kurilsk&units=imperial\n",
      "http://api.openweathermap.org/data/2.5/weather?appid=03b66fb88de8694398153caaae511ea5&q=doha&units=imperial\n"
     ]
    },
    {
     "name": "stderr",
     "output_type": "stream",
     "text": [
      "\r",
      "                                                                               \r",
      "\r",
      " 18% (138 of 738) |####                  | Elapsed Time: 0:00:30 ETA:   0:01:56"
     ]
    },
    {
     "name": "stdout",
     "output_type": "stream",
     "text": [
      "http://api.openweathermap.org/data/2.5/weather?appid=03b66fb88de8694398153caaae511ea5&q=ahipara&units=imperial\n"
     ]
    },
    {
     "name": "stderr",
     "output_type": "stream",
     "text": [
      "\r",
      "                                                                               \r",
      "\r",
      " 18% (139 of 738) |####                  | Elapsed Time: 0:00:30 ETA:   0:02:06"
     ]
    },
    {
     "name": "stdout",
     "output_type": "stream",
     "text": [
      "http://api.openweathermap.org/data/2.5/weather?appid=03b66fb88de8694398153caaae511ea5&q=tenenkou&units=imperial\n"
     ]
    },
    {
     "name": "stderr",
     "output_type": "stream",
     "text": [
      "\r",
      "                                                                               \r",
      "\r",
      " 18% (140 of 738) |####                  | Elapsed Time: 0:00:30 ETA:   0:02:05"
     ]
    },
    {
     "name": "stdout",
     "output_type": "stream",
     "text": [
      "http://api.openweathermap.org/data/2.5/weather?appid=03b66fb88de8694398153caaae511ea5&q=bonthe&units=imperial\n"
     ]
    },
    {
     "name": "stderr",
     "output_type": "stream",
     "text": [
      " 19% (142 of 738) |####                  | Elapsed Time: 0:00:30 ETA:   0:01:57"
     ]
    },
    {
     "name": "stdout",
     "output_type": "stream",
     "text": [
      "http://api.openweathermap.org/data/2.5/weather?appid=03b66fb88de8694398153caaae511ea5&q=kadykchan&units=imperial\n",
      "http://api.openweathermap.org/data/2.5/weather?appid=03b66fb88de8694398153caaae511ea5&q=vila velha&units=imperial\n"
     ]
    },
    {
     "name": "stderr",
     "output_type": "stream",
     "text": [
      "\r",
      "                                                                               \r",
      "\r",
      " 19% (143 of 738) |####                  | Elapsed Time: 0:00:31 ETA:   0:01:51"
     ]
    },
    {
     "name": "stdout",
     "output_type": "stream",
     "text": [
      "http://api.openweathermap.org/data/2.5/weather?appid=03b66fb88de8694398153caaae511ea5&q=ravar&units=imperial\n"
     ]
    },
    {
     "name": "stderr",
     "output_type": "stream",
     "text": [
      " 19% (145 of 738) |####                  | Elapsed Time: 0:00:31 ETA:   0:01:51"
     ]
    },
    {
     "name": "stdout",
     "output_type": "stream",
     "text": [
      "http://api.openweathermap.org/data/2.5/weather?appid=03b66fb88de8694398153caaae511ea5&q=port elizabeth&units=imperial\n",
      "http://api.openweathermap.org/data/2.5/weather?appid=03b66fb88de8694398153caaae511ea5&q=skjervoy&units=imperial\n"
     ]
    },
    {
     "name": "stderr",
     "output_type": "stream",
     "text": [
      " 19% (147 of 738) |####                  | Elapsed Time: 0:00:31 ETA:   0:01:55"
     ]
    },
    {
     "name": "stdout",
     "output_type": "stream",
     "text": [
      "http://api.openweathermap.org/data/2.5/weather?appid=03b66fb88de8694398153caaae511ea5&q=necochea&units=imperial\n",
      "http://api.openweathermap.org/data/2.5/weather?appid=03b66fb88de8694398153caaae511ea5&q=poyarkovo&units=imperial\n"
     ]
    },
    {
     "name": "stderr",
     "output_type": "stream",
     "text": [
      "\r",
      "                                                                               \r",
      "\r",
      " 20% (148 of 738) |####                  | Elapsed Time: 0:00:32 ETA:   0:02:02"
     ]
    },
    {
     "name": "stdout",
     "output_type": "stream",
     "text": [
      "http://api.openweathermap.org/data/2.5/weather?appid=03b66fb88de8694398153caaae511ea5&q=comodoro rivadavia&units=imperial\n"
     ]
    },
    {
     "name": "stderr",
     "output_type": "stream",
     "text": [
      " 20% (150 of 738) |####                  | Elapsed Time: 0:00:32 ETA:   0:01:58"
     ]
    },
    {
     "name": "stdout",
     "output_type": "stream",
     "text": [
      "http://api.openweathermap.org/data/2.5/weather?appid=03b66fb88de8694398153caaae511ea5&q=lodja&units=imperial\n",
      "http://api.openweathermap.org/data/2.5/weather?appid=03b66fb88de8694398153caaae511ea5&q=padang&units=imperial\n"
     ]
    },
    {
     "name": "stderr",
     "output_type": "stream",
     "text": [
      " 20% (152 of 738) |####                  | Elapsed Time: 0:00:32 ETA:   0:01:46"
     ]
    },
    {
     "name": "stdout",
     "output_type": "stream",
     "text": [
      "http://api.openweathermap.org/data/2.5/weather?appid=03b66fb88de8694398153caaae511ea5&q=eldikan&units=imperial\n",
      "http://api.openweathermap.org/data/2.5/weather?appid=03b66fb88de8694398153caaae511ea5&q=elizabeth city&units=imperial\n"
     ]
    },
    {
     "name": "stderr",
     "output_type": "stream",
     "text": [
      " 20% (154 of 738) |####                  | Elapsed Time: 0:00:33 ETA:   0:01:55"
     ]
    },
    {
     "name": "stdout",
     "output_type": "stream",
     "text": [
      "http://api.openweathermap.org/data/2.5/weather?appid=03b66fb88de8694398153caaae511ea5&q=yulara&units=imperial\n",
      "http://api.openweathermap.org/data/2.5/weather?appid=03b66fb88de8694398153caaae511ea5&q=luderitz&units=imperial\n"
     ]
    },
    {
     "name": "stderr",
     "output_type": "stream",
     "text": [
      " 21% (156 of 738) |####                  | Elapsed Time: 0:00:33 ETA:   0:01:49"
     ]
    },
    {
     "name": "stdout",
     "output_type": "stream",
     "text": [
      "http://api.openweathermap.org/data/2.5/weather?appid=03b66fb88de8694398153caaae511ea5&q=armidale&units=imperial\n",
      "http://api.openweathermap.org/data/2.5/weather?appid=03b66fb88de8694398153caaae511ea5&q=ancud&units=imperial\n"
     ]
    },
    {
     "name": "stderr",
     "output_type": "stream",
     "text": [
      "\r",
      "                                                                               \r",
      "\r",
      " 21% (157 of 738) |####                  | Elapsed Time: 0:00:33 ETA:   0:01:47"
     ]
    },
    {
     "name": "stdout",
     "output_type": "stream",
     "text": [
      "http://api.openweathermap.org/data/2.5/weather?appid=03b66fb88de8694398153caaae511ea5&q=goure&units=imperial\n"
     ]
    },
    {
     "name": "stderr",
     "output_type": "stream",
     "text": [
      " 21% (159 of 738) |####                  | Elapsed Time: 0:00:34 ETA:   0:01:47"
     ]
    },
    {
     "name": "stdout",
     "output_type": "stream",
     "text": [
      "http://api.openweathermap.org/data/2.5/weather?appid=03b66fb88de8694398153caaae511ea5&q=naryan-mar&units=imperial\n",
      "http://api.openweathermap.org/data/2.5/weather?appid=03b66fb88de8694398153caaae511ea5&q=ayr&units=imperial\n"
     ]
    },
    {
     "name": "stderr",
     "output_type": "stream",
     "text": [
      "\r",
      "                                                                               \r",
      "\r",
      " 21% (160 of 738) |####                  | Elapsed Time: 0:00:34 ETA:   0:01:49"
     ]
    },
    {
     "name": "stdout",
     "output_type": "stream",
     "text": [
      "http://api.openweathermap.org/data/2.5/weather?appid=03b66fb88de8694398153caaae511ea5&q=olovyannaya&units=imperial\n"
     ]
    },
    {
     "name": "stderr",
     "output_type": "stream",
     "text": [
      "\r",
      "                                                                               \r",
      "\r",
      " 21% (161 of 738) |####                  | Elapsed Time: 0:00:34 ETA:   0:01:57"
     ]
    },
    {
     "name": "stdout",
     "output_type": "stream",
     "text": [
      "http://api.openweathermap.org/data/2.5/weather?appid=03b66fb88de8694398153caaae511ea5&q=salinopolis&units=imperial\n"
     ]
    },
    {
     "name": "stderr",
     "output_type": "stream",
     "text": [
      " 22% (163 of 738) |####                  | Elapsed Time: 0:00:35 ETA:   0:02:00"
     ]
    },
    {
     "name": "stdout",
     "output_type": "stream",
     "text": [
      "http://api.openweathermap.org/data/2.5/weather?appid=03b66fb88de8694398153caaae511ea5&q=guerrero negro&units=imperial\n",
      "http://api.openweathermap.org/data/2.5/weather?appid=03b66fb88de8694398153caaae511ea5&q=namibe&units=imperial\n"
     ]
    },
    {
     "name": "stderr",
     "output_type": "stream",
     "text": [
      " 22% (165 of 738) |####                  | Elapsed Time: 0:00:35 ETA:   0:02:00"
     ]
    },
    {
     "name": "stdout",
     "output_type": "stream",
     "text": [
      "http://api.openweathermap.org/data/2.5/weather?appid=03b66fb88de8694398153caaae511ea5&q=zlatoustovsk&units=imperial\n",
      "http://api.openweathermap.org/data/2.5/weather?appid=03b66fb88de8694398153caaae511ea5&q=morehead&units=imperial\n"
     ]
    },
    {
     "name": "stderr",
     "output_type": "stream",
     "text": [
      " 22% (167 of 738) |####                  | Elapsed Time: 0:00:36 ETA:   0:02:07"
     ]
    },
    {
     "name": "stdout",
     "output_type": "stream",
     "text": [
      "http://api.openweathermap.org/data/2.5/weather?appid=03b66fb88de8694398153caaae511ea5&q=port hedland&units=imperial\n",
      "http://api.openweathermap.org/data/2.5/weather?appid=03b66fb88de8694398153caaae511ea5&q=lakselv&units=imperial\n"
     ]
    },
    {
     "name": "stderr",
     "output_type": "stream",
     "text": [
      " 22% (169 of 738) |#####                 | Elapsed Time: 0:00:36 ETA:   0:02:11"
     ]
    },
    {
     "name": "stdout",
     "output_type": "stream",
     "text": [
      "http://api.openweathermap.org/data/2.5/weather?appid=03b66fb88de8694398153caaae511ea5&q=avarua&units=imperial\n",
      "http://api.openweathermap.org/data/2.5/weather?appid=03b66fb88de8694398153caaae511ea5&q=alekseyevka&units=imperial\n"
     ]
    },
    {
     "name": "stderr",
     "output_type": "stream",
     "text": [
      " 23% (171 of 738) |#####                 | Elapsed Time: 0:00:37 ETA:   0:02:09"
     ]
    },
    {
     "name": "stdout",
     "output_type": "stream",
     "text": [
      "http://api.openweathermap.org/data/2.5/weather?appid=03b66fb88de8694398153caaae511ea5&q=chuy&units=imperial\n"
     ]
    },
    {
     "name": "stderr",
     "output_type": "stream",
     "text": [
      "\r",
      "                                                                               \r",
      "\r",
      " 23% (172 of 738) |#####                 | Elapsed Time: 0:00:37 ETA:   0:02:09"
     ]
    },
    {
     "name": "stdout",
     "output_type": "stream",
     "text": [
      "http://api.openweathermap.org/data/2.5/weather?appid=03b66fb88de8694398153caaae511ea5&q=pangnirtung&units=imperial\n",
      "http://api.openweathermap.org/data/2.5/weather?appid=03b66fb88de8694398153caaae511ea5&q=calbuco&units=imperial\n"
     ]
    },
    {
     "name": "stderr",
     "output_type": "stream",
     "text": [
      "\r",
      "                                                                               \r",
      "\r",
      " 23% (173 of 738) |#####                 | Elapsed Time: 0:00:37 ETA:   0:02:10"
     ]
    },
    {
     "name": "stdout",
     "output_type": "stream",
     "text": [
      "http://api.openweathermap.org/data/2.5/weather?appid=03b66fb88de8694398153caaae511ea5&q=okato&units=imperial\n"
     ]
    },
    {
     "name": "stderr",
     "output_type": "stream",
     "text": [
      "\r",
      "                                                                               \r",
      "\r",
      " 23% (174 of 738) |#####                 | Elapsed Time: 0:00:37 ETA:   0:02:18"
     ]
    },
    {
     "name": "stdout",
     "output_type": "stream",
     "text": [
      "http://api.openweathermap.org/data/2.5/weather?appid=03b66fb88de8694398153caaae511ea5&q=pervomayskoye&units=imperial\n"
     ]
    },
    {
     "name": "stderr",
     "output_type": "stream",
     "text": [
      " 23% (176 of 738) |#####                 | Elapsed Time: 0:00:38 ETA:   0:02:16"
     ]
    },
    {
     "name": "stdout",
     "output_type": "stream",
     "text": [
      "http://api.openweathermap.org/data/2.5/weather?appid=03b66fb88de8694398153caaae511ea5&q=hambantota&units=imperial\n",
      "http://api.openweathermap.org/data/2.5/weather?appid=03b66fb88de8694398153caaae511ea5&q=lebrija&units=imperial\n"
     ]
    },
    {
     "name": "stderr",
     "output_type": "stream",
     "text": [
      "\r",
      "                                                                               \r",
      "\r",
      " 23% (177 of 738) |#####                 | Elapsed Time: 0:00:38 ETA:   0:02:21"
     ]
    },
    {
     "name": "stdout",
     "output_type": "stream",
     "text": [
      "http://api.openweathermap.org/data/2.5/weather?appid=03b66fb88de8694398153caaae511ea5&q=bubaque&units=imperial\n"
     ]
    },
    {
     "name": "stderr",
     "output_type": "stream",
     "text": [
      " 24% (179 of 738) |#####                 | Elapsed Time: 0:00:38 ETA:   0:02:06"
     ]
    },
    {
     "name": "stdout",
     "output_type": "stream",
     "text": [
      "http://api.openweathermap.org/data/2.5/weather?appid=03b66fb88de8694398153caaae511ea5&q=barentsburg&units=imperial\n",
      "http://api.openweathermap.org/data/2.5/weather?appid=03b66fb88de8694398153caaae511ea5&q=loanda&units=imperial\n"
     ]
    },
    {
     "name": "stderr",
     "output_type": "stream",
     "text": [
      " 24% (181 of 738) |#####                 | Elapsed Time: 0:00:39 ETA:   0:02:09"
     ]
    },
    {
     "name": "stdout",
     "output_type": "stream",
     "text": [
      "http://api.openweathermap.org/data/2.5/weather?appid=03b66fb88de8694398153caaae511ea5&q=tabou&units=imperial\n",
      "http://api.openweathermap.org/data/2.5/weather?appid=03b66fb88de8694398153caaae511ea5&q=mazyr&units=imperial\n"
     ]
    },
    {
     "name": "stderr",
     "output_type": "stream",
     "text": [
      "\r",
      "                                                                               \r",
      "\r",
      " 24% (182 of 738) |#####                 | Elapsed Time: 0:00:39 ETA:   0:02:07"
     ]
    },
    {
     "name": "stdout",
     "output_type": "stream",
     "text": [
      "http://api.openweathermap.org/data/2.5/weather?appid=03b66fb88de8694398153caaae511ea5&q=moose factory&units=imperial\n"
     ]
    },
    {
     "name": "stderr",
     "output_type": "stream",
     "text": [
      " 24% (184 of 738) |#####                 | Elapsed Time: 0:00:39 ETA:   0:02:00"
     ]
    },
    {
     "name": "stdout",
     "output_type": "stream",
     "text": [
      "http://api.openweathermap.org/data/2.5/weather?appid=03b66fb88de8694398153caaae511ea5&q=waddan&units=imperial\n",
      "http://api.openweathermap.org/data/2.5/weather?appid=03b66fb88de8694398153caaae511ea5&q=sola&units=imperial\n"
     ]
    },
    {
     "name": "stderr",
     "output_type": "stream",
     "text": [
      "\r",
      "                                                                               \r",
      "\r",
      " 25% (185 of 738) |#####                 | Elapsed Time: 0:00:40 ETA:   0:01:52"
     ]
    },
    {
     "name": "stdout",
     "output_type": "stream",
     "text": [
      "http://api.openweathermap.org/data/2.5/weather?appid=03b66fb88de8694398153caaae511ea5&q=mayumba&units=imperial\n"
     ]
    },
    {
     "name": "stderr",
     "output_type": "stream",
     "text": [
      "\r",
      "                                                                               \r",
      "\r",
      " 25% (186 of 738) |#####                 | Elapsed Time: 0:00:40 ETA:   0:02:04"
     ]
    },
    {
     "name": "stdout",
     "output_type": "stream",
     "text": [
      "http://api.openweathermap.org/data/2.5/weather?appid=03b66fb88de8694398153caaae511ea5&q=korhogo&units=imperial\n"
     ]
    },
    {
     "name": "stderr",
     "output_type": "stream",
     "text": [
      " 25% (188 of 738) |#####                 | Elapsed Time: 0:00:40 ETA:   0:01:53"
     ]
    },
    {
     "name": "stdout",
     "output_type": "stream",
     "text": [
      "http://api.openweathermap.org/data/2.5/weather?appid=03b66fb88de8694398153caaae511ea5&q=wulanhaote&units=imperial\n",
      "http://api.openweathermap.org/data/2.5/weather?appid=03b66fb88de8694398153caaae511ea5&q=avanigadda&units=imperial\n"
     ]
    },
    {
     "name": "stderr",
     "output_type": "stream",
     "text": [
      "\r",
      "                                                                               \r",
      "\r",
      " 25% (189 of 738) |#####                 | Elapsed Time: 0:00:41 ETA:   0:01:59"
     ]
    },
    {
     "name": "stdout",
     "output_type": "stream",
     "text": [
      "http://api.openweathermap.org/data/2.5/weather?appid=03b66fb88de8694398153caaae511ea5&q=marcona&units=imperial\n"
     ]
    },
    {
     "name": "stderr",
     "output_type": "stream",
     "text": [
      " 25% (191 of 738) |#####                 | Elapsed Time: 0:00:41 ETA:   0:01:59"
     ]
    },
    {
     "name": "stdout",
     "output_type": "stream",
     "text": [
      "http://api.openweathermap.org/data/2.5/weather?appid=03b66fb88de8694398153caaae511ea5&q=herat&units=imperial\n",
      "http://api.openweathermap.org/data/2.5/weather?appid=03b66fb88de8694398153caaae511ea5&q=kruisfontein&units=imperial\n"
     ]
    },
    {
     "name": "stderr",
     "output_type": "stream",
     "text": [
      " 26% (193 of 738) |#####                 | Elapsed Time: 0:00:41 ETA:   0:01:49"
     ]
    },
    {
     "name": "stdout",
     "output_type": "stream",
     "text": [
      "http://api.openweathermap.org/data/2.5/weather?appid=03b66fb88de8694398153caaae511ea5&q=ushuaia&units=imperial\n",
      "http://api.openweathermap.org/data/2.5/weather?appid=03b66fb88de8694398153caaae511ea5&q=grindavik&units=imperial\n"
     ]
    },
    {
     "name": "stderr",
     "output_type": "stream",
     "text": [
      "\r",
      "                                                                               \r",
      "\r",
      " 26% (194 of 738) |#####                 | Elapsed Time: 0:00:42 ETA:   0:01:55"
     ]
    },
    {
     "name": "stdout",
     "output_type": "stream",
     "text": [
      "http://api.openweathermap.org/data/2.5/weather?appid=03b66fb88de8694398153caaae511ea5&q=celestun&units=imperial\n"
     ]
    },
    {
     "name": "stderr",
     "output_type": "stream",
     "text": [
      "\r",
      "                                                                               \r",
      "\r",
      " 26% (195 of 738) |#####                 | Elapsed Time: 0:00:42 ETA:   0:02:01"
     ]
    },
    {
     "name": "stdout",
     "output_type": "stream",
     "text": [
      "http://api.openweathermap.org/data/2.5/weather?appid=03b66fb88de8694398153caaae511ea5&q=edd&units=imperial\n"
     ]
    },
    {
     "name": "stderr",
     "output_type": "stream",
     "text": [
      "\r",
      "                                                                               \r",
      "\r",
      " 26% (196 of 738) |#####                 | Elapsed Time: 0:00:42 ETA:   0:01:54"
     ]
    },
    {
     "name": "stdout",
     "output_type": "stream",
     "text": [
      "http://api.openweathermap.org/data/2.5/weather?appid=03b66fb88de8694398153caaae511ea5&q=srisailam&units=imperial\n"
     ]
    },
    {
     "name": "stderr",
     "output_type": "stream",
     "text": [
      " 26% (198 of 738) |#####                 | Elapsed Time: 0:00:42 ETA:   0:01:52"
     ]
    },
    {
     "name": "stdout",
     "output_type": "stream",
     "text": [
      "http://api.openweathermap.org/data/2.5/weather?appid=03b66fb88de8694398153caaae511ea5&q=arraial do cabo&units=imperial\n",
      "http://api.openweathermap.org/data/2.5/weather?appid=03b66fb88de8694398153caaae511ea5&q=bronnoysund&units=imperial\n"
     ]
    },
    {
     "name": "stderr",
     "output_type": "stream",
     "text": [
      " 27% (200 of 738) |#####                 | Elapsed Time: 0:00:43 ETA:   0:01:49"
     ]
    },
    {
     "name": "stdout",
     "output_type": "stream",
     "text": [
      "http://api.openweathermap.org/data/2.5/weather?appid=03b66fb88de8694398153caaae511ea5&q=garissa&units=imperial\n",
      "http://api.openweathermap.org/data/2.5/weather?appid=03b66fb88de8694398153caaae511ea5&q=leeton&units=imperial\n"
     ]
    },
    {
     "name": "stderr",
     "output_type": "stream",
     "text": [
      " 27% (202 of 738) |######                | Elapsed Time: 0:00:43 ETA:   0:01:54"
     ]
    },
    {
     "name": "stdout",
     "output_type": "stream",
     "text": [
      "http://api.openweathermap.org/data/2.5/weather?appid=03b66fb88de8694398153caaae511ea5&q=samarai&units=imperial\n",
      "http://api.openweathermap.org/data/2.5/weather?appid=03b66fb88de8694398153caaae511ea5&q=yellowknife&units=imperial\n"
     ]
    },
    {
     "name": "stderr",
     "output_type": "stream",
     "text": [
      " 27% (204 of 738) |######                | Elapsed Time: 0:00:44 ETA:   0:01:47"
     ]
    },
    {
     "name": "stdout",
     "output_type": "stream",
     "text": [
      "http://api.openweathermap.org/data/2.5/weather?appid=03b66fb88de8694398153caaae511ea5&q=tsihombe&units=imperial\n",
      "http://api.openweathermap.org/data/2.5/weather?appid=03b66fb88de8694398153caaae511ea5&q=ugoofaaru&units=imperial\n"
     ]
    },
    {
     "name": "stderr",
     "output_type": "stream",
     "text": [
      "\r",
      "                                                                               \r",
      "\r",
      " 27% (205 of 738) |######                | Elapsed Time: 0:00:44 ETA:   0:01:45"
     ]
    },
    {
     "name": "stdout",
     "output_type": "stream",
     "text": [
      "http://api.openweathermap.org/data/2.5/weather?appid=03b66fb88de8694398153caaae511ea5&q=fourmies&units=imperial\n"
     ]
    },
    {
     "name": "stderr",
     "output_type": "stream",
     "text": [
      " 28% (207 of 738) |######                | Elapsed Time: 0:00:44 ETA:   0:01:42"
     ]
    },
    {
     "name": "stdout",
     "output_type": "stream",
     "text": [
      "http://api.openweathermap.org/data/2.5/weather?appid=03b66fb88de8694398153caaae511ea5&q=san jose&units=imperial\n"
     ]
    },
    {
     "name": "stderr",
     "output_type": "stream",
     "text": [
      "\r",
      "                                                                               \r",
      "\r",
      " 28% (208 of 738) |######                | Elapsed Time: 0:00:44 ETA:   0:01:37"
     ]
    },
    {
     "name": "stdout",
     "output_type": "stream",
     "text": [
      "http://api.openweathermap.org/data/2.5/weather?appid=03b66fb88de8694398153caaae511ea5&q=kalmunai&units=imperial\n",
      "http://api.openweathermap.org/data/2.5/weather?appid=03b66fb88de8694398153caaae511ea5&q=nishihara&units=imperial\n"
     ]
    },
    {
     "name": "stderr",
     "output_type": "stream",
     "text": [
      "\r",
      "                                                                               \r",
      "\r",
      " 28% (209 of 738) |######                | Elapsed Time: 0:00:44 ETA:   0:01:38"
     ]
    },
    {
     "name": "stdout",
     "output_type": "stream",
     "text": [
      "http://api.openweathermap.org/data/2.5/weather?appid=03b66fb88de8694398153caaae511ea5&q=fort pierce&units=imperial\n"
     ]
    },
    {
     "name": "stderr",
     "output_type": "stream",
     "text": [
      "\r",
      "                                                                               \r",
      "\r",
      " 28% (210 of 738) |######                | Elapsed Time: 0:00:45 ETA:   0:01:36"
     ]
    },
    {
     "name": "stdout",
     "output_type": "stream",
     "text": [
      "http://api.openweathermap.org/data/2.5/weather?appid=03b66fb88de8694398153caaae511ea5&q=nastola&units=imperial\n"
     ]
    },
    {
     "name": "stderr",
     "output_type": "stream",
     "text": [
      " 28% (212 of 738) |######                | Elapsed Time: 0:00:45 ETA:   0:01:38"
     ]
    },
    {
     "name": "stdout",
     "output_type": "stream",
     "text": [
      "http://api.openweathermap.org/data/2.5/weather?appid=03b66fb88de8694398153caaae511ea5&q=ambon&units=imperial\n",
      "http://api.openweathermap.org/data/2.5/weather?appid=03b66fb88de8694398153caaae511ea5&q=luangwa&units=imperial\n"
     ]
    },
    {
     "name": "stderr",
     "output_type": "stream",
     "text": [
      "\r",
      "                                                                               \r",
      "\r",
      " 28% (213 of 738) |######                | Elapsed Time: 0:00:45 ETA:   0:01:46"
     ]
    },
    {
     "name": "stdout",
     "output_type": "stream",
     "text": [
      "http://api.openweathermap.org/data/2.5/weather?appid=03b66fb88de8694398153caaae511ea5&q=acari&units=imperial\n"
     ]
    },
    {
     "name": "stderr",
     "output_type": "stream",
     "text": [
      " 29% (215 of 738) |######                | Elapsed Time: 0:00:46 ETA:   0:01:58"
     ]
    },
    {
     "name": "stdout",
     "output_type": "stream",
     "text": [
      "http://api.openweathermap.org/data/2.5/weather?appid=03b66fb88de8694398153caaae511ea5&q=norfolk&units=imperial\n",
      "http://api.openweathermap.org/data/2.5/weather?appid=03b66fb88de8694398153caaae511ea5&q=capao bonito&units=imperial\n"
     ]
    },
    {
     "name": "stderr",
     "output_type": "stream",
     "text": [
      " 29% (217 of 738) |######                | Elapsed Time: 0:00:46 ETA:   0:01:56"
     ]
    },
    {
     "name": "stdout",
     "output_type": "stream",
     "text": [
      "http://api.openweathermap.org/data/2.5/weather?appid=03b66fb88de8694398153caaae511ea5&q=leshukonskoye&units=imperial\n",
      "http://api.openweathermap.org/data/2.5/weather?appid=03b66fb88de8694398153caaae511ea5&q=bolungarvik&units=imperial\n"
     ]
    },
    {
     "name": "stderr",
     "output_type": "stream",
     "text": [
      " 29% (219 of 738) |######                | Elapsed Time: 0:00:47 ETA:   0:01:52"
     ]
    },
    {
     "name": "stdout",
     "output_type": "stream",
     "text": [
      "http://api.openweathermap.org/data/2.5/weather?appid=03b66fb88de8694398153caaae511ea5&q=rawson&units=imperial\n",
      "http://api.openweathermap.org/data/2.5/weather?appid=03b66fb88de8694398153caaae511ea5&q=kologriv&units=imperial\n"
     ]
    },
    {
     "name": "stderr",
     "output_type": "stream",
     "text": [
      "\r",
      "                                                                               \r",
      "\r",
      " 29% (220 of 738) |######                | Elapsed Time: 0:00:47 ETA:   0:01:51"
     ]
    },
    {
     "name": "stdout",
     "output_type": "stream",
     "text": [
      "http://api.openweathermap.org/data/2.5/weather?appid=03b66fb88de8694398153caaae511ea5&q=hirara&units=imperial\n"
     ]
    },
    {
     "name": "stderr",
     "output_type": "stream",
     "text": [
      " 30% (222 of 738) |######                | Elapsed Time: 0:00:47 ETA:   0:01:47"
     ]
    },
    {
     "name": "stdout",
     "output_type": "stream",
     "text": [
      "http://api.openweathermap.org/data/2.5/weather?appid=03b66fb88de8694398153caaae511ea5&q=wahran&units=imperial\n",
      "http://api.openweathermap.org/data/2.5/weather?appid=03b66fb88de8694398153caaae511ea5&q=semey&units=imperial\n"
     ]
    },
    {
     "name": "stderr",
     "output_type": "stream",
     "text": [
      "\r",
      "                                                                               \r",
      "\r",
      " 30% (223 of 738) |######                | Elapsed Time: 0:00:48 ETA:   0:01:45"
     ]
    },
    {
     "name": "stdout",
     "output_type": "stream",
     "text": [
      "http://api.openweathermap.org/data/2.5/weather?appid=03b66fb88de8694398153caaae511ea5&q=larsnes&units=imperial\n"
     ]
    },
    {
     "name": "stderr",
     "output_type": "stream",
     "text": [
      " 30% (225 of 738) |######                | Elapsed Time: 0:00:48 ETA:   0:01:37"
     ]
    },
    {
     "name": "stdout",
     "output_type": "stream",
     "text": [
      "http://api.openweathermap.org/data/2.5/weather?appid=03b66fb88de8694398153caaae511ea5&q=geraldton&units=imperial\n",
      "http://api.openweathermap.org/data/2.5/weather?appid=03b66fb88de8694398153caaae511ea5&q=tamandare&units=imperial\n"
     ]
    },
    {
     "name": "stderr",
     "output_type": "stream",
     "text": [
      " 30% (227 of 738) |######                | Elapsed Time: 0:00:48 ETA:   0:01:44"
     ]
    },
    {
     "name": "stdout",
     "output_type": "stream",
     "text": [
      "http://api.openweathermap.org/data/2.5/weather?appid=03b66fb88de8694398153caaae511ea5&q=grants pass&units=imperial\n",
      "http://api.openweathermap.org/data/2.5/weather?appid=03b66fb88de8694398153caaae511ea5&q=jumla&units=imperial\n"
     ]
    },
    {
     "name": "stderr",
     "output_type": "stream",
     "text": [
      " 31% (229 of 738) |######                | Elapsed Time: 0:00:49 ETA:   0:01:49"
     ]
    },
    {
     "name": "stdout",
     "output_type": "stream",
     "text": [
      "http://api.openweathermap.org/data/2.5/weather?appid=03b66fb88de8694398153caaae511ea5&q=karratha&units=imperial\n",
      "http://api.openweathermap.org/data/2.5/weather?appid=03b66fb88de8694398153caaae511ea5&q=canyon&units=imperial\n"
     ]
    },
    {
     "name": "stderr",
     "output_type": "stream",
     "text": [
      " 31% (231 of 738) |######                | Elapsed Time: 0:00:49 ETA:   0:01:42"
     ]
    },
    {
     "name": "stdout",
     "output_type": "stream",
     "text": [
      "http://api.openweathermap.org/data/2.5/weather?appid=03b66fb88de8694398153caaae511ea5&q=albany&units=imperial\n",
      "http://api.openweathermap.org/data/2.5/weather?appid=03b66fb88de8694398153caaae511ea5&q=kapaa&units=imperial\n"
     ]
    },
    {
     "name": "stderr",
     "output_type": "stream",
     "text": [
      "\r",
      "                                                                               \r",
      "\r",
      " 31% (232 of 738) |######                | Elapsed Time: 0:00:49 ETA:   0:01:37"
     ]
    },
    {
     "name": "stdout",
     "output_type": "stream",
     "text": [
      "http://api.openweathermap.org/data/2.5/weather?appid=03b66fb88de8694398153caaae511ea5&q=churachandpur&units=imperial\n"
     ]
    },
    {
     "name": "stderr",
     "output_type": "stream",
     "text": [
      " 31% (234 of 738) |######                | Elapsed Time: 0:00:50 ETA:   0:01:37"
     ]
    },
    {
     "name": "stdout",
     "output_type": "stream",
     "text": [
      "http://api.openweathermap.org/data/2.5/weather?appid=03b66fb88de8694398153caaae511ea5&q=haibowan&units=imperial\n",
      "http://api.openweathermap.org/data/2.5/weather?appid=03b66fb88de8694398153caaae511ea5&q=port hardy&units=imperial\n"
     ]
    },
    {
     "name": "stderr",
     "output_type": "stream",
     "text": [
      "\r",
      "                                                                               \r",
      "\r",
      " 31% (235 of 738) |#######               | Elapsed Time: 0:00:50 ETA:   0:01:35"
     ]
    },
    {
     "name": "stdout",
     "output_type": "stream",
     "text": [
      "http://api.openweathermap.org/data/2.5/weather?appid=03b66fb88de8694398153caaae511ea5&q=marfino&units=imperial\n"
     ]
    },
    {
     "name": "stderr",
     "output_type": "stream",
     "text": [
      "\r",
      "                                                                               \r",
      "\r",
      " 31% (236 of 738) |#######               | Elapsed Time: 0:00:50 ETA:   0:01:35"
     ]
    },
    {
     "name": "stdout",
     "output_type": "stream",
     "text": [
      "http://api.openweathermap.org/data/2.5/weather?appid=03b66fb88de8694398153caaae511ea5&q=evensk&units=imperial\n"
     ]
    },
    {
     "name": "stderr",
     "output_type": "stream",
     "text": [
      " 32% (238 of 738) |#######               | Elapsed Time: 0:00:50 ETA:   0:01:36"
     ]
    },
    {
     "name": "stdout",
     "output_type": "stream",
     "text": [
      "http://api.openweathermap.org/data/2.5/weather?appid=03b66fb88de8694398153caaae511ea5&q=scarborough&units=imperial\n",
      "http://api.openweathermap.org/data/2.5/weather?appid=03b66fb88de8694398153caaae511ea5&q=sulurpeta&units=imperial\n"
     ]
    },
    {
     "name": "stderr",
     "output_type": "stream",
     "text": [
      "\r",
      "                                                                               \r",
      "\r",
      " 32% (239 of 738) |#######               | Elapsed Time: 0:00:51 ETA:   0:01:30"
     ]
    },
    {
     "name": "stdout",
     "output_type": "stream",
     "text": [
      "http://api.openweathermap.org/data/2.5/weather?appid=03b66fb88de8694398153caaae511ea5&q=jenison&units=imperial\n"
     ]
    },
    {
     "name": "stderr",
     "output_type": "stream",
     "text": [
      "\r",
      "                                                                               \r",
      "\r",
      " 32% (240 of 738) |#######               | Elapsed Time: 0:00:51 ETA:   0:01:36"
     ]
    },
    {
     "name": "stdout",
     "output_type": "stream",
     "text": [
      "http://api.openweathermap.org/data/2.5/weather?appid=03b66fb88de8694398153caaae511ea5&q=kyren&units=imperial\n"
     ]
    },
    {
     "name": "stderr",
     "output_type": "stream",
     "text": [
      "\r",
      "                                                                               \r",
      "\r",
      " 32% (241 of 738) |#######               | Elapsed Time: 0:00:51 ETA:   0:01:42"
     ]
    },
    {
     "name": "stdout",
     "output_type": "stream",
     "text": [
      "http://api.openweathermap.org/data/2.5/weather?appid=03b66fb88de8694398153caaae511ea5&q=topchikha&units=imperial\n"
     ]
    },
    {
     "name": "stderr",
     "output_type": "stream",
     "text": [
      " 32% (243 of 738) |#######               | Elapsed Time: 0:00:52 ETA:   0:01:42"
     ]
    },
    {
     "name": "stdout",
     "output_type": "stream",
     "text": [
      "http://api.openweathermap.org/data/2.5/weather?appid=03b66fb88de8694398153caaae511ea5&q=riyadh&units=imperial\n",
      "http://api.openweathermap.org/data/2.5/weather?appid=03b66fb88de8694398153caaae511ea5&q=kabalo&units=imperial\n"
     ]
    },
    {
     "name": "stderr",
     "output_type": "stream",
     "text": [
      "\r",
      "                                                                               \r",
      "\r",
      " 33% (244 of 738) |#######               | Elapsed Time: 0:00:52 ETA:   0:01:50"
     ]
    },
    {
     "name": "stdout",
     "output_type": "stream",
     "text": [
      "http://api.openweathermap.org/data/2.5/weather?appid=03b66fb88de8694398153caaae511ea5&q=ampanihy&units=imperial\n"
     ]
    },
    {
     "name": "stderr",
     "output_type": "stream",
     "text": [
      "\r",
      "                                                                               \r",
      "\r",
      " 33% (245 of 738) |#######               | Elapsed Time: 0:00:52 ETA:   0:01:50"
     ]
    },
    {
     "name": "stdout",
     "output_type": "stream",
     "text": [
      "http://api.openweathermap.org/data/2.5/weather?appid=03b66fb88de8694398153caaae511ea5&q=batemans bay&units=imperial\n"
     ]
    },
    {
     "name": "stderr",
     "output_type": "stream",
     "text": [
      " 33% (247 of 738) |#######               | Elapsed Time: 0:00:52 ETA:   0:01:43"
     ]
    },
    {
     "name": "stdout",
     "output_type": "stream",
     "text": [
      "http://api.openweathermap.org/data/2.5/weather?appid=03b66fb88de8694398153caaae511ea5&q=lorengau&units=imperial\n",
      "http://api.openweathermap.org/data/2.5/weather?appid=03b66fb88de8694398153caaae511ea5&q=vichuga&units=imperial\n"
     ]
    },
    {
     "name": "stderr",
     "output_type": "stream",
     "text": [
      " 33% (249 of 738) |#######               | Elapsed Time: 0:00:53 ETA:   0:01:47"
     ]
    },
    {
     "name": "stdout",
     "output_type": "stream",
     "text": [
      "http://api.openweathermap.org/data/2.5/weather?appid=03b66fb88de8694398153caaae511ea5&q=alofi&units=imperial\n",
      "http://api.openweathermap.org/data/2.5/weather?appid=03b66fb88de8694398153caaae511ea5&q=shingu&units=imperial\n"
     ]
    },
    {
     "name": "stderr",
     "output_type": "stream",
     "text": [
      "\r",
      "                                                                               \r",
      "\r",
      " 33% (250 of 738) |#######               | Elapsed Time: 0:00:53 ETA:   0:01:41"
     ]
    },
    {
     "name": "stdout",
     "output_type": "stream",
     "text": [
      "http://api.openweathermap.org/data/2.5/weather?appid=03b66fb88de8694398153caaae511ea5&q=ongandjera&units=imperial\n"
     ]
    },
    {
     "name": "stderr",
     "output_type": "stream",
     "text": [
      "\r",
      "                                                                               \r",
      "\r",
      " 34% (251 of 738) |#######               | Elapsed Time: 0:00:53 ETA:   0:01:42"
     ]
    },
    {
     "name": "stdout",
     "output_type": "stream",
     "text": [
      "http://api.openweathermap.org/data/2.5/weather?appid=03b66fb88de8694398153caaae511ea5&q=daia&units=imperial\n"
     ]
    },
    {
     "name": "stderr",
     "output_type": "stream",
     "text": [
      " 34% (253 of 738) |#######               | Elapsed Time: 0:00:54 ETA:   0:01:42"
     ]
    },
    {
     "name": "stdout",
     "output_type": "stream",
     "text": [
      "http://api.openweathermap.org/data/2.5/weather?appid=03b66fb88de8694398153caaae511ea5&q=dujuma&units=imperial\n",
      "http://api.openweathermap.org/data/2.5/weather?appid=03b66fb88de8694398153caaae511ea5&q=victor harbor&units=imperial\n"
     ]
    },
    {
     "name": "stderr",
     "output_type": "stream",
     "text": [
      "\r",
      "                                                                               \r",
      "\r",
      " 34% (254 of 738) |#######               | Elapsed Time: 0:00:54 ETA:   0:01:38"
     ]
    },
    {
     "name": "stdout",
     "output_type": "stream",
     "text": [
      "http://api.openweathermap.org/data/2.5/weather?appid=03b66fb88de8694398153caaae511ea5&q=araouane&units=imperial\n"
     ]
    },
    {
     "name": "stderr",
     "output_type": "stream",
     "text": [
      " 34% (256 of 738) |#######               | Elapsed Time: 0:00:54 ETA:   0:01:34"
     ]
    },
    {
     "name": "stdout",
     "output_type": "stream",
     "text": [
      "http://api.openweathermap.org/data/2.5/weather?appid=03b66fb88de8694398153caaae511ea5&q=ponta delgada&units=imperial\n",
      "http://api.openweathermap.org/data/2.5/weather?appid=03b66fb88de8694398153caaae511ea5&q=asfi&units=imperial\n"
     ]
    },
    {
     "name": "stderr",
     "output_type": "stream",
     "text": [
      "\r",
      "                                                                               \r",
      "\r",
      " 34% (257 of 738) |#######               | Elapsed Time: 0:00:54 ETA:   0:01:29"
     ]
    },
    {
     "name": "stdout",
     "output_type": "stream",
     "text": [
      "http://api.openweathermap.org/data/2.5/weather?appid=03b66fb88de8694398153caaae511ea5&q=taltal&units=imperial\n"
     ]
    },
    {
     "name": "stderr",
     "output_type": "stream",
     "text": [
      " 35% (259 of 738) |#######               | Elapsed Time: 0:00:55 ETA:   0:01:31"
     ]
    },
    {
     "name": "stdout",
     "output_type": "stream",
     "text": [
      "http://api.openweathermap.org/data/2.5/weather?appid=03b66fb88de8694398153caaae511ea5&q=berbera&units=imperial\n",
      "http://api.openweathermap.org/data/2.5/weather?appid=03b66fb88de8694398153caaae511ea5&q=paita&units=imperial\n"
     ]
    },
    {
     "name": "stderr",
     "output_type": "stream",
     "text": [
      "\r",
      "                                                                               \r",
      "\r",
      " 35% (260 of 738) |#######               | Elapsed Time: 0:00:55 ETA:   0:01:36"
     ]
    },
    {
     "name": "stdout",
     "output_type": "stream",
     "text": [
      "http://api.openweathermap.org/data/2.5/weather?appid=03b66fb88de8694398153caaae511ea5&q=morondava&units=imperial\n"
     ]
    },
    {
     "name": "stderr",
     "output_type": "stream",
     "text": [
      " 35% (262 of 738) |#######               | Elapsed Time: 0:00:55 ETA:   0:01:34"
     ]
    },
    {
     "name": "stdout",
     "output_type": "stream",
     "text": [
      "http://api.openweathermap.org/data/2.5/weather?appid=03b66fb88de8694398153caaae511ea5&q=sernur&units=imperial\n",
      "http://api.openweathermap.org/data/2.5/weather?appid=03b66fb88de8694398153caaae511ea5&q=toribio&units=imperial\n"
     ]
    },
    {
     "name": "stderr",
     "output_type": "stream",
     "text": [
      "\r",
      "                                                                               \r",
      "\r",
      " 35% (263 of 738) |#######               | Elapsed Time: 0:00:56 ETA:   0:01:37"
     ]
    },
    {
     "name": "stdout",
     "output_type": "stream",
     "text": [
      "http://api.openweathermap.org/data/2.5/weather?appid=03b66fb88de8694398153caaae511ea5&q=neepawa&units=imperial\n"
     ]
    },
    {
     "name": "stderr",
     "output_type": "stream",
     "text": [
      "\r",
      "                                                                               \r",
      "\r",
      " 35% (264 of 738) |#######               | Elapsed Time: 0:00:56 ETA:   0:01:41"
     ]
    },
    {
     "name": "stdout",
     "output_type": "stream",
     "text": [
      "http://api.openweathermap.org/data/2.5/weather?appid=03b66fb88de8694398153caaae511ea5&q=maniitsoq&units=imperial\n"
     ]
    },
    {
     "name": "stderr",
     "output_type": "stream",
     "text": [
      " 36% (266 of 738) |#######               | Elapsed Time: 0:00:56 ETA:   0:01:40"
     ]
    },
    {
     "name": "stdout",
     "output_type": "stream",
     "text": [
      "http://api.openweathermap.org/data/2.5/weather?appid=03b66fb88de8694398153caaae511ea5&q=amderma&units=imperial\n",
      "http://api.openweathermap.org/data/2.5/weather?appid=03b66fb88de8694398153caaae511ea5&q=fort saint john&units=imperial\n"
     ]
    },
    {
     "name": "stderr",
     "output_type": "stream",
     "text": [
      " 36% (268 of 738) |#######               | Elapsed Time: 0:00:57 ETA:   0:01:35"
     ]
    },
    {
     "name": "stdout",
     "output_type": "stream",
     "text": [
      "http://api.openweathermap.org/data/2.5/weather?appid=03b66fb88de8694398153caaae511ea5&q=zabinka&units=imperial\n",
      "http://api.openweathermap.org/data/2.5/weather?appid=03b66fb88de8694398153caaae511ea5&q=okhotsk&units=imperial\n"
     ]
    },
    {
     "name": "stderr",
     "output_type": "stream",
     "text": [
      "\r",
      "                                                                               \r",
      "\r",
      " 36% (269 of 738) |########              | Elapsed Time: 0:00:57 ETA:   0:01:35"
     ]
    },
    {
     "name": "stdout",
     "output_type": "stream",
     "text": [
      "http://api.openweathermap.org/data/2.5/weather?appid=03b66fb88de8694398153caaae511ea5&q=kankan&units=imperial\n"
     ]
    },
    {
     "name": "stderr",
     "output_type": "stream",
     "text": [
      " 36% (271 of 738) |########              | Elapsed Time: 0:00:57 ETA:   0:01:33"
     ]
    },
    {
     "name": "stdout",
     "output_type": "stream",
     "text": [
      "http://api.openweathermap.org/data/2.5/weather?appid=03b66fb88de8694398153caaae511ea5&q=esperance&units=imperial\n",
      "http://api.openweathermap.org/data/2.5/weather?appid=03b66fb88de8694398153caaae511ea5&q=vao&units=imperial\n"
     ]
    },
    {
     "name": "stderr",
     "output_type": "stream",
     "text": [
      "\r",
      "                                                                               \r",
      "\r",
      " 36% (272 of 738) |########              | Elapsed Time: 0:00:57 ETA:   0:01:28"
     ]
    },
    {
     "name": "stdout",
     "output_type": "stream",
     "text": [
      "http://api.openweathermap.org/data/2.5/weather?appid=03b66fb88de8694398153caaae511ea5&q=chancay&units=imperial\n"
     ]
    },
    {
     "name": "stderr",
     "output_type": "stream",
     "text": [
      " 37% (274 of 738) |########              | Elapsed Time: 0:00:58 ETA:   0:01:27"
     ]
    },
    {
     "name": "stdout",
     "output_type": "stream",
     "text": [
      "http://api.openweathermap.org/data/2.5/weather?appid=03b66fb88de8694398153caaae511ea5&q=cazaje&units=imperial\n",
      "http://api.openweathermap.org/data/2.5/weather?appid=03b66fb88de8694398153caaae511ea5&q=sungaipenuh&units=imperial\n"
     ]
    },
    {
     "name": "stderr",
     "output_type": "stream",
     "text": [
      "\r",
      "                                                                               \r",
      "\r",
      " 37% (275 of 738) |########              | Elapsed Time: 0:00:58 ETA:   0:01:26"
     ]
    },
    {
     "name": "stdout",
     "output_type": "stream",
     "text": [
      "http://api.openweathermap.org/data/2.5/weather?appid=03b66fb88de8694398153caaae511ea5&q=kitui&units=imperial\n"
     ]
    },
    {
     "name": "stderr",
     "output_type": "stream",
     "text": [
      " 37% (277 of 738) |########              | Elapsed Time: 0:00:58 ETA:   0:01:28"
     ]
    },
    {
     "name": "stdout",
     "output_type": "stream",
     "text": [
      "http://api.openweathermap.org/data/2.5/weather?appid=03b66fb88de8694398153caaae511ea5&q=tasiilaq&units=imperial\n",
      "http://api.openweathermap.org/data/2.5/weather?appid=03b66fb88de8694398153caaae511ea5&q=wadi&units=imperial\n"
     ]
    },
    {
     "name": "stderr",
     "output_type": "stream",
     "text": [
      "\r",
      "                                                                               \r",
      "\r",
      " 37% (278 of 738) |########              | Elapsed Time: 0:00:59 ETA:   0:01:35"
     ]
    },
    {
     "name": "stdout",
     "output_type": "stream",
     "text": [
      "http://api.openweathermap.org/data/2.5/weather?appid=03b66fb88de8694398153caaae511ea5&q=kamenka&units=imperial\n"
     ]
    },
    {
     "name": "stderr",
     "output_type": "stream",
     "text": [
      " 37% (280 of 738) |########              | Elapsed Time: 0:00:59 ETA:   0:01:41"
     ]
    },
    {
     "name": "stdout",
     "output_type": "stream",
     "text": [
      "http://api.openweathermap.org/data/2.5/weather?appid=03b66fb88de8694398153caaae511ea5&q=fevralsk&units=imperial\n",
      "http://api.openweathermap.org/data/2.5/weather?appid=03b66fb88de8694398153caaae511ea5&q=show low&units=imperial\n"
     ]
    },
    {
     "name": "stderr",
     "output_type": "stream",
     "text": [
      " 38% (282 of 738) |########              | Elapsed Time: 0:01:00 ETA:   0:01:41"
     ]
    },
    {
     "name": "stdout",
     "output_type": "stream",
     "text": [
      "http://api.openweathermap.org/data/2.5/weather?appid=03b66fb88de8694398153caaae511ea5&q=yafran&units=imperial\n",
      "http://api.openweathermap.org/data/2.5/weather?appid=03b66fb88de8694398153caaae511ea5&q=suoyarvi&units=imperial\n"
     ]
    },
    {
     "name": "stderr",
     "output_type": "stream",
     "text": [
      " 38% (284 of 738) |########              | Elapsed Time: 0:01:00 ETA:   0:01:41"
     ]
    },
    {
     "name": "stdout",
     "output_type": "stream",
     "text": [
      "http://api.openweathermap.org/data/2.5/weather?appid=03b66fb88de8694398153caaae511ea5&q=pisco&units=imperial\n",
      "http://api.openweathermap.org/data/2.5/weather?appid=03b66fb88de8694398153caaae511ea5&q=longyearbyen&units=imperial\n"
     ]
    },
    {
     "name": "stderr",
     "output_type": "stream",
     "text": [
      "\r",
      "                                                                               \r",
      "\r",
      " 38% (285 of 738) |########              | Elapsed Time: 0:01:00 ETA:   0:01:37"
     ]
    },
    {
     "name": "stdout",
     "output_type": "stream",
     "text": [
      "http://api.openweathermap.org/data/2.5/weather?appid=03b66fb88de8694398153caaae511ea5&q=seydisehir&units=imperial\n"
     ]
    },
    {
     "name": "stderr",
     "output_type": "stream",
     "text": [
      "\r",
      "                                                                               \r",
      "\r",
      " 38% (286 of 738) |########              | Elapsed Time: 0:01:00 ETA:   0:01:33"
     ]
    },
    {
     "name": "stdout",
     "output_type": "stream",
     "text": [
      "http://api.openweathermap.org/data/2.5/weather?appid=03b66fb88de8694398153caaae511ea5&q=umm lajj&units=imperial\n"
     ]
    },
    {
     "name": "stderr",
     "output_type": "stream",
     "text": [
      "\r",
      "                                                                               \r",
      "\r",
      " 38% (287 of 738) |########              | Elapsed Time: 0:01:01 ETA:   0:01:38"
     ]
    },
    {
     "name": "stdout",
     "output_type": "stream",
     "text": [
      "http://api.openweathermap.org/data/2.5/weather?appid=03b66fb88de8694398153caaae511ea5&q=la baneza&units=imperial\n"
     ]
    },
    {
     "name": "stderr",
     "output_type": "stream",
     "text": [
      " 39% (289 of 738) |########              | Elapsed Time: 0:01:01 ETA:   0:01:36"
     ]
    },
    {
     "name": "stdout",
     "output_type": "stream",
     "text": [
      "http://api.openweathermap.org/data/2.5/weather?appid=03b66fb88de8694398153caaae511ea5&q=kenai&units=imperial\n",
      "http://api.openweathermap.org/data/2.5/weather?appid=03b66fb88de8694398153caaae511ea5&q=san juan&units=imperial\n"
     ]
    },
    {
     "name": "stderr",
     "output_type": "stream",
     "text": [
      "\r",
      "                                                                               \r",
      "\r",
      " 39% (290 of 738) |########              | Elapsed Time: 0:01:01 ETA:   0:01:36"
     ]
    },
    {
     "name": "stdout",
     "output_type": "stream",
     "text": [
      "http://api.openweathermap.org/data/2.5/weather?appid=03b66fb88de8694398153caaae511ea5&q=wanxian&units=imperial\n"
     ]
    },
    {
     "name": "stderr",
     "output_type": "stream",
     "text": [
      " 39% (292 of 738) |########              | Elapsed Time: 0:01:02 ETA:   0:01:37"
     ]
    },
    {
     "name": "stdout",
     "output_type": "stream",
     "text": [
      "http://api.openweathermap.org/data/2.5/weather?appid=03b66fb88de8694398153caaae511ea5&q=tiksi&units=imperial\n",
      "http://api.openweathermap.org/data/2.5/weather?appid=03b66fb88de8694398153caaae511ea5&q=mocambique&units=imperial\n"
     ]
    },
    {
     "name": "stderr",
     "output_type": "stream",
     "text": [
      " 39% (294 of 738) |########              | Elapsed Time: 0:01:02 ETA:   0:01:32"
     ]
    },
    {
     "name": "stdout",
     "output_type": "stream",
     "text": [
      "http://api.openweathermap.org/data/2.5/weather?appid=03b66fb88de8694398153caaae511ea5&q=temaraia&units=imperial\n",
      "http://api.openweathermap.org/data/2.5/weather?appid=03b66fb88de8694398153caaae511ea5&q=san felipe&units=imperial\n"
     ]
    },
    {
     "name": "stderr",
     "output_type": "stream",
     "text": [
      " 40% (296 of 738) |########              | Elapsed Time: 0:01:03 ETA:   0:01:41"
     ]
    },
    {
     "name": "stdout",
     "output_type": "stream",
     "text": [
      "http://api.openweathermap.org/data/2.5/weather?appid=03b66fb88de8694398153caaae511ea5&q=grand river south east&units=imperial\n",
      "http://api.openweathermap.org/data/2.5/weather?appid=03b66fb88de8694398153caaae511ea5&q=villarrica&units=imperial\n"
     ]
    },
    {
     "name": "stderr",
     "output_type": "stream",
     "text": [
      "\r",
      "                                                                               \r",
      "\r",
      " 40% (297 of 738) |########              | Elapsed Time: 0:01:03 ETA:   0:01:43"
     ]
    },
    {
     "name": "stdout",
     "output_type": "stream",
     "text": [
      "http://api.openweathermap.org/data/2.5/weather?appid=03b66fb88de8694398153caaae511ea5&q=lashio&units=imperial\n"
     ]
    },
    {
     "name": "stderr",
     "output_type": "stream",
     "text": [
      " 40% (299 of 738) |########              | Elapsed Time: 0:01:03 ETA:   0:01:38"
     ]
    },
    {
     "name": "stdout",
     "output_type": "stream",
     "text": [
      "http://api.openweathermap.org/data/2.5/weather?appid=03b66fb88de8694398153caaae511ea5&q=adrar&units=imperial\n",
      "http://api.openweathermap.org/data/2.5/weather?appid=03b66fb88de8694398153caaae511ea5&q=cam ranh&units=imperial\n"
     ]
    },
    {
     "name": "stderr",
     "output_type": "stream",
     "text": [
      "\r",
      "                                                                               \r",
      "\r",
      " 40% (300 of 738) |########              | Elapsed Time: 0:01:04 ETA:   0:01:35"
     ]
    },
    {
     "name": "stdout",
     "output_type": "stream",
     "text": [
      "http://api.openweathermap.org/data/2.5/weather?appid=03b66fb88de8694398153caaae511ea5&q=piopio&units=imperial\n"
     ]
    },
    {
     "name": "stderr",
     "output_type": "stream",
     "text": [
      " 40% (302 of 738) |#########             | Elapsed Time: 0:01:04 ETA:   0:01:32"
     ]
    },
    {
     "name": "stdout",
     "output_type": "stream",
     "text": [
      "http://api.openweathermap.org/data/2.5/weather?appid=03b66fb88de8694398153caaae511ea5&q=santa eulalia del rio&units=imperial\n",
      "http://api.openweathermap.org/data/2.5/weather?appid=03b66fb88de8694398153caaae511ea5&q=lompoc&units=imperial\n"
     ]
    },
    {
     "name": "stderr",
     "output_type": "stream",
     "text": [
      " 41% (304 of 738) |#########             | Elapsed Time: 0:01:04 ETA:   0:01:35"
     ]
    },
    {
     "name": "stdout",
     "output_type": "stream",
     "text": [
      "http://api.openweathermap.org/data/2.5/weather?appid=03b66fb88de8694398153caaae511ea5&q=la plata&units=imperial\n",
      "http://api.openweathermap.org/data/2.5/weather?appid=03b66fb88de8694398153caaae511ea5&q=shaoyang&units=imperial\n"
     ]
    },
    {
     "name": "stderr",
     "output_type": "stream",
     "text": [
      "\r",
      "                                                                               \r",
      "\r",
      " 41% (305 of 738) |#########             | Elapsed Time: 0:01:05 ETA:   0:01:36"
     ]
    },
    {
     "name": "stdout",
     "output_type": "stream",
     "text": [
      "http://api.openweathermap.org/data/2.5/weather?appid=03b66fb88de8694398153caaae511ea5&q=abu dhabi&units=imperial\n"
     ]
    },
    {
     "name": "stderr",
     "output_type": "stream",
     "text": [
      " 41% (307 of 738) |#########             | Elapsed Time: 0:01:05 ETA:   0:01:27"
     ]
    },
    {
     "name": "stdout",
     "output_type": "stream",
     "text": [
      "http://api.openweathermap.org/data/2.5/weather?appid=03b66fb88de8694398153caaae511ea5&q=klaksvik&units=imperial\n",
      "http://api.openweathermap.org/data/2.5/weather?appid=03b66fb88de8694398153caaae511ea5&q=dudinka&units=imperial\n"
     ]
    },
    {
     "name": "stderr",
     "output_type": "stream",
     "text": [
      "\r",
      "                                                                               \r",
      "\r",
      " 41% (308 of 738) |#########             | Elapsed Time: 0:01:05 ETA:   0:01:22"
     ]
    },
    {
     "name": "stdout",
     "output_type": "stream",
     "text": [
      "http://api.openweathermap.org/data/2.5/weather?appid=03b66fb88de8694398153caaae511ea5&q=barra patuca&units=imperial\n"
     ]
    },
    {
     "name": "stderr",
     "output_type": "stream",
     "text": [
      "\r",
      "                                                                               \r",
      "\r",
      " 41% (309 of 738) |#########             | Elapsed Time: 0:01:05 ETA:   0:01:21"
     ]
    },
    {
     "name": "stdout",
     "output_type": "stream",
     "text": [
      "http://api.openweathermap.org/data/2.5/weather?appid=03b66fb88de8694398153caaae511ea5&q=sisophon&units=imperial\n"
     ]
    },
    {
     "name": "stderr",
     "output_type": "stream",
     "text": [
      "\r",
      "                                                                               \r",
      "\r",
      " 42% (310 of 738) |#########             | Elapsed Time: 0:01:06 ETA:   0:01:27"
     ]
    },
    {
     "name": "stdout",
     "output_type": "stream",
     "text": [
      "http://api.openweathermap.org/data/2.5/weather?appid=03b66fb88de8694398153caaae511ea5&q=finnsnes&units=imperial\n"
     ]
    },
    {
     "name": "stderr",
     "output_type": "stream",
     "text": [
      " 42% (312 of 738) |#########             | Elapsed Time: 0:01:06 ETA:   0:01:31"
     ]
    },
    {
     "name": "stdout",
     "output_type": "stream",
     "text": [
      "http://api.openweathermap.org/data/2.5/weather?appid=03b66fb88de8694398153caaae511ea5&q=hilo&units=imperial\n",
      "http://api.openweathermap.org/data/2.5/weather?appid=03b66fb88de8694398153caaae511ea5&q=buala&units=imperial\n"
     ]
    },
    {
     "name": "stderr",
     "output_type": "stream",
     "text": [
      " 42% (314 of 738) |#########             | Elapsed Time: 0:01:06 ETA:   0:01:32"
     ]
    },
    {
     "name": "stdout",
     "output_type": "stream",
     "text": [
      "http://api.openweathermap.org/data/2.5/weather?appid=03b66fb88de8694398153caaae511ea5&q=ulladulla&units=imperial\n",
      "http://api.openweathermap.org/data/2.5/weather?appid=03b66fb88de8694398153caaae511ea5&q=kamenskoye&units=imperial\n"
     ]
    },
    {
     "name": "stderr",
     "output_type": "stream",
     "text": [
      " 42% (316 of 738) |#########             | Elapsed Time: 0:01:07 ETA:   0:01:26"
     ]
    },
    {
     "name": "stdout",
     "output_type": "stream",
     "text": [
      "http://api.openweathermap.org/data/2.5/weather?appid=03b66fb88de8694398153caaae511ea5&q=atuona&units=imperial\n",
      "http://api.openweathermap.org/data/2.5/weather?appid=03b66fb88de8694398153caaae511ea5&q=saint-georges&units=imperial\n"
     ]
    },
    {
     "name": "stderr",
     "output_type": "stream",
     "text": [
      "\r",
      "                                                                               \r",
      "\r",
      " 42% (317 of 738) |#########             | Elapsed Time: 0:01:07 ETA:   0:01:34"
     ]
    },
    {
     "name": "stdout",
     "output_type": "stream",
     "text": [
      "http://api.openweathermap.org/data/2.5/weather?appid=03b66fb88de8694398153caaae511ea5&q=bowmore&units=imperial\n"
     ]
    },
    {
     "name": "stderr",
     "output_type": "stream",
     "text": [
      "\r",
      "                                                                               \r",
      "\r",
      " 43% (318 of 738) |#########             | Elapsed Time: 0:01:07 ETA:   0:01:34"
     ]
    },
    {
     "name": "stdout",
     "output_type": "stream",
     "text": [
      "http://api.openweathermap.org/data/2.5/weather?appid=03b66fb88de8694398153caaae511ea5&q=deep river&units=imperial\n"
     ]
    },
    {
     "name": "stderr",
     "output_type": "stream",
     "text": [
      " 43% (320 of 738) |#########             | Elapsed Time: 0:01:08 ETA:   0:01:31"
     ]
    },
    {
     "name": "stdout",
     "output_type": "stream",
     "text": [
      "http://api.openweathermap.org/data/2.5/weather?appid=03b66fb88de8694398153caaae511ea5&q=aklavik&units=imperial\n",
      "http://api.openweathermap.org/data/2.5/weather?appid=03b66fb88de8694398153caaae511ea5&q=shetpe&units=imperial\n"
     ]
    },
    {
     "name": "stderr",
     "output_type": "stream",
     "text": [
      "\r",
      "                                                                               \r",
      "\r",
      " 43% (321 of 738) |#########             | Elapsed Time: 0:01:08 ETA:   0:01:27"
     ]
    },
    {
     "name": "stdout",
     "output_type": "stream",
     "text": [
      "http://api.openweathermap.org/data/2.5/weather?appid=03b66fb88de8694398153caaae511ea5&q=koumac&units=imperial\n"
     ]
    },
    {
     "name": "stderr",
     "output_type": "stream",
     "text": [
      " 43% (323 of 738) |#########             | Elapsed Time: 0:01:08 ETA:   0:01:28"
     ]
    },
    {
     "name": "stdout",
     "output_type": "stream",
     "text": [
      "http://api.openweathermap.org/data/2.5/weather?appid=03b66fb88de8694398153caaae511ea5&q=sheridan&units=imperial\n",
      "http://api.openweathermap.org/data/2.5/weather?appid=03b66fb88de8694398153caaae511ea5&q=rio verde de mato grosso&units=imperial\n"
     ]
    },
    {
     "name": "stderr",
     "output_type": "stream",
     "text": [
      " 44% (325 of 738) |#########             | Elapsed Time: 0:01:09 ETA:   0:01:34"
     ]
    },
    {
     "name": "stdout",
     "output_type": "stream",
     "text": [
      "http://api.openweathermap.org/data/2.5/weather?appid=03b66fb88de8694398153caaae511ea5&q=roald&units=imperial\n",
      "http://api.openweathermap.org/data/2.5/weather?appid=03b66fb88de8694398153caaae511ea5&q=madinat sittah uktubar&units=imperial\n"
     ]
    },
    {
     "name": "stderr",
     "output_type": "stream",
     "text": [
      "\r",
      "                                                                               \r",
      "\r",
      " 44% (326 of 738) |#########             | Elapsed Time: 0:01:09 ETA:   0:01:34"
     ]
    },
    {
     "name": "stdout",
     "output_type": "stream",
     "text": [
      "http://api.openweathermap.org/data/2.5/weather?appid=03b66fb88de8694398153caaae511ea5&q=heishan&units=imperial\n"
     ]
    },
    {
     "name": "stderr",
     "output_type": "stream",
     "text": [
      " 44% (328 of 738) |#########             | Elapsed Time: 0:01:10 ETA:   0:01:29"
     ]
    },
    {
     "name": "stdout",
     "output_type": "stream",
     "text": [
      "http://api.openweathermap.org/data/2.5/weather?appid=03b66fb88de8694398153caaae511ea5&q=gat&units=imperial\n",
      "http://api.openweathermap.org/data/2.5/weather?appid=03b66fb88de8694398153caaae511ea5&q=bambous virieux&units=imperial\n"
     ]
    },
    {
     "name": "stderr",
     "output_type": "stream",
     "text": [
      " 44% (330 of 738) |#########             | Elapsed Time: 0:01:10 ETA:   0:01:25"
     ]
    },
    {
     "name": "stdout",
     "output_type": "stream",
     "text": [
      "http://api.openweathermap.org/data/2.5/weather?appid=03b66fb88de8694398153caaae511ea5&q=walvis bay&units=imperial\n",
      "http://api.openweathermap.org/data/2.5/weather?appid=03b66fb88de8694398153caaae511ea5&q=paamiut&units=imperial\n"
     ]
    },
    {
     "name": "stderr",
     "output_type": "stream",
     "text": [
      " 44% (332 of 738) |#########             | Elapsed Time: 0:01:10 ETA:   0:01:19"
     ]
    },
    {
     "name": "stdout",
     "output_type": "stream",
     "text": [
      "http://api.openweathermap.org/data/2.5/weather?appid=03b66fb88de8694398153caaae511ea5&q=whitehorse&units=imperial\n",
      "http://api.openweathermap.org/data/2.5/weather?appid=03b66fb88de8694398153caaae511ea5&q=atasu&units=imperial\n"
     ]
    },
    {
     "name": "stderr",
     "output_type": "stream",
     "text": [
      "\r",
      "                                                                               \r",
      "\r",
      " 45% (333 of 738) |#########             | Elapsed Time: 0:01:10 ETA:   0:01:17"
     ]
    },
    {
     "name": "stdout",
     "output_type": "stream",
     "text": [
      "http://api.openweathermap.org/data/2.5/weather?appid=03b66fb88de8694398153caaae511ea5&q=huarmey&units=imperial\n"
     ]
    },
    {
     "name": "stderr",
     "output_type": "stream",
     "text": [
      "\r",
      "                                                                               \r",
      "\r",
      " 45% (334 of 738) |#########             | Elapsed Time: 0:01:11 ETA:   0:01:21"
     ]
    },
    {
     "name": "stdout",
     "output_type": "stream",
     "text": [
      "http://api.openweathermap.org/data/2.5/weather?appid=03b66fb88de8694398153caaae511ea5&q=carutapera&units=imperial\n"
     ]
    },
    {
     "name": "stderr",
     "output_type": "stream",
     "text": [
      "\r",
      "                                                                               \r",
      "\r",
      " 45% (335 of 738) |#########             | Elapsed Time: 0:01:11 ETA:   0:01:26"
     ]
    },
    {
     "name": "stdout",
     "output_type": "stream",
     "text": [
      "http://api.openweathermap.org/data/2.5/weather?appid=03b66fb88de8694398153caaae511ea5&q=tadine&units=imperial\n"
     ]
    },
    {
     "name": "stderr",
     "output_type": "stream",
     "text": [
      " 45% (337 of 738) |##########            | Elapsed Time: 0:01:11 ETA:   0:01:23"
     ]
    },
    {
     "name": "stdout",
     "output_type": "stream",
     "text": [
      "http://api.openweathermap.org/data/2.5/weather?appid=03b66fb88de8694398153caaae511ea5&q=bend&units=imperial\n",
      "http://api.openweathermap.org/data/2.5/weather?appid=03b66fb88de8694398153caaae511ea5&q=hailar&units=imperial\n"
     ]
    },
    {
     "name": "stderr",
     "output_type": "stream",
     "text": [
      " 45% (339 of 738) |##########            | Elapsed Time: 0:01:12 ETA:   0:01:25"
     ]
    },
    {
     "name": "stdout",
     "output_type": "stream",
     "text": [
      "http://api.openweathermap.org/data/2.5/weather?appid=03b66fb88de8694398153caaae511ea5&q=qaqortoq&units=imperial\n",
      "http://api.openweathermap.org/data/2.5/weather?appid=03b66fb88de8694398153caaae511ea5&q=busselton&units=imperial\n"
     ]
    },
    {
     "name": "stderr",
     "output_type": "stream",
     "text": [
      " 46% (341 of 738) |##########            | Elapsed Time: 0:01:12 ETA:   0:01:24"
     ]
    },
    {
     "name": "stdout",
     "output_type": "stream",
     "text": [
      "http://api.openweathermap.org/data/2.5/weather?appid=03b66fb88de8694398153caaae511ea5&q=georgetown&units=imperial\n",
      "http://api.openweathermap.org/data/2.5/weather?appid=03b66fb88de8694398153caaae511ea5&q=andros town&units=imperial\n"
     ]
    },
    {
     "name": "stderr",
     "output_type": "stream",
     "text": [
      " 46% (343 of 738) |##########            | Elapsed Time: 0:01:13 ETA:   0:01:23"
     ]
    },
    {
     "name": "stdout",
     "output_type": "stream",
     "text": [
      "http://api.openweathermap.org/data/2.5/weather?appid=03b66fb88de8694398153caaae511ea5&q=nouadhibou&units=imperial\n",
      "http://api.openweathermap.org/data/2.5/weather?appid=03b66fb88de8694398153caaae511ea5&q=dharur&units=imperial\n"
     ]
    },
    {
     "name": "stderr",
     "output_type": "stream",
     "text": [
      "\r",
      "                                                                               \r",
      "\r",
      " 46% (344 of 738) |##########            | Elapsed Time: 0:01:13 ETA:   0:01:24"
     ]
    },
    {
     "name": "stdout",
     "output_type": "stream",
     "text": [
      "http://api.openweathermap.org/data/2.5/weather?appid=03b66fb88de8694398153caaae511ea5&q=muravlenko&units=imperial\n"
     ]
    },
    {
     "name": "stderr",
     "output_type": "stream",
     "text": [
      "\r",
      "                                                                               \r",
      "\r",
      " 46% (345 of 738) |##########            | Elapsed Time: 0:01:13 ETA:   0:01:20"
     ]
    },
    {
     "name": "stdout",
     "output_type": "stream",
     "text": [
      "http://api.openweathermap.org/data/2.5/weather?appid=03b66fb88de8694398153caaae511ea5&q=nuuk&units=imperial\n"
     ]
    },
    {
     "name": "stderr",
     "output_type": "stream",
     "text": [
      " 47% (347 of 738) |##########            | Elapsed Time: 0:01:13 ETA:   0:01:20"
     ]
    },
    {
     "name": "stdout",
     "output_type": "stream",
     "text": [
      "http://api.openweathermap.org/data/2.5/weather?appid=03b66fb88de8694398153caaae511ea5&q=port blair&units=imperial\n",
      "http://api.openweathermap.org/data/2.5/weather?appid=03b66fb88de8694398153caaae511ea5&q=moctezuma&units=imperial\n"
     ]
    },
    {
     "name": "stderr",
     "output_type": "stream",
     "text": [
      " 47% (349 of 738) |##########            | Elapsed Time: 0:01:14 ETA:   0:01:19"
     ]
    },
    {
     "name": "stdout",
     "output_type": "stream",
     "text": [
      "http://api.openweathermap.org/data/2.5/weather?appid=03b66fb88de8694398153caaae511ea5&q=pedernales&units=imperial\n",
      "http://api.openweathermap.org/data/2.5/weather?appid=03b66fb88de8694398153caaae511ea5&q=camacha&units=imperial\n"
     ]
    },
    {
     "name": "stderr",
     "output_type": "stream",
     "text": [
      " 47% (351 of 738) |##########            | Elapsed Time: 0:01:14 ETA:   0:01:23"
     ]
    },
    {
     "name": "stdout",
     "output_type": "stream",
     "text": [
      "http://api.openweathermap.org/data/2.5/weather?appid=03b66fb88de8694398153caaae511ea5&q=terrace bay&units=imperial\n",
      "http://api.openweathermap.org/data/2.5/weather?appid=03b66fb88de8694398153caaae511ea5&q=nome&units=imperial\n"
     ]
    },
    {
     "name": "stderr",
     "output_type": "stream",
     "text": [
      "\r",
      "                                                                               \r",
      "\r",
      " 47% (352 of 738) |##########            | Elapsed Time: 0:01:14 ETA:   0:01:19"
     ]
    },
    {
     "name": "stdout",
     "output_type": "stream",
     "text": [
      "http://api.openweathermap.org/data/2.5/weather?appid=03b66fb88de8694398153caaae511ea5&q=breyten&units=imperial\n"
     ]
    },
    {
     "name": "stderr",
     "output_type": "stream",
     "text": [
      " 47% (354 of 738) |##########            | Elapsed Time: 0:01:15 ETA:   0:01:19"
     ]
    },
    {
     "name": "stdout",
     "output_type": "stream",
     "text": [
      "http://api.openweathermap.org/data/2.5/weather?appid=03b66fb88de8694398153caaae511ea5&q=la ronge&units=imperial\n",
      "http://api.openweathermap.org/data/2.5/weather?appid=03b66fb88de8694398153caaae511ea5&q=srivardhan&units=imperial\n"
     ]
    },
    {
     "name": "stderr",
     "output_type": "stream",
     "text": [
      "\r",
      "                                                                               \r",
      "\r",
      " 48% (355 of 738) |##########            | Elapsed Time: 0:01:15 ETA:   0:01:20"
     ]
    },
    {
     "name": "stdout",
     "output_type": "stream",
     "text": [
      "http://api.openweathermap.org/data/2.5/weather?appid=03b66fb88de8694398153caaae511ea5&q=monrovia&units=imperial\n"
     ]
    },
    {
     "name": "stderr",
     "output_type": "stream",
     "text": [
      " 48% (357 of 738) |##########            | Elapsed Time: 0:01:16 ETA:   0:01:20"
     ]
    },
    {
     "name": "stdout",
     "output_type": "stream",
     "text": [
      "http://api.openweathermap.org/data/2.5/weather?appid=03b66fb88de8694398153caaae511ea5&q=mataura&units=imperial\n",
      "http://api.openweathermap.org/data/2.5/weather?appid=03b66fb88de8694398153caaae511ea5&q=christchurch&units=imperial\n"
     ]
    },
    {
     "name": "stderr",
     "output_type": "stream",
     "text": [
      " 48% (359 of 738) |##########            | Elapsed Time: 0:01:16 ETA:   0:01:14"
     ]
    },
    {
     "name": "stdout",
     "output_type": "stream",
     "text": [
      "http://api.openweathermap.org/data/2.5/weather?appid=03b66fb88de8694398153caaae511ea5&q=broome&units=imperial\n",
      "http://api.openweathermap.org/data/2.5/weather?appid=03b66fb88de8694398153caaae511ea5&q=miraflores&units=imperial\n"
     ]
    },
    {
     "name": "stderr",
     "output_type": "stream",
     "text": [
      "\r",
      "                                                                               \r",
      "\r",
      " 48% (360 of 738) |##########            | Elapsed Time: 0:01:16 ETA:   0:01:13"
     ]
    },
    {
     "name": "stdout",
     "output_type": "stream",
     "text": [
      "http://api.openweathermap.org/data/2.5/weather?appid=03b66fb88de8694398153caaae511ea5&q=yar-sale&units=imperial\n"
     ]
    },
    {
     "name": "stderr",
     "output_type": "stream",
     "text": [
      "\r",
      "                                                                               \r",
      "\r",
      " 48% (361 of 738) |##########            | Elapsed Time: 0:01:16 ETA:   0:01:13"
     ]
    },
    {
     "name": "stdout",
     "output_type": "stream",
     "text": [
      "http://api.openweathermap.org/data/2.5/weather?appid=03b66fb88de8694398153caaae511ea5&q=mareeba&units=imperial\n"
     ]
    },
    {
     "name": "stderr",
     "output_type": "stream",
     "text": [
      "\r",
      "                                                                               \r",
      "\r",
      " 49% (362 of 738) |##########            | Elapsed Time: 0:01:17 ETA:   0:01:17"
     ]
    },
    {
     "name": "stdout",
     "output_type": "stream",
     "text": [
      "http://api.openweathermap.org/data/2.5/weather?appid=03b66fb88de8694398153caaae511ea5&q=saint-paul&units=imperial\n"
     ]
    },
    {
     "name": "stderr",
     "output_type": "stream",
     "text": [
      "\r",
      "                                                                               \r",
      "\r",
      " 49% (363 of 738) |##########            | Elapsed Time: 0:01:17 ETA:   0:01:23"
     ]
    },
    {
     "name": "stdout",
     "output_type": "stream",
     "text": [
      "http://api.openweathermap.org/data/2.5/weather?appid=03b66fb88de8694398153caaae511ea5&q=kindu&units=imperial\n"
     ]
    },
    {
     "name": "stderr",
     "output_type": "stream",
     "text": [
      " 49% (365 of 738) |##########            | Elapsed Time: 0:01:17 ETA:   0:01:21"
     ]
    },
    {
     "name": "stdout",
     "output_type": "stream",
     "text": [
      "http://api.openweathermap.org/data/2.5/weather?appid=03b66fb88de8694398153caaae511ea5&q=haverfordwest&units=imperial\n",
      "http://api.openweathermap.org/data/2.5/weather?appid=03b66fb88de8694398153caaae511ea5&q=san borja&units=imperial\n"
     ]
    },
    {
     "name": "stderr",
     "output_type": "stream",
     "text": [
      " 49% (367 of 738) |##########            | Elapsed Time: 0:01:18 ETA:   0:01:26"
     ]
    },
    {
     "name": "stdout",
     "output_type": "stream",
     "text": [
      "http://api.openweathermap.org/data/2.5/weather?appid=03b66fb88de8694398153caaae511ea5&q=almeria&units=imperial\n",
      "http://api.openweathermap.org/data/2.5/weather?appid=03b66fb88de8694398153caaae511ea5&q=caravelas&units=imperial\n"
     ]
    },
    {
     "name": "stderr",
     "output_type": "stream",
     "text": [
      "\r",
      "                                                                               \r",
      "\r",
      " 49% (368 of 738) |##########            | Elapsed Time: 0:01:18 ETA:   0:01:25"
     ]
    },
    {
     "name": "stdout",
     "output_type": "stream",
     "text": [
      "http://api.openweathermap.org/data/2.5/weather?appid=03b66fb88de8694398153caaae511ea5&q=lima&units=imperial\n"
     ]
    },
    {
     "name": "stderr",
     "output_type": "stream",
     "text": [
      "\r",
      "                                                                               \r",
      "\r",
      " 50% (369 of 738) |###########           | Elapsed Time: 0:01:18 ETA:   0:01:30"
     ]
    },
    {
     "name": "stdout",
     "output_type": "stream",
     "text": [
      "http://api.openweathermap.org/data/2.5/weather?appid=03b66fb88de8694398153caaae511ea5&q=moerai&units=imperial\n"
     ]
    },
    {
     "name": "stderr",
     "output_type": "stream",
     "text": [
      " 50% (371 of 738) |###########           | Elapsed Time: 0:01:19 ETA:   0:01:26"
     ]
    },
    {
     "name": "stdout",
     "output_type": "stream",
     "text": [
      "http://api.openweathermap.org/data/2.5/weather?appid=03b66fb88de8694398153caaae511ea5&q=nelson bay&units=imperial\n",
      "http://api.openweathermap.org/data/2.5/weather?appid=03b66fb88de8694398153caaae511ea5&q=san quintin&units=imperial\n"
     ]
    },
    {
     "name": "stderr",
     "output_type": "stream",
     "text": [
      " 50% (373 of 738) |###########           | Elapsed Time: 0:01:19 ETA:   0:01:19"
     ]
    },
    {
     "name": "stdout",
     "output_type": "stream",
     "text": [
      "http://api.openweathermap.org/data/2.5/weather?appid=03b66fb88de8694398153caaae511ea5&q=eyl&units=imperial\n",
      "http://api.openweathermap.org/data/2.5/weather?appid=03b66fb88de8694398153caaae511ea5&q=wellington&units=imperial\n"
     ]
    },
    {
     "name": "stderr",
     "output_type": "stream",
     "text": [
      "\r",
      "                                                                               \r",
      "\r",
      " 50% (374 of 738) |###########           | Elapsed Time: 0:01:19 ETA:   0:01:16"
     ]
    },
    {
     "name": "stdout",
     "output_type": "stream",
     "text": [
      "http://api.openweathermap.org/data/2.5/weather?appid=03b66fb88de8694398153caaae511ea5&q=fort morgan&units=imperial\n"
     ]
    },
    {
     "name": "stderr",
     "output_type": "stream",
     "text": [
      "\r",
      "                                                                               \r",
      "\r",
      " 50% (375 of 738) |###########           | Elapsed Time: 0:01:19 ETA:   0:01:15"
     ]
    },
    {
     "name": "stdout",
     "output_type": "stream",
     "text": [
      "http://api.openweathermap.org/data/2.5/weather?appid=03b66fb88de8694398153caaae511ea5&q=urucara&units=imperial\n"
     ]
    },
    {
     "name": "stderr",
     "output_type": "stream",
     "text": [
      " 51% (377 of 738) |###########           | Elapsed Time: 0:01:20 ETA:   0:01:10"
     ]
    },
    {
     "name": "stdout",
     "output_type": "stream",
     "text": [
      "http://api.openweathermap.org/data/2.5/weather?appid=03b66fb88de8694398153caaae511ea5&q=sinnamary&units=imperial\n",
      "http://api.openweathermap.org/data/2.5/weather?appid=03b66fb88de8694398153caaae511ea5&q=gwanda&units=imperial\n"
     ]
    },
    {
     "name": "stderr",
     "output_type": "stream",
     "text": [
      "\r",
      "                                                                               \r",
      "\r",
      " 51% (378 of 738) |###########           | Elapsed Time: 0:01:20 ETA:   0:01:14"
     ]
    },
    {
     "name": "stdout",
     "output_type": "stream",
     "text": [
      "http://api.openweathermap.org/data/2.5/weather?appid=03b66fb88de8694398153caaae511ea5&q=ust-kuyga&units=imperial\n"
     ]
    },
    {
     "name": "stderr",
     "output_type": "stream",
     "text": [
      " 51% (380 of 738) |###########           | Elapsed Time: 0:01:20 ETA:   0:01:11"
     ]
    },
    {
     "name": "stdout",
     "output_type": "stream",
     "text": [
      "http://api.openweathermap.org/data/2.5/weather?appid=03b66fb88de8694398153caaae511ea5&q=vila franca do campo&units=imperial\n",
      "http://api.openweathermap.org/data/2.5/weather?appid=03b66fb88de8694398153caaae511ea5&q=ketchikan&units=imperial\n"
     ]
    },
    {
     "name": "stderr",
     "output_type": "stream",
     "text": [
      "\r",
      "                                                                               \r",
      "\r",
      " 51% (381 of 738) |###########           | Elapsed Time: 0:01:21 ETA:   0:01:08"
     ]
    },
    {
     "name": "stdout",
     "output_type": "stream",
     "text": [
      "http://api.openweathermap.org/data/2.5/weather?appid=03b66fb88de8694398153caaae511ea5&q=boca do acre&units=imperial\n"
     ]
    },
    {
     "name": "stderr",
     "output_type": "stream",
     "text": [
      " 51% (383 of 738) |###########           | Elapsed Time: 0:01:21 ETA:   0:01:08"
     ]
    },
    {
     "name": "stdout",
     "output_type": "stream",
     "text": [
      "http://api.openweathermap.org/data/2.5/weather?appid=03b66fb88de8694398153caaae511ea5&q=ngukurr&units=imperial\n",
      "http://api.openweathermap.org/data/2.5/weather?appid=03b66fb88de8694398153caaae511ea5&q=barawe&units=imperial\n"
     ]
    },
    {
     "name": "stderr",
     "output_type": "stream",
     "text": [
      "\r",
      "                                                                               \r",
      "\r",
      " 52% (384 of 738) |###########           | Elapsed Time: 0:01:21 ETA:   0:01:08"
     ]
    },
    {
     "name": "stdout",
     "output_type": "stream",
     "text": [
      "http://api.openweathermap.org/data/2.5/weather?appid=03b66fb88de8694398153caaae511ea5&q=patan&units=imperial\n"
     ]
    },
    {
     "name": "stderr",
     "output_type": "stream",
     "text": [
      "\r",
      "                                                                               \r",
      "\r",
      " 52% (385 of 738) |###########           | Elapsed Time: 0:01:21 ETA:   0:01:11"
     ]
    },
    {
     "name": "stdout",
     "output_type": "stream",
     "text": [
      "http://api.openweathermap.org/data/2.5/weather?appid=03b66fb88de8694398153caaae511ea5&q=barinas&units=imperial\n"
     ]
    },
    {
     "name": "stderr",
     "output_type": "stream",
     "text": [
      " 52% (387 of 738) |###########           | Elapsed Time: 0:01:22 ETA:   0:01:10"
     ]
    },
    {
     "name": "stdout",
     "output_type": "stream",
     "text": [
      "http://api.openweathermap.org/data/2.5/weather?appid=03b66fb88de8694398153caaae511ea5&q=maceio&units=imperial\n",
      "http://api.openweathermap.org/data/2.5/weather?appid=03b66fb88de8694398153caaae511ea5&q=suratgarh&units=imperial\n"
     ]
    },
    {
     "name": "stderr",
     "output_type": "stream",
     "text": [
      " 52% (389 of 738) |###########           | Elapsed Time: 0:01:22 ETA:   0:01:09"
     ]
    },
    {
     "name": "stdout",
     "output_type": "stream",
     "text": [
      "http://api.openweathermap.org/data/2.5/weather?appid=03b66fb88de8694398153caaae511ea5&q=mayo&units=imperial\n",
      "http://api.openweathermap.org/data/2.5/weather?appid=03b66fb88de8694398153caaae511ea5&q=vaini&units=imperial\n"
     ]
    },
    {
     "name": "stderr",
     "output_type": "stream",
     "text": [
      "\r",
      "                                                                               \r",
      "\r",
      " 52% (390 of 738) |###########           | Elapsed Time: 0:01:22 ETA:   0:01:06"
     ]
    },
    {
     "name": "stdout",
     "output_type": "stream",
     "text": [
      "http://api.openweathermap.org/data/2.5/weather?appid=03b66fb88de8694398153caaae511ea5&q=winslow&units=imperial\n"
     ]
    },
    {
     "name": "stderr",
     "output_type": "stream",
     "text": [
      " 53% (392 of 738) |###########           | Elapsed Time: 0:01:23 ETA:   0:01:09"
     ]
    },
    {
     "name": "stdout",
     "output_type": "stream",
     "text": [
      "http://api.openweathermap.org/data/2.5/weather?appid=03b66fb88de8694398153caaae511ea5&q=codajas&units=imperial\n",
      "http://api.openweathermap.org/data/2.5/weather?appid=03b66fb88de8694398153caaae511ea5&q=afmadu&units=imperial\n"
     ]
    },
    {
     "name": "stderr",
     "output_type": "stream",
     "text": [
      "\r",
      "                                                                               \r",
      "\r",
      " 53% (393 of 738) |###########           | Elapsed Time: 0:01:23 ETA:   0:01:09"
     ]
    },
    {
     "name": "stdout",
     "output_type": "stream",
     "text": [
      "http://api.openweathermap.org/data/2.5/weather?appid=03b66fb88de8694398153caaae511ea5&q=ergani&units=imperial\n"
     ]
    },
    {
     "name": "stderr",
     "output_type": "stream",
     "text": [
      "\r",
      "                                                                               \r",
      "\r",
      " 53% (394 of 738) |###########           | Elapsed Time: 0:01:23 ETA:   0:01:12"
     ]
    },
    {
     "name": "stdout",
     "output_type": "stream",
     "text": [
      "http://api.openweathermap.org/data/2.5/weather?appid=03b66fb88de8694398153caaae511ea5&q=awbari&units=imperial\n"
     ]
    },
    {
     "name": "stderr",
     "output_type": "stream",
     "text": [
      " 53% (396 of 738) |###########           | Elapsed Time: 0:01:24 ETA:   0:01:09"
     ]
    },
    {
     "name": "stdout",
     "output_type": "stream",
     "text": [
      "http://api.openweathermap.org/data/2.5/weather?appid=03b66fb88de8694398153caaae511ea5&q=anahuac&units=imperial\n",
      "http://api.openweathermap.org/data/2.5/weather?appid=03b66fb88de8694398153caaae511ea5&q=ajdabiya&units=imperial\n"
     ]
    },
    {
     "name": "stderr",
     "output_type": "stream",
     "text": [
      " 53% (398 of 738) |###########           | Elapsed Time: 0:01:24 ETA:   0:01:08"
     ]
    },
    {
     "name": "stdout",
     "output_type": "stream",
     "text": [
      "http://api.openweathermap.org/data/2.5/weather?appid=03b66fb88de8694398153caaae511ea5&q=ribeira grande&units=imperial\n",
      "http://api.openweathermap.org/data/2.5/weather?appid=03b66fb88de8694398153caaae511ea5&q=portobelo&units=imperial\n"
     ]
    },
    {
     "name": "stderr",
     "output_type": "stream",
     "text": [
      " 54% (400 of 738) |###########           | Elapsed Time: 0:01:25 ETA:   0:01:11"
     ]
    },
    {
     "name": "stdout",
     "output_type": "stream",
     "text": [
      "http://api.openweathermap.org/data/2.5/weather?appid=03b66fb88de8694398153caaae511ea5&q=toungoo&units=imperial\n",
      "http://api.openweathermap.org/data/2.5/weather?appid=03b66fb88de8694398153caaae511ea5&q=toliary&units=imperial\n"
     ]
    },
    {
     "name": "stderr",
     "output_type": "stream",
     "text": [
      "\r",
      "                                                                               \r",
      "\r",
      " 54% (401 of 738) |###########           | Elapsed Time: 0:01:25 ETA:   0:01:09"
     ]
    },
    {
     "name": "stdout",
     "output_type": "stream",
     "text": [
      "http://api.openweathermap.org/data/2.5/weather?appid=03b66fb88de8694398153caaae511ea5&q=porto novo&units=imperial\n"
     ]
    },
    {
     "name": "stderr",
     "output_type": "stream",
     "text": [
      "\r",
      "                                                                               \r",
      "\r",
      " 54% (402 of 738) |###########           | Elapsed Time: 0:01:25 ETA:   0:01:10"
     ]
    },
    {
     "name": "stdout",
     "output_type": "stream",
     "text": [
      "http://api.openweathermap.org/data/2.5/weather?appid=03b66fb88de8694398153caaae511ea5&q=zyryanka&units=imperial\n"
     ]
    },
    {
     "name": "stderr",
     "output_type": "stream",
     "text": [
      "\r",
      "                                                                               \r",
      "\r",
      " 54% (403 of 738) |############          | Elapsed Time: 0:01:25 ETA:   0:01:13"
     ]
    },
    {
     "name": "stdout",
     "output_type": "stream",
     "text": [
      "http://api.openweathermap.org/data/2.5/weather?appid=03b66fb88de8694398153caaae511ea5&q=karakol&units=imperial\n"
     ]
    },
    {
     "name": "stderr",
     "output_type": "stream",
     "text": [
      " 54% (405 of 738) |############          | Elapsed Time: 0:01:26 ETA:   0:01:09"
     ]
    },
    {
     "name": "stdout",
     "output_type": "stream",
     "text": [
      "http://api.openweathermap.org/data/2.5/weather?appid=03b66fb88de8694398153caaae511ea5&q=bredasdorp&units=imperial\n",
      "http://api.openweathermap.org/data/2.5/weather?appid=03b66fb88de8694398153caaae511ea5&q=kajiado&units=imperial\n"
     ]
    },
    {
     "name": "stderr",
     "output_type": "stream",
     "text": [
      "\r",
      "                                                                               \r",
      "\r",
      " 55% (406 of 738) |############          | Elapsed Time: 0:01:26 ETA:   0:01:13"
     ]
    },
    {
     "name": "stdout",
     "output_type": "stream",
     "text": [
      "http://api.openweathermap.org/data/2.5/weather?appid=03b66fb88de8694398153caaae511ea5&q=kuvshinovo&units=imperial\n"
     ]
    },
    {
     "name": "stderr",
     "output_type": "stream",
     "text": [
      " 55% (408 of 738) |############          | Elapsed Time: 0:01:26 ETA:   0:01:13"
     ]
    },
    {
     "name": "stdout",
     "output_type": "stream",
     "text": [
      "http://api.openweathermap.org/data/2.5/weather?appid=03b66fb88de8694398153caaae511ea5&q=satitoa&units=imperial\n",
      "http://api.openweathermap.org/data/2.5/weather?appid=03b66fb88de8694398153caaae511ea5&q=paitan&units=imperial\n"
     ]
    },
    {
     "name": "stderr",
     "output_type": "stream",
     "text": [
      " 55% (410 of 738) |############          | Elapsed Time: 0:01:27 ETA:   0:01:18"
     ]
    },
    {
     "name": "stdout",
     "output_type": "stream",
     "text": [
      "http://api.openweathermap.org/data/2.5/weather?appid=03b66fb88de8694398153caaae511ea5&q=alice springs&units=imperial\n",
      "http://api.openweathermap.org/data/2.5/weather?appid=03b66fb88de8694398153caaae511ea5&q=saint-joseph&units=imperial\n"
     ]
    },
    {
     "name": "stderr",
     "output_type": "stream",
     "text": [
      " 55% (412 of 738) |############          | Elapsed Time: 0:01:27 ETA:   0:01:09"
     ]
    },
    {
     "name": "stdout",
     "output_type": "stream",
     "text": [
      "http://api.openweathermap.org/data/2.5/weather?appid=03b66fb88de8694398153caaae511ea5&q=egvekinot&units=imperial\n",
      "http://api.openweathermap.org/data/2.5/weather?appid=03b66fb88de8694398153caaae511ea5&q=yenagoa&units=imperial\n"
     ]
    },
    {
     "name": "stderr",
     "output_type": "stream",
     "text": [
      " 56% (414 of 738) |############          | Elapsed Time: 0:01:27 ETA:   0:01:06"
     ]
    },
    {
     "name": "stdout",
     "output_type": "stream",
     "text": [
      "http://api.openweathermap.org/data/2.5/weather?appid=03b66fb88de8694398153caaae511ea5&q=qaanaaq&units=imperial\n",
      "http://api.openweathermap.org/data/2.5/weather?appid=03b66fb88de8694398153caaae511ea5&q=tekari&units=imperial\n"
     ]
    },
    {
     "name": "stderr",
     "output_type": "stream",
     "text": [
      " 56% (416 of 738) |############          | Elapsed Time: 0:01:28 ETA:   0:01:07"
     ]
    },
    {
     "name": "stdout",
     "output_type": "stream",
     "text": [
      "http://api.openweathermap.org/data/2.5/weather?appid=03b66fb88de8694398153caaae511ea5&q=cidreira&units=imperial\n",
      "http://api.openweathermap.org/data/2.5/weather?appid=03b66fb88de8694398153caaae511ea5&q=cabras&units=imperial\n"
     ]
    },
    {
     "name": "stderr",
     "output_type": "stream",
     "text": [
      " 56% (418 of 738) |############          | Elapsed Time: 0:01:28 ETA:   0:01:01"
     ]
    },
    {
     "name": "stdout",
     "output_type": "stream",
     "text": [
      "http://api.openweathermap.org/data/2.5/weather?appid=03b66fb88de8694398153caaae511ea5&q=lata&units=imperial\n",
      "http://api.openweathermap.org/data/2.5/weather?appid=03b66fb88de8694398153caaae511ea5&q=diffa&units=imperial\n"
     ]
    },
    {
     "name": "stderr",
     "output_type": "stream",
     "text": [
      " 56% (420 of 738) |############          | Elapsed Time: 0:01:29 ETA:   0:00:59"
     ]
    },
    {
     "name": "stdout",
     "output_type": "stream",
     "text": [
      "http://api.openweathermap.org/data/2.5/weather?appid=03b66fb88de8694398153caaae511ea5&q=kapit&units=imperial\n",
      "http://api.openweathermap.org/data/2.5/weather?appid=03b66fb88de8694398153caaae511ea5&q=cockburn town&units=imperial\n"
     ]
    },
    {
     "name": "stderr",
     "output_type": "stream",
     "text": [
      " 57% (422 of 738) |############          | Elapsed Time: 0:01:29 ETA:   0:00:59"
     ]
    },
    {
     "name": "stdout",
     "output_type": "stream",
     "text": [
      "http://api.openweathermap.org/data/2.5/weather?appid=03b66fb88de8694398153caaae511ea5&q=batagay-alyta&units=imperial\n",
      "http://api.openweathermap.org/data/2.5/weather?appid=03b66fb88de8694398153caaae511ea5&q=carberry&units=imperial\n"
     ]
    },
    {
     "name": "stderr",
     "output_type": "stream",
     "text": [
      " 57% (424 of 738) |############          | Elapsed Time: 0:01:29 ETA:   0:00:59"
     ]
    },
    {
     "name": "stdout",
     "output_type": "stream",
     "text": [
      "http://api.openweathermap.org/data/2.5/weather?appid=03b66fb88de8694398153caaae511ea5&q=sawakin&units=imperial\n",
      "http://api.openweathermap.org/data/2.5/weather?appid=03b66fb88de8694398153caaae511ea5&q=luanda&units=imperial\n"
     ]
    },
    {
     "name": "stderr",
     "output_type": "stream",
     "text": [
      "\r",
      "                                                                               \r",
      "\r",
      " 57% (425 of 738) |############          | Elapsed Time: 0:01:30 ETA:   0:01:03"
     ]
    },
    {
     "name": "stdout",
     "output_type": "stream",
     "text": [
      "http://api.openweathermap.org/data/2.5/weather?appid=03b66fb88de8694398153caaae511ea5&q=lena&units=imperial\n"
     ]
    },
    {
     "name": "stderr",
     "output_type": "stream",
     "text": [
      " 57% (427 of 738) |############          | Elapsed Time: 0:01:30 ETA:   0:01:03"
     ]
    },
    {
     "name": "stdout",
     "output_type": "stream",
     "text": [
      "http://api.openweathermap.org/data/2.5/weather?appid=03b66fb88de8694398153caaae511ea5&q=jablanica&units=imperial\n",
      "http://api.openweathermap.org/data/2.5/weather?appid=03b66fb88de8694398153caaae511ea5&q=nhulunbuy&units=imperial\n"
     ]
    },
    {
     "name": "stderr",
     "output_type": "stream",
     "text": [
      " 58% (429 of 738) |############          | Elapsed Time: 0:01:31 ETA:   0:01:02"
     ]
    },
    {
     "name": "stdout",
     "output_type": "stream",
     "text": [
      "http://api.openweathermap.org/data/2.5/weather?appid=03b66fb88de8694398153caaae511ea5&q=ilulissat&units=imperial\n",
      "http://api.openweathermap.org/data/2.5/weather?appid=03b66fb88de8694398153caaae511ea5&q=bagotville&units=imperial\n"
     ]
    },
    {
     "name": "stderr",
     "output_type": "stream",
     "text": [
      " 58% (431 of 738) |############          | Elapsed Time: 0:01:31 ETA:   0:01:12"
     ]
    },
    {
     "name": "stdout",
     "output_type": "stream",
     "text": [
      "http://api.openweathermap.org/data/2.5/weather?appid=03b66fb88de8694398153caaae511ea5&q=nanortalik&units=imperial\n",
      "http://api.openweathermap.org/data/2.5/weather?appid=03b66fb88de8694398153caaae511ea5&q=severo-yeniseyskiy&units=imperial\n"
     ]
    },
    {
     "name": "stderr",
     "output_type": "stream",
     "text": [
      " 58% (433 of 738) |############          | Elapsed Time: 0:01:32 ETA:   0:01:11"
     ]
    },
    {
     "name": "stdout",
     "output_type": "stream",
     "text": [
      "http://api.openweathermap.org/data/2.5/weather?appid=03b66fb88de8694398153caaae511ea5&q=palabuhanratu&units=imperial\n",
      "http://api.openweathermap.org/data/2.5/weather?appid=03b66fb88de8694398153caaae511ea5&q=tunduru&units=imperial\n"
     ]
    },
    {
     "name": "stderr",
     "output_type": "stream",
     "text": [
      "\r",
      "                                                                               \r",
      "\r",
      " 58% (434 of 738) |############          | Elapsed Time: 0:01:32 ETA:   0:01:08"
     ]
    },
    {
     "name": "stdout",
     "output_type": "stream",
     "text": [
      "http://api.openweathermap.org/data/2.5/weather?appid=03b66fb88de8694398153caaae511ea5&q=ouadda&units=imperial\n"
     ]
    },
    {
     "name": "stderr",
     "output_type": "stream",
     "text": [
      "\r",
      "                                                                               \r",
      "\r",
      " 58% (435 of 738) |############          | Elapsed Time: 0:01:32 ETA:   0:01:08"
     ]
    },
    {
     "name": "stdout",
     "output_type": "stream",
     "text": [
      "http://api.openweathermap.org/data/2.5/weather?appid=03b66fb88de8694398153caaae511ea5&q=ternate&units=imperial\n"
     ]
    },
    {
     "name": "stderr",
     "output_type": "stream",
     "text": [
      "\r",
      "                                                                               \r",
      "\r",
      " 59% (436 of 738) |############          | Elapsed Time: 0:01:32 ETA:   0:01:06"
     ]
    },
    {
     "name": "stdout",
     "output_type": "stream",
     "text": [
      "http://api.openweathermap.org/data/2.5/weather?appid=03b66fb88de8694398153caaae511ea5&q=dryden&units=imperial\n"
     ]
    },
    {
     "name": "stderr",
     "output_type": "stream",
     "text": [
      "\r",
      "                                                                               \r",
      "\r",
      " 59% (437 of 738) |#############         | Elapsed Time: 0:01:32 ETA:   0:01:07"
     ]
    },
    {
     "name": "stdout",
     "output_type": "stream",
     "text": [
      "http://api.openweathermap.org/data/2.5/weather?appid=03b66fb88de8694398153caaae511ea5&q=millville&units=imperial\n"
     ]
    },
    {
     "name": "stderr",
     "output_type": "stream",
     "text": [
      "\r",
      "                                                                               \r",
      "\r",
      " 59% (438 of 738) |#############         | Elapsed Time: 0:01:33 ETA:   0:01:19"
     ]
    },
    {
     "name": "stdout",
     "output_type": "stream",
     "text": [
      "http://api.openweathermap.org/data/2.5/weather?appid=03b66fb88de8694398153caaae511ea5&q=almaznyy&units=imperial\n"
     ]
    },
    {
     "name": "stderr",
     "output_type": "stream",
     "text": [
      " 59% (440 of 738) |#############         | Elapsed Time: 0:01:33 ETA:   0:01:14"
     ]
    },
    {
     "name": "stdout",
     "output_type": "stream",
     "text": [
      "http://api.openweathermap.org/data/2.5/weather?appid=03b66fb88de8694398153caaae511ea5&q=bandarbeyla&units=imperial\n",
      "http://api.openweathermap.org/data/2.5/weather?appid=03b66fb88de8694398153caaae511ea5&q=imabari&units=imperial\n"
     ]
    },
    {
     "name": "stderr",
     "output_type": "stream",
     "text": [
      "\r",
      "                                                                               \r",
      "\r",
      " 59% (441 of 738) |#############         | Elapsed Time: 0:01:34 ETA:   0:01:15"
     ]
    },
    {
     "name": "stdout",
     "output_type": "stream",
     "text": [
      "http://api.openweathermap.org/data/2.5/weather?appid=03b66fb88de8694398153caaae511ea5&q=bakhmach&units=imperial\n"
     ]
    },
    {
     "name": "stderr",
     "output_type": "stream",
     "text": [
      " 60% (443 of 738) |#############         | Elapsed Time: 0:01:34 ETA:   0:01:13"
     ]
    },
    {
     "name": "stdout",
     "output_type": "stream",
     "text": [
      "http://api.openweathermap.org/data/2.5/weather?appid=03b66fb88de8694398153caaae511ea5&q=sao joao da barra&units=imperial\n",
      "http://api.openweathermap.org/data/2.5/weather?appid=03b66fb88de8694398153caaae511ea5&q=fukue&units=imperial\n"
     ]
    },
    {
     "name": "stderr",
     "output_type": "stream",
     "text": [
      " 60% (445 of 738) |#############         | Elapsed Time: 0:01:34 ETA:   0:01:06"
     ]
    },
    {
     "name": "stdout",
     "output_type": "stream",
     "text": [
      "http://api.openweathermap.org/data/2.5/weather?appid=03b66fb88de8694398153caaae511ea5&q=creel&units=imperial\n",
      "http://api.openweathermap.org/data/2.5/weather?appid=03b66fb88de8694398153caaae511ea5&q=preston&units=imperial\n"
     ]
    },
    {
     "name": "stderr",
     "output_type": "stream",
     "text": [
      " 60% (447 of 738) |#############         | Elapsed Time: 0:01:35 ETA:   0:00:59"
     ]
    },
    {
     "name": "stdout",
     "output_type": "stream",
     "text": [
      "http://api.openweathermap.org/data/2.5/weather?appid=03b66fb88de8694398153caaae511ea5&q=clyde river&units=imperial\n",
      "http://api.openweathermap.org/data/2.5/weather?appid=03b66fb88de8694398153caaae511ea5&q=tocopilla&units=imperial\n"
     ]
    },
    {
     "name": "stderr",
     "output_type": "stream",
     "text": [
      "\r",
      "                                                                               \r",
      "\r",
      " 60% (448 of 738) |#############         | Elapsed Time: 0:01:35 ETA:   0:01:02"
     ]
    },
    {
     "name": "stdout",
     "output_type": "stream",
     "text": [
      "http://api.openweathermap.org/data/2.5/weather?appid=03b66fb88de8694398153caaae511ea5&q=ilinskoye-khovanskoye&units=imperial\n"
     ]
    },
    {
     "name": "stderr",
     "output_type": "stream",
     "text": [
      " 60% (450 of 738) |#############         | Elapsed Time: 0:01:35 ETA:   0:00:52"
     ]
    },
    {
     "name": "stdout",
     "output_type": "stream",
     "text": [
      "http://api.openweathermap.org/data/2.5/weather?appid=03b66fb88de8694398153caaae511ea5&q=sambava&units=imperial\n",
      "http://api.openweathermap.org/data/2.5/weather?appid=03b66fb88de8694398153caaae511ea5&q=pandan&units=imperial\n"
     ]
    },
    {
     "name": "stderr",
     "output_type": "stream",
     "text": [
      "\r",
      "                                                                               \r",
      "\r",
      " 61% (451 of 738) |#############         | Elapsed Time: 0:01:36 ETA:   0:00:58"
     ]
    },
    {
     "name": "stdout",
     "output_type": "stream",
     "text": [
      "http://api.openweathermap.org/data/2.5/weather?appid=03b66fb88de8694398153caaae511ea5&q=pozo colorado&units=imperial\n"
     ]
    },
    {
     "name": "stderr",
     "output_type": "stream",
     "text": [
      "\r",
      "                                                                               \r",
      "\r",
      " 61% (452 of 738) |#############         | Elapsed Time: 0:01:36 ETA:   0:01:00"
     ]
    },
    {
     "name": "stdout",
     "output_type": "stream",
     "text": [
      "http://api.openweathermap.org/data/2.5/weather?appid=03b66fb88de8694398153caaae511ea5&q=muisne&units=imperial\n"
     ]
    },
    {
     "name": "stderr",
     "output_type": "stream",
     "text": [
      "\r",
      "                                                                               \r",
      "\r",
      " 61% (453 of 738) |#############         | Elapsed Time: 0:01:36 ETA:   0:01:05"
     ]
    },
    {
     "name": "stdout",
     "output_type": "stream",
     "text": [
      "http://api.openweathermap.org/data/2.5/weather?appid=03b66fb88de8694398153caaae511ea5&q=lucea&units=imperial\n"
     ]
    },
    {
     "name": "stderr",
     "output_type": "stream",
     "text": [
      "\r",
      "                                                                               \r",
      "\r",
      " 61% (454 of 738) |#############         | Elapsed Time: 0:01:36 ETA:   0:01:13"
     ]
    },
    {
     "name": "stdout",
     "output_type": "stream",
     "text": [
      "http://api.openweathermap.org/data/2.5/weather?appid=03b66fb88de8694398153caaae511ea5&q=mackay&units=imperial\n"
     ]
    },
    {
     "name": "stderr",
     "output_type": "stream",
     "text": [
      "\r",
      "                                                                               \r",
      "\r",
      " 61% (455 of 738) |#############         | Elapsed Time: 0:01:37 ETA:   0:01:17"
     ]
    },
    {
     "name": "stdout",
     "output_type": "stream",
     "text": [
      "http://api.openweathermap.org/data/2.5/weather?appid=03b66fb88de8694398153caaae511ea5&q=banepa&units=imperial\n"
     ]
    },
    {
     "name": "stderr",
     "output_type": "stream",
     "text": [
      " 61% (457 of 738) |#############         | Elapsed Time: 0:01:37 ETA:   0:01:09"
     ]
    },
    {
     "name": "stdout",
     "output_type": "stream",
     "text": [
      "http://api.openweathermap.org/data/2.5/weather?appid=03b66fb88de8694398153caaae511ea5&q=bethel&units=imperial\n",
      "http://api.openweathermap.org/data/2.5/weather?appid=03b66fb88de8694398153caaae511ea5&q=banjar&units=imperial\n"
     ]
    },
    {
     "name": "stderr",
     "output_type": "stream",
     "text": [
      "\r",
      "                                                                               \r",
      "\r",
      " 62% (458 of 738) |#############         | Elapsed Time: 0:01:37 ETA:   0:01:06"
     ]
    },
    {
     "name": "stdout",
     "output_type": "stream",
     "text": [
      "http://api.openweathermap.org/data/2.5/weather?appid=03b66fb88de8694398153caaae511ea5&q=staryy nadym&units=imperial\n"
     ]
    },
    {
     "name": "stderr",
     "output_type": "stream",
     "text": [
      "\r",
      "                                                                               \r",
      "\r",
      " 62% (459 of 738) |#############         | Elapsed Time: 0:01:37 ETA:   0:01:09"
     ]
    },
    {
     "name": "stdout",
     "output_type": "stream",
     "text": [
      "http://api.openweathermap.org/data/2.5/weather?appid=03b66fb88de8694398153caaae511ea5&q=el triunfo&units=imperial\n"
     ]
    },
    {
     "name": "stderr",
     "output_type": "stream",
     "text": [
      " 62% (461 of 738) |#############         | Elapsed Time: 0:01:38 ETA:   0:01:05"
     ]
    },
    {
     "name": "stdout",
     "output_type": "stream",
     "text": [
      "http://api.openweathermap.org/data/2.5/weather?appid=03b66fb88de8694398153caaae511ea5&q=lincoln&units=imperial\n",
      "http://api.openweathermap.org/data/2.5/weather?appid=03b66fb88de8694398153caaae511ea5&q=findochty&units=imperial\n"
     ]
    },
    {
     "name": "stderr",
     "output_type": "stream",
     "text": [
      "\r",
      "                                                                               \r",
      "\r",
      " 62% (462 of 738) |#############         | Elapsed Time: 0:01:38 ETA:   0:01:05"
     ]
    },
    {
     "name": "stdout",
     "output_type": "stream",
     "text": [
      "http://api.openweathermap.org/data/2.5/weather?appid=03b66fb88de8694398153caaae511ea5&q=berlevag&units=imperial\n"
     ]
    },
    {
     "name": "stderr",
     "output_type": "stream",
     "text": [
      " 62% (464 of 738) |#############         | Elapsed Time: 0:01:39 ETA:   0:01:01"
     ]
    },
    {
     "name": "stdout",
     "output_type": "stream",
     "text": [
      "http://api.openweathermap.org/data/2.5/weather?appid=03b66fb88de8694398153caaae511ea5&q=gaspar&units=imperial\n"
     ]
    },
    {
     "name": "stderr",
     "output_type": "stream",
     "text": [
      "\r",
      "                                                                               \r",
      "\r",
      " 63% (465 of 738) |#############         | Elapsed Time: 0:01:39 ETA:   0:00:59"
     ]
    },
    {
     "name": "stdout",
     "output_type": "stream",
     "text": [
      "http://api.openweathermap.org/data/2.5/weather?appid=03b66fb88de8694398153caaae511ea5&q=harper&units=imperial\n",
      "http://api.openweathermap.org/data/2.5/weather?appid=03b66fb88de8694398153caaae511ea5&q=viligili&units=imperial\n"
     ]
    },
    {
     "name": "stderr",
     "output_type": "stream",
     "text": [
      "\r",
      "                                                                               \r",
      "\r",
      " 63% (466 of 738) |#############         | Elapsed Time: 0:01:39 ETA:   0:00:56"
     ]
    },
    {
     "name": "stdout",
     "output_type": "stream",
     "text": [
      "http://api.openweathermap.org/data/2.5/weather?appid=03b66fb88de8694398153caaae511ea5&q=nara&units=imperial\n"
     ]
    },
    {
     "name": "stderr",
     "output_type": "stream",
     "text": [
      " 63% (468 of 738) |#############         | Elapsed Time: 0:01:39 ETA:   0:00:59"
     ]
    },
    {
     "name": "stdout",
     "output_type": "stream",
     "text": [
      "http://api.openweathermap.org/data/2.5/weather?appid=03b66fb88de8694398153caaae511ea5&q=fairbanks&units=imperial\n",
      "http://api.openweathermap.org/data/2.5/weather?appid=03b66fb88de8694398153caaae511ea5&q=kasongo-lunda&units=imperial\n"
     ]
    },
    {
     "name": "stderr",
     "output_type": "stream",
     "text": [
      " 63% (470 of 738) |##############        | Elapsed Time: 0:01:40 ETA:   0:00:57"
     ]
    },
    {
     "name": "stdout",
     "output_type": "stream",
     "text": [
      "http://api.openweathermap.org/data/2.5/weather?appid=03b66fb88de8694398153caaae511ea5&q=provideniya&units=imperial\n",
      "http://api.openweathermap.org/data/2.5/weather?appid=03b66fb88de8694398153caaae511ea5&q=antofagasta&units=imperial\n"
     ]
    },
    {
     "name": "stderr",
     "output_type": "stream",
     "text": [
      " 63% (472 of 738) |##############        | Elapsed Time: 0:01:40 ETA:   0:00:50"
     ]
    },
    {
     "name": "stdout",
     "output_type": "stream",
     "text": [
      "http://api.openweathermap.org/data/2.5/weather?appid=03b66fb88de8694398153caaae511ea5&q=gurupi&units=imperial\n",
      "http://api.openweathermap.org/data/2.5/weather?appid=03b66fb88de8694398153caaae511ea5&q=sao filipe&units=imperial\n"
     ]
    },
    {
     "name": "stderr",
     "output_type": "stream",
     "text": [
      " 64% (474 of 738) |##############        | Elapsed Time: 0:01:40 ETA:   0:00:47"
     ]
    },
    {
     "name": "stdout",
     "output_type": "stream",
     "text": [
      "http://api.openweathermap.org/data/2.5/weather?appid=03b66fb88de8694398153caaae511ea5&q=muros&units=imperial\n",
      "http://api.openweathermap.org/data/2.5/weather?appid=03b66fb88de8694398153caaae511ea5&q=thayetmyo&units=imperial\n"
     ]
    },
    {
     "name": "stderr",
     "output_type": "stream",
     "text": [
      "\r",
      "                                                                               \r",
      "\r",
      " 64% (475 of 738) |##############        | Elapsed Time: 0:01:41 ETA:   0:00:46"
     ]
    },
    {
     "name": "stdout",
     "output_type": "stream",
     "text": [
      "http://api.openweathermap.org/data/2.5/weather?appid=03b66fb88de8694398153caaae511ea5&q=vardo&units=imperial\n"
     ]
    },
    {
     "name": "stderr",
     "output_type": "stream",
     "text": [
      "\r",
      "                                                                               \r",
      "\r",
      " 64% (476 of 738) |##############        | Elapsed Time: 0:01:41 ETA:   0:00:49"
     ]
    },
    {
     "name": "stdout",
     "output_type": "stream",
     "text": [
      "http://api.openweathermap.org/data/2.5/weather?appid=03b66fb88de8694398153caaae511ea5&q=khandyga&units=imperial\n"
     ]
    },
    {
     "name": "stderr",
     "output_type": "stream",
     "text": [
      " 64% (478 of 738) |##############        | Elapsed Time: 0:01:41 ETA:   0:00:48"
     ]
    },
    {
     "name": "stdout",
     "output_type": "stream",
     "text": [
      "http://api.openweathermap.org/data/2.5/weather?appid=03b66fb88de8694398153caaae511ea5&q=karauzyak&units=imperial\n",
      "http://api.openweathermap.org/data/2.5/weather?appid=03b66fb88de8694398153caaae511ea5&q=saleaula&units=imperial\n"
     ]
    },
    {
     "name": "stderr",
     "output_type": "stream",
     "text": [
      "\r",
      "                                                                               \r",
      "\r",
      " 64% (479 of 738) |##############        | Elapsed Time: 0:01:42 ETA:   0:00:48"
     ]
    },
    {
     "name": "stdout",
     "output_type": "stream",
     "text": [
      "http://api.openweathermap.org/data/2.5/weather?appid=03b66fb88de8694398153caaae511ea5&q=bathsheba&units=imperial\n"
     ]
    },
    {
     "name": "stderr",
     "output_type": "stream",
     "text": [
      "\r",
      "                                                                               \r",
      "\r",
      " 65% (480 of 738) |##############        | Elapsed Time: 0:01:42 ETA:   0:00:52"
     ]
    },
    {
     "name": "stdout",
     "output_type": "stream",
     "text": [
      "http://api.openweathermap.org/data/2.5/weather?appid=03b66fb88de8694398153caaae511ea5&q=verona&units=imperial\n"
     ]
    },
    {
     "name": "stderr",
     "output_type": "stream",
     "text": [
      "\r",
      "                                                                               \r",
      "\r",
      " 65% (481 of 738) |##############        | Elapsed Time: 0:01:42 ETA:   0:00:59"
     ]
    },
    {
     "name": "stdout",
     "output_type": "stream",
     "text": [
      "http://api.openweathermap.org/data/2.5/weather?appid=03b66fb88de8694398153caaae511ea5&q=rosendal&units=imperial\n"
     ]
    },
    {
     "name": "stderr",
     "output_type": "stream",
     "text": [
      " 65% (483 of 738) |##############        | Elapsed Time: 0:01:43 ETA:   0:01:02"
     ]
    },
    {
     "name": "stdout",
     "output_type": "stream",
     "text": [
      "http://api.openweathermap.org/data/2.5/weather?appid=03b66fb88de8694398153caaae511ea5&q=coihaique&units=imperial\n",
      "http://api.openweathermap.org/data/2.5/weather?appid=03b66fb88de8694398153caaae511ea5&q=sitka&units=imperial\n"
     ]
    },
    {
     "name": "stderr",
     "output_type": "stream",
     "text": [
      " 65% (485 of 738) |##############        | Elapsed Time: 0:01:43 ETA:   0:00:57"
     ]
    },
    {
     "name": "stdout",
     "output_type": "stream",
     "text": [
      "http://api.openweathermap.org/data/2.5/weather?appid=03b66fb88de8694398153caaae511ea5&q=castro&units=imperial\n",
      "http://api.openweathermap.org/data/2.5/weather?appid=03b66fb88de8694398153caaae511ea5&q=meiktila&units=imperial\n"
     ]
    },
    {
     "name": "stderr",
     "output_type": "stream",
     "text": [
      "\r",
      "                                                                               \r",
      "\r",
      " 65% (486 of 738) |##############        | Elapsed Time: 0:01:43 ETA:   0:00:56"
     ]
    },
    {
     "name": "stdout",
     "output_type": "stream",
     "text": [
      "http://api.openweathermap.org/data/2.5/weather?appid=03b66fb88de8694398153caaae511ea5&q=hofn&units=imperial\n"
     ]
    },
    {
     "name": "stderr",
     "output_type": "stream",
     "text": [
      " 66% (488 of 738) |##############        | Elapsed Time: 0:01:44 ETA:   0:00:58"
     ]
    },
    {
     "name": "stdout",
     "output_type": "stream",
     "text": [
      "http://api.openweathermap.org/data/2.5/weather?appid=03b66fb88de8694398153caaae511ea5&q=carnarvon&units=imperial\n",
      "http://api.openweathermap.org/data/2.5/weather?appid=03b66fb88de8694398153caaae511ea5&q=brae&units=imperial\n"
     ]
    },
    {
     "name": "stderr",
     "output_type": "stream",
     "text": [
      " 66% (490 of 738) |##############        | Elapsed Time: 0:01:44 ETA:   0:00:53"
     ]
    },
    {
     "name": "stdout",
     "output_type": "stream",
     "text": [
      "http://api.openweathermap.org/data/2.5/weather?appid=03b66fb88de8694398153caaae511ea5&q=talnakh&units=imperial\n",
      "http://api.openweathermap.org/data/2.5/weather?appid=03b66fb88de8694398153caaae511ea5&q=dargaville&units=imperial\n"
     ]
    },
    {
     "name": "stderr",
     "output_type": "stream",
     "text": [
      "\r",
      "                                                                               \r",
      "\r",
      " 66% (491 of 738) |##############        | Elapsed Time: 0:01:44 ETA:   0:00:50"
     ]
    },
    {
     "name": "stdout",
     "output_type": "stream",
     "text": [
      "http://api.openweathermap.org/data/2.5/weather?appid=03b66fb88de8694398153caaae511ea5&q=kalanwali&units=imperial\n"
     ]
    },
    {
     "name": "stderr",
     "output_type": "stream",
     "text": [
      "\r",
      "                                                                               \r",
      "\r",
      " 66% (492 of 738) |##############        | Elapsed Time: 0:01:45 ETA:   0:00:49"
     ]
    },
    {
     "name": "stdout",
     "output_type": "stream",
     "text": [
      "http://api.openweathermap.org/data/2.5/weather?appid=03b66fb88de8694398153caaae511ea5&q=bongaree&units=imperial\n"
     ]
    },
    {
     "name": "stderr",
     "output_type": "stream",
     "text": [
      "\r",
      "                                                                               \r",
      "\r",
      " 66% (493 of 738) |##############        | Elapsed Time: 0:01:45 ETA:   0:00:51"
     ]
    },
    {
     "name": "stdout",
     "output_type": "stream",
     "text": [
      "http://api.openweathermap.org/data/2.5/weather?appid=03b66fb88de8694398153caaae511ea5&q=olinda&units=imperial\n"
     ]
    },
    {
     "name": "stderr",
     "output_type": "stream",
     "text": [
      " 67% (495 of 738) |##############        | Elapsed Time: 0:01:45 ETA:   0:00:54"
     ]
    },
    {
     "name": "stdout",
     "output_type": "stream",
     "text": [
      "http://api.openweathermap.org/data/2.5/weather?appid=03b66fb88de8694398153caaae511ea5&q=sioux lookout&units=imperial\n",
      "http://api.openweathermap.org/data/2.5/weather?appid=03b66fb88de8694398153caaae511ea5&q=hithadhoo&units=imperial\n"
     ]
    },
    {
     "name": "stderr",
     "output_type": "stream",
     "text": [
      " 67% (497 of 738) |##############        | Elapsed Time: 0:01:45 ETA:   0:00:48"
     ]
    },
    {
     "name": "stdout",
     "output_type": "stream",
     "text": [
      "http://api.openweathermap.org/data/2.5/weather?appid=03b66fb88de8694398153caaae511ea5&q=ituni&units=imperial\n",
      "http://api.openweathermap.org/data/2.5/weather?appid=03b66fb88de8694398153caaae511ea5&q=santa maria&units=imperial\n"
     ]
    },
    {
     "name": "stderr",
     "output_type": "stream",
     "text": [
      " 67% (499 of 738) |##############        | Elapsed Time: 0:01:47 ETA:   0:01:25"
     ]
    },
    {
     "name": "stdout",
     "output_type": "stream",
     "text": [
      "http://api.openweathermap.org/data/2.5/weather?appid=03b66fb88de8694398153caaae511ea5&q=saint anthony&units=imperial\n",
      "http://api.openweathermap.org/data/2.5/weather?appid=03b66fb88de8694398153caaae511ea5&q=komsomolskiy&units=imperial\n"
     ]
    },
    {
     "name": "stderr",
     "output_type": "stream",
     "text": [
      " 67% (501 of 738) |##############        | Elapsed Time: 0:01:47 ETA:   0:01:20"
     ]
    },
    {
     "name": "stdout",
     "output_type": "stream",
     "text": [
      "http://api.openweathermap.org/data/2.5/weather?appid=03b66fb88de8694398153caaae511ea5&q=seoul&units=imperial\n",
      "http://api.openweathermap.org/data/2.5/weather?appid=03b66fb88de8694398153caaae511ea5&q=cap-chat&units=imperial\n"
     ]
    },
    {
     "name": "stderr",
     "output_type": "stream",
     "text": [
      " 68% (503 of 738) |##############        | Elapsed Time: 0:01:48 ETA:   0:01:24"
     ]
    },
    {
     "name": "stdout",
     "output_type": "stream",
     "text": [
      "http://api.openweathermap.org/data/2.5/weather?appid=03b66fb88de8694398153caaae511ea5&q=bentiu&units=imperial\n",
      "http://api.openweathermap.org/data/2.5/weather?appid=03b66fb88de8694398153caaae511ea5&q=traverse city&units=imperial\n"
     ]
    },
    {
     "name": "stderr",
     "output_type": "stream",
     "text": [
      " 68% (505 of 738) |###############       | Elapsed Time: 0:01:48 ETA:   0:01:12"
     ]
    },
    {
     "name": "stdout",
     "output_type": "stream",
     "text": [
      "http://api.openweathermap.org/data/2.5/weather?appid=03b66fb88de8694398153caaae511ea5&q=butaritari&units=imperial\n",
      "http://api.openweathermap.org/data/2.5/weather?appid=03b66fb88de8694398153caaae511ea5&q=alotau&units=imperial\n"
     ]
    },
    {
     "name": "stderr",
     "output_type": "stream",
     "text": [
      " 68% (507 of 738) |###############       | Elapsed Time: 0:01:48 ETA:   0:01:05"
     ]
    },
    {
     "name": "stdout",
     "output_type": "stream",
     "text": [
      "http://api.openweathermap.org/data/2.5/weather?appid=03b66fb88de8694398153caaae511ea5&q=illoqqortoormiut&units=imperial\n",
      "http://api.openweathermap.org/data/2.5/weather?appid=03b66fb88de8694398153caaae511ea5&q=sucre&units=imperial\n"
     ]
    },
    {
     "name": "stderr",
     "output_type": "stream",
     "text": [
      " 68% (509 of 738) |###############       | Elapsed Time: 0:01:49 ETA:   0:01:01"
     ]
    },
    {
     "name": "stdout",
     "output_type": "stream",
     "text": [
      "http://api.openweathermap.org/data/2.5/weather?appid=03b66fb88de8694398153caaae511ea5&q=cabra&units=imperial\n",
      "http://api.openweathermap.org/data/2.5/weather?appid=03b66fb88de8694398153caaae511ea5&q=hasaki&units=imperial\n"
     ]
    },
    {
     "name": "stderr",
     "output_type": "stream",
     "text": [
      "\r",
      "                                                                               \r",
      "\r",
      " 69% (510 of 738) |###############       | Elapsed Time: 0:01:49 ETA:   0:00:40"
     ]
    },
    {
     "name": "stdout",
     "output_type": "stream",
     "text": [
      "http://api.openweathermap.org/data/2.5/weather?appid=03b66fb88de8694398153caaae511ea5&q=katete&units=imperial\n"
     ]
    },
    {
     "name": "stderr",
     "output_type": "stream",
     "text": [
      " 69% (512 of 738) |###############       | Elapsed Time: 0:01:49 ETA:   0:00:45"
     ]
    },
    {
     "name": "stdout",
     "output_type": "stream",
     "text": [
      "http://api.openweathermap.org/data/2.5/weather?appid=03b66fb88de8694398153caaae511ea5&q=cape town&units=imperial\n",
      "http://api.openweathermap.org/data/2.5/weather?appid=03b66fb88de8694398153caaae511ea5&q=kegayli&units=imperial\n"
     ]
    },
    {
     "name": "stderr",
     "output_type": "stream",
     "text": [
      "\r",
      "                                                                               \r",
      "\r",
      " 69% (513 of 738) |###############       | Elapsed Time: 0:01:50 ETA:   0:00:45"
     ]
    },
    {
     "name": "stdout",
     "output_type": "stream",
     "text": [
      "http://api.openweathermap.org/data/2.5/weather?appid=03b66fb88de8694398153caaae511ea5&q=saint-ambroise&units=imperial\n"
     ]
    },
    {
     "name": "stderr",
     "output_type": "stream",
     "text": [
      "\r",
      "                                                                               \r",
      "\r",
      " 69% (514 of 738) |###############       | Elapsed Time: 0:01:50 ETA:   0:00:50"
     ]
    },
    {
     "name": "stdout",
     "output_type": "stream",
     "text": [
      "http://api.openweathermap.org/data/2.5/weather?appid=03b66fb88de8694398153caaae511ea5&q=shimanovsk&units=imperial\n"
     ]
    },
    {
     "name": "stderr",
     "output_type": "stream",
     "text": [
      "\r",
      "                                                                               \r",
      "\r",
      " 69% (515 of 738) |###############       | Elapsed Time: 0:01:50 ETA:   0:00:53"
     ]
    },
    {
     "name": "stdout",
     "output_type": "stream",
     "text": [
      "http://api.openweathermap.org/data/2.5/weather?appid=03b66fb88de8694398153caaae511ea5&q=nautla&units=imperial\n"
     ]
    },
    {
     "name": "stderr",
     "output_type": "stream",
     "text": [
      "\r",
      "                                                                               \r",
      "\r",
      " 69% (516 of 738) |###############       | Elapsed Time: 0:01:51 ETA:   0:00:56"
     ]
    },
    {
     "name": "stdout",
     "output_type": "stream",
     "text": [
      "http://api.openweathermap.org/data/2.5/weather?appid=03b66fb88de8694398153caaae511ea5&q=agustin codazzi&units=imperial\n"
     ]
    },
    {
     "name": "stderr",
     "output_type": "stream",
     "text": [
      " 70% (518 of 738) |###############       | Elapsed Time: 0:01:51 ETA:   0:00:58"
     ]
    },
    {
     "name": "stdout",
     "output_type": "stream",
     "text": [
      "http://api.openweathermap.org/data/2.5/weather?appid=03b66fb88de8694398153caaae511ea5&q=solovetskiy&units=imperial\n",
      "http://api.openweathermap.org/data/2.5/weather?appid=03b66fb88de8694398153caaae511ea5&q=innisfail&units=imperial\n"
     ]
    },
    {
     "name": "stderr",
     "output_type": "stream",
     "text": [
      "\r",
      "                                                                               \r",
      "\r",
      " 70% (519 of 738) |###############       | Elapsed Time: 0:01:51 ETA:   0:00:57"
     ]
    },
    {
     "name": "stdout",
     "output_type": "stream",
     "text": [
      "http://api.openweathermap.org/data/2.5/weather?appid=03b66fb88de8694398153caaae511ea5&q=dirba&units=imperial\n"
     ]
    },
    {
     "name": "stderr",
     "output_type": "stream",
     "text": [
      "\r",
      "                                                                               \r",
      "\r",
      " 70% (520 of 738) |###############       | Elapsed Time: 0:01:52 ETA:   0:00:56"
     ]
    },
    {
     "name": "stdout",
     "output_type": "stream",
     "text": [
      "http://api.openweathermap.org/data/2.5/weather?appid=03b66fb88de8694398153caaae511ea5&q=mangrol&units=imperial\n"
     ]
    },
    {
     "name": "stderr",
     "output_type": "stream",
     "text": [
      "\r",
      "                                                                               \r",
      "\r",
      " 70% (521 of 738) |###############       | Elapsed Time: 0:01:52 ETA:   0:00:56"
     ]
    },
    {
     "name": "stdout",
     "output_type": "stream",
     "text": [
      "http://api.openweathermap.org/data/2.5/weather?appid=03b66fb88de8694398153caaae511ea5&q=bambanglipuro&units=imperial\n"
     ]
    },
    {
     "name": "stderr",
     "output_type": "stream",
     "text": [
      " 70% (523 of 738) |###############       | Elapsed Time: 0:01:52 ETA:   0:00:54"
     ]
    },
    {
     "name": "stdout",
     "output_type": "stream",
     "text": [
      "http://api.openweathermap.org/data/2.5/weather?appid=03b66fb88de8694398153caaae511ea5&q=fethiye&units=imperial\n",
      "http://api.openweathermap.org/data/2.5/weather?appid=03b66fb88de8694398153caaae511ea5&q=ndele&units=imperial\n"
     ]
    },
    {
     "name": "stderr",
     "output_type": "stream",
     "text": [
      " 71% (525 of 738) |###############       | Elapsed Time: 0:01:53 ETA:   0:00:48"
     ]
    },
    {
     "name": "stdout",
     "output_type": "stream",
     "text": [
      "http://api.openweathermap.org/data/2.5/weather?appid=03b66fb88de8694398153caaae511ea5&q=dmitriyev-lgovskiy&units=imperial\n",
      "http://api.openweathermap.org/data/2.5/weather?appid=03b66fb88de8694398153caaae511ea5&q=balsas&units=imperial\n"
     ]
    },
    {
     "name": "stderr",
     "output_type": "stream",
     "text": [
      " 71% (527 of 738) |###############       | Elapsed Time: 0:01:53 ETA:   0:00:42"
     ]
    },
    {
     "name": "stdout",
     "output_type": "stream",
     "text": [
      "http://api.openweathermap.org/data/2.5/weather?appid=03b66fb88de8694398153caaae511ea5&q=itoman&units=imperial\n",
      "http://api.openweathermap.org/data/2.5/weather?appid=03b66fb88de8694398153caaae511ea5&q=mantua&units=imperial\n"
     ]
    },
    {
     "name": "stderr",
     "output_type": "stream",
     "text": [
      " 71% (529 of 738) |###############       | Elapsed Time: 0:01:53 ETA:   0:00:42"
     ]
    },
    {
     "name": "stdout",
     "output_type": "stream",
     "text": [
      "http://api.openweathermap.org/data/2.5/weather?appid=03b66fb88de8694398153caaae511ea5&q=flin flon&units=imperial\n",
      "http://api.openweathermap.org/data/2.5/weather?appid=03b66fb88de8694398153caaae511ea5&q=kaspiyskiy&units=imperial\n"
     ]
    },
    {
     "name": "stderr",
     "output_type": "stream",
     "text": [
      "\r",
      "                                                                               \r",
      "\r",
      " 71% (530 of 738) |###############       | Elapsed Time: 0:01:53 ETA:   0:00:41"
     ]
    },
    {
     "name": "stdout",
     "output_type": "stream",
     "text": [
      "http://api.openweathermap.org/data/2.5/weather?appid=03b66fb88de8694398153caaae511ea5&q=buciumi&units=imperial\n"
     ]
    },
    {
     "name": "stderr",
     "output_type": "stream",
     "text": [
      "\r",
      "                                                                               \r",
      "\r",
      " 71% (531 of 738) |###############       | Elapsed Time: 0:01:54 ETA:   0:00:41"
     ]
    },
    {
     "name": "stdout",
     "output_type": "stream",
     "text": [
      "http://api.openweathermap.org/data/2.5/weather?appid=03b66fb88de8694398153caaae511ea5&q=ziro&units=imperial\n"
     ]
    },
    {
     "name": "stderr",
     "output_type": "stream",
     "text": [
      " 72% (533 of 738) |###############       | Elapsed Time: 0:01:54 ETA:   0:00:39"
     ]
    },
    {
     "name": "stdout",
     "output_type": "stream",
     "text": [
      "http://api.openweathermap.org/data/2.5/weather?appid=03b66fb88de8694398153caaae511ea5&q=margate&units=imperial\n",
      "http://api.openweathermap.org/data/2.5/weather?appid=03b66fb88de8694398153caaae511ea5&q=iralaya&units=imperial\n"
     ]
    },
    {
     "name": "stderr",
     "output_type": "stream",
     "text": [
      " 72% (535 of 738) |###############       | Elapsed Time: 0:01:55 ETA:   0:00:43"
     ]
    },
    {
     "name": "stdout",
     "output_type": "stream",
     "text": [
      "http://api.openweathermap.org/data/2.5/weather?appid=03b66fb88de8694398153caaae511ea5&q=nguiu&units=imperial\n",
      "http://api.openweathermap.org/data/2.5/weather?appid=03b66fb88de8694398153caaae511ea5&q=erdenet&units=imperial\n"
     ]
    },
    {
     "name": "stderr",
     "output_type": "stream",
     "text": [
      "\r",
      "                                                                               \r",
      "\r",
      " 72% (536 of 738) |###############       | Elapsed Time: 0:01:55 ETA:   0:00:45"
     ]
    },
    {
     "name": "stdout",
     "output_type": "stream",
     "text": [
      "http://api.openweathermap.org/data/2.5/weather?appid=03b66fb88de8694398153caaae511ea5&q=barra do garcas&units=imperial\n"
     ]
    },
    {
     "name": "stderr",
     "output_type": "stream",
     "text": [
      "\r",
      "                                                                               \r",
      "\r",
      " 72% (537 of 738) |################      | Elapsed Time: 0:01:55 ETA:   0:00:47"
     ]
    },
    {
     "name": "stdout",
     "output_type": "stream",
     "text": [
      "http://api.openweathermap.org/data/2.5/weather?appid=03b66fb88de8694398153caaae511ea5&q=lichinga&units=imperial\n"
     ]
    },
    {
     "name": "stderr",
     "output_type": "stream",
     "text": [
      "\r",
      "                                                                               \r",
      "\r",
      " 72% (538 of 738) |################      | Elapsed Time: 0:01:56 ETA:   0:00:51"
     ]
    },
    {
     "name": "stdout",
     "output_type": "stream",
     "text": [
      "http://api.openweathermap.org/data/2.5/weather?appid=03b66fb88de8694398153caaae511ea5&q=umea&units=imperial\n"
     ]
    },
    {
     "name": "stderr",
     "output_type": "stream",
     "text": [
      " 73% (540 of 738) |################      | Elapsed Time: 0:01:56 ETA:   0:00:48"
     ]
    },
    {
     "name": "stdout",
     "output_type": "stream",
     "text": [
      "http://api.openweathermap.org/data/2.5/weather?appid=03b66fb88de8694398153caaae511ea5&q=lagoa&units=imperial\n",
      "http://api.openweathermap.org/data/2.5/weather?appid=03b66fb88de8694398153caaae511ea5&q=sao sebastiao do paraiso&units=imperial\n"
     ]
    },
    {
     "name": "stderr",
     "output_type": "stream",
     "text": [
      " 73% (542 of 738) |################      | Elapsed Time: 0:01:56 ETA:   0:00:44"
     ]
    },
    {
     "name": "stdout",
     "output_type": "stream",
     "text": [
      "http://api.openweathermap.org/data/2.5/weather?appid=03b66fb88de8694398153caaae511ea5&q=belushya guba&units=imperial\n",
      "http://api.openweathermap.org/data/2.5/weather?appid=03b66fb88de8694398153caaae511ea5&q=kaeo&units=imperial\n"
     ]
    },
    {
     "name": "stderr",
     "output_type": "stream",
     "text": [
      " 73% (544 of 738) |################      | Elapsed Time: 0:01:57 ETA:   0:00:41"
     ]
    },
    {
     "name": "stdout",
     "output_type": "stream",
     "text": [
      "http://api.openweathermap.org/data/2.5/weather?appid=03b66fb88de8694398153caaae511ea5&q=tabiauea&units=imperial\n",
      "http://api.openweathermap.org/data/2.5/weather?appid=03b66fb88de8694398153caaae511ea5&q=vestmanna&units=imperial\n"
     ]
    },
    {
     "name": "stderr",
     "output_type": "stream",
     "text": [
      "\r",
      "                                                                               \r",
      "\r",
      " 73% (545 of 738) |################      | Elapsed Time: 0:01:57 ETA:   0:00:40"
     ]
    },
    {
     "name": "stdout",
     "output_type": "stream",
     "text": [
      "http://api.openweathermap.org/data/2.5/weather?appid=03b66fb88de8694398153caaae511ea5&q=panama city&units=imperial\n"
     ]
    },
    {
     "name": "stderr",
     "output_type": "stream",
     "text": [
      "\r",
      "                                                                               \r",
      "\r",
      " 73% (546 of 738) |################      | Elapsed Time: 0:01:57 ETA:   0:00:40"
     ]
    },
    {
     "name": "stdout",
     "output_type": "stream",
     "text": [
      "http://api.openweathermap.org/data/2.5/weather?appid=03b66fb88de8694398153caaae511ea5&q=ardesen&units=imperial\n"
     ]
    },
    {
     "name": "stderr",
     "output_type": "stream",
     "text": [
      "\r",
      "                                                                               \r",
      "\r",
      " 74% (547 of 738) |################      | Elapsed Time: 0:01:57 ETA:   0:00:39"
     ]
    },
    {
     "name": "stdout",
     "output_type": "stream",
     "text": [
      "http://api.openweathermap.org/data/2.5/weather?appid=03b66fb88de8694398153caaae511ea5&q=buchanan&units=imperial\n"
     ]
    },
    {
     "name": "stderr",
     "output_type": "stream",
     "text": [
      "\r",
      "                                                                               \r",
      "\r",
      " 74% (548 of 738) |################      | Elapsed Time: 0:01:58 ETA:   0:00:41"
     ]
    },
    {
     "name": "stdout",
     "output_type": "stream",
     "text": [
      "http://api.openweathermap.org/data/2.5/weather?appid=03b66fb88de8694398153caaae511ea5&q=kagadi&units=imperial\n"
     ]
    },
    {
     "name": "stderr",
     "output_type": "stream",
     "text": [
      "\r",
      "                                                                               \r",
      "\r",
      " 74% (549 of 738) |################      | Elapsed Time: 0:01:58 ETA:   0:00:42"
     ]
    },
    {
     "name": "stdout",
     "output_type": "stream",
     "text": [
      "http://api.openweathermap.org/data/2.5/weather?appid=03b66fb88de8694398153caaae511ea5&q=dourbali&units=imperial\n"
     ]
    },
    {
     "name": "stderr",
     "output_type": "stream",
     "text": [
      "\r",
      "                                                                               \r",
      "\r",
      " 74% (550 of 738) |################      | Elapsed Time: 0:01:58 ETA:   0:00:47"
     ]
    },
    {
     "name": "stdout",
     "output_type": "stream",
     "text": [
      "http://api.openweathermap.org/data/2.5/weather?appid=03b66fb88de8694398153caaae511ea5&q=naples&units=imperial\n"
     ]
    },
    {
     "name": "stderr",
     "output_type": "stream",
     "text": [
      "\r",
      "                                                                               \r",
      "\r",
      " 74% (551 of 738) |################      | Elapsed Time: 0:01:59 ETA:   0:00:48"
     ]
    },
    {
     "name": "stdout",
     "output_type": "stream",
     "text": [
      "http://api.openweathermap.org/data/2.5/weather?appid=03b66fb88de8694398153caaae511ea5&q=bandarban&units=imperial\n"
     ]
    },
    {
     "name": "stderr",
     "output_type": "stream",
     "text": [
      "\r",
      "                                                                               \r",
      "\r",
      " 74% (552 of 738) |################      | Elapsed Time: 0:01:59 ETA:   0:00:53"
     ]
    },
    {
     "name": "stdout",
     "output_type": "stream",
     "text": [
      "http://api.openweathermap.org/data/2.5/weather?appid=03b66fb88de8694398153caaae511ea5&q=cottonwood&units=imperial\n"
     ]
    },
    {
     "name": "stderr",
     "output_type": "stream",
     "text": [
      "\r",
      "                                                                               \r",
      "\r",
      " 74% (553 of 738) |################      | Elapsed Time: 0:01:59 ETA:   0:01:04"
     ]
    },
    {
     "name": "stdout",
     "output_type": "stream",
     "text": [
      "http://api.openweathermap.org/data/2.5/weather?appid=03b66fb88de8694398153caaae511ea5&q=hokitika&units=imperial\n"
     ]
    },
    {
     "name": "stderr",
     "output_type": "stream",
     "text": [
      "\r",
      "                                                                               \r",
      "\r",
      " 75% (554 of 738) |################      | Elapsed Time: 0:02:00 ETA:   0:01:02"
     ]
    },
    {
     "name": "stdout",
     "output_type": "stream",
     "text": [
      "http://api.openweathermap.org/data/2.5/weather?appid=03b66fb88de8694398153caaae511ea5&q=rio gallegos&units=imperial\n"
     ]
    },
    {
     "name": "stderr",
     "output_type": "stream",
     "text": [
      "\r",
      "                                                                               \r",
      "\r",
      " 75% (555 of 738) |################      | Elapsed Time: 0:02:00 ETA:   0:00:57"
     ]
    },
    {
     "name": "stdout",
     "output_type": "stream",
     "text": [
      "http://api.openweathermap.org/data/2.5/weather?appid=03b66fb88de8694398153caaae511ea5&q=fasa&units=imperial\n"
     ]
    },
    {
     "name": "stderr",
     "output_type": "stream",
     "text": [
      "\r",
      "                                                                               \r",
      "\r",
      " 75% (556 of 738) |################      | Elapsed Time: 0:02:00 ETA:   0:00:57"
     ]
    },
    {
     "name": "stdout",
     "output_type": "stream",
     "text": [
      "http://api.openweathermap.org/data/2.5/weather?appid=03b66fb88de8694398153caaae511ea5&q=chunoyar&units=imperial\n"
     ]
    },
    {
     "name": "stderr",
     "output_type": "stream",
     "text": [
      " 75% (558 of 738) |################      | Elapsed Time: 0:02:01 ETA:   0:00:52"
     ]
    },
    {
     "name": "stdout",
     "output_type": "stream",
     "text": [
      "http://api.openweathermap.org/data/2.5/weather?appid=03b66fb88de8694398153caaae511ea5&q=upernavik&units=imperial\n",
      "http://api.openweathermap.org/data/2.5/weather?appid=03b66fb88de8694398153caaae511ea5&q=beloha&units=imperial\n"
     ]
    },
    {
     "name": "stderr",
     "output_type": "stream",
     "text": [
      "\r",
      "                                                                               \r",
      "\r",
      " 75% (559 of 738) |################      | Elapsed Time: 0:02:01 ETA:   0:00:48"
     ]
    },
    {
     "name": "stdout",
     "output_type": "stream",
     "text": [
      "http://api.openweathermap.org/data/2.5/weather?appid=03b66fb88de8694398153caaae511ea5&q=coihueco&units=imperial\n"
     ]
    },
    {
     "name": "stderr",
     "output_type": "stream",
     "text": [
      "\r",
      "                                                                               \r",
      "\r",
      " 75% (560 of 738) |################      | Elapsed Time: 0:02:01 ETA:   0:00:48"
     ]
    },
    {
     "name": "stdout",
     "output_type": "stream",
     "text": [
      "http://api.openweathermap.org/data/2.5/weather?appid=03b66fb88de8694398153caaae511ea5&q=dehloran&units=imperial\n"
     ]
    },
    {
     "name": "stderr",
     "output_type": "stream",
     "text": [
      "\r",
      "                                                                               \r",
      "\r",
      " 76% (561 of 738) |################      | Elapsed Time: 0:02:01 ETA:   0:00:48"
     ]
    },
    {
     "name": "stdout",
     "output_type": "stream",
     "text": [
      "http://api.openweathermap.org/data/2.5/weather?appid=03b66fb88de8694398153caaae511ea5&q=hobyo&units=imperial\n"
     ]
    },
    {
     "name": "stderr",
     "output_type": "stream",
     "text": [
      "\r",
      "                                                                               \r",
      "\r",
      " 76% (562 of 738) |################      | Elapsed Time: 0:02:02 ETA:   0:00:41"
     ]
    },
    {
     "name": "stdout",
     "output_type": "stream",
     "text": [
      "http://api.openweathermap.org/data/2.5/weather?appid=03b66fb88de8694398153caaae511ea5&q=manta&units=imperial\n"
     ]
    },
    {
     "name": "stderr",
     "output_type": "stream",
     "text": [
      " 76% (564 of 738) |################      | Elapsed Time: 0:02:02 ETA:   0:00:39"
     ]
    },
    {
     "name": "stdout",
     "output_type": "stream",
     "text": [
      "http://api.openweathermap.org/data/2.5/weather?appid=03b66fb88de8694398153caaae511ea5&q=vostok&units=imperial\n",
      "http://api.openweathermap.org/data/2.5/weather?appid=03b66fb88de8694398153caaae511ea5&q=ixtapa&units=imperial\n"
     ]
    },
    {
     "name": "stderr",
     "output_type": "stream",
     "text": [
      "\r",
      "                                                                               \r",
      "\r",
      " 76% (565 of 738) |################      | Elapsed Time: 0:02:02 ETA:   0:00:39"
     ]
    },
    {
     "name": "stdout",
     "output_type": "stream",
     "text": [
      "http://api.openweathermap.org/data/2.5/weather?appid=03b66fb88de8694398153caaae511ea5&q=paluan&units=imperial\n"
     ]
    },
    {
     "name": "stderr",
     "output_type": "stream",
     "text": [
      " 76% (567 of 738) |################      | Elapsed Time: 0:02:03 ETA:   0:00:39"
     ]
    },
    {
     "name": "stdout",
     "output_type": "stream",
     "text": [
      "http://api.openweathermap.org/data/2.5/weather?appid=03b66fb88de8694398153caaae511ea5&q=culiacan&units=imperial\n",
      "http://api.openweathermap.org/data/2.5/weather?appid=03b66fb88de8694398153caaae511ea5&q=houma&units=imperial\n"
     ]
    },
    {
     "name": "stderr",
     "output_type": "stream",
     "text": [
      "\r",
      "                                                                               \r",
      "\r",
      " 76% (568 of 738) |################      | Elapsed Time: 0:02:03 ETA:   0:00:41"
     ]
    },
    {
     "name": "stdout",
     "output_type": "stream",
     "text": [
      "http://api.openweathermap.org/data/2.5/weather?appid=03b66fb88de8694398153caaae511ea5&q=solvychegodsk&units=imperial\n"
     ]
    },
    {
     "name": "stderr",
     "output_type": "stream",
     "text": [
      "\r",
      "                                                                               \r",
      "\r",
      " 77% (569 of 738) |################      | Elapsed Time: 0:02:03 ETA:   0:00:40"
     ]
    },
    {
     "name": "stdout",
     "output_type": "stream",
     "text": [
      "http://api.openweathermap.org/data/2.5/weather?appid=03b66fb88de8694398153caaae511ea5&q=west bay&units=imperial\n"
     ]
    },
    {
     "name": "stderr",
     "output_type": "stream",
     "text": [
      "\r",
      "                                                                               \r",
      "\r",
      " 77% (570 of 738) |################      | Elapsed Time: 0:02:04 ETA:   0:00:41"
     ]
    },
    {
     "name": "stdout",
     "output_type": "stream",
     "text": [
      "http://api.openweathermap.org/data/2.5/weather?appid=03b66fb88de8694398153caaae511ea5&q=kommunisticheskiy&units=imperial\n"
     ]
    },
    {
     "name": "stderr",
     "output_type": "stream",
     "text": [
      "\r",
      "                                                                               \r",
      "\r",
      " 77% (571 of 738) |#################     | Elapsed Time: 0:02:04 ETA:   0:00:41"
     ]
    },
    {
     "name": "stdout",
     "output_type": "stream",
     "text": [
      "http://api.openweathermap.org/data/2.5/weather?appid=03b66fb88de8694398153caaae511ea5&q=sedkyrkeshch&units=imperial\n"
     ]
    },
    {
     "name": "stderr",
     "output_type": "stream",
     "text": [
      " 77% (573 of 738) |#################     | Elapsed Time: 0:02:04 ETA:   0:00:42"
     ]
    },
    {
     "name": "stdout",
     "output_type": "stream",
     "text": [
      "http://api.openweathermap.org/data/2.5/weather?appid=03b66fb88de8694398153caaae511ea5&q=henties bay&units=imperial\n",
      "http://api.openweathermap.org/data/2.5/weather?appid=03b66fb88de8694398153caaae511ea5&q=porto de moz&units=imperial\n"
     ]
    },
    {
     "name": "stderr",
     "output_type": "stream",
     "text": [
      "\r",
      "                                                                               \r",
      "\r",
      " 77% (574 of 738) |#################     | Elapsed Time: 0:02:04 ETA:   0:00:40"
     ]
    },
    {
     "name": "stdout",
     "output_type": "stream",
     "text": [
      "http://api.openweathermap.org/data/2.5/weather?appid=03b66fb88de8694398153caaae511ea5&q=maun&units=imperial\n"
     ]
    },
    {
     "name": "stderr",
     "output_type": "stream",
     "text": [
      " 78% (576 of 738) |#################     | Elapsed Time: 0:02:05 ETA:   0:00:38"
     ]
    },
    {
     "name": "stdout",
     "output_type": "stream",
     "text": [
      "http://api.openweathermap.org/data/2.5/weather?appid=03b66fb88de8694398153caaae511ea5&q=valjala&units=imperial\n",
      "http://api.openweathermap.org/data/2.5/weather?appid=03b66fb88de8694398153caaae511ea5&q=coquimbo&units=imperial\n"
     ]
    },
    {
     "name": "stderr",
     "output_type": "stream",
     "text": [
      " 78% (578 of 738) |#################     | Elapsed Time: 0:02:05 ETA:   0:00:35"
     ]
    },
    {
     "name": "stdout",
     "output_type": "stream",
     "text": [
      "http://api.openweathermap.org/data/2.5/weather?appid=03b66fb88de8694398153caaae511ea5&q=victoria&units=imperial\n",
      "http://api.openweathermap.org/data/2.5/weather?appid=03b66fb88de8694398153caaae511ea5&q=bria&units=imperial\n"
     ]
    },
    {
     "name": "stderr",
     "output_type": "stream",
     "text": [
      " 78% (580 of 738) |#################     | Elapsed Time: 0:02:05 ETA:   0:00:33"
     ]
    },
    {
     "name": "stdout",
     "output_type": "stream",
     "text": [
      "http://api.openweathermap.org/data/2.5/weather?appid=03b66fb88de8694398153caaae511ea5&q=mao&units=imperial\n",
      "http://api.openweathermap.org/data/2.5/weather?appid=03b66fb88de8694398153caaae511ea5&q=sorvag&units=imperial\n"
     ]
    },
    {
     "name": "stderr",
     "output_type": "stream",
     "text": [
      " 78% (582 of 738) |#################     | Elapsed Time: 0:02:06 ETA:   0:00:28"
     ]
    },
    {
     "name": "stdout",
     "output_type": "stream",
     "text": [
      "http://api.openweathermap.org/data/2.5/weather?appid=03b66fb88de8694398153caaae511ea5&q=isangel&units=imperial\n",
      "http://api.openweathermap.org/data/2.5/weather?appid=03b66fb88de8694398153caaae511ea5&q=souillac&units=imperial\n"
     ]
    },
    {
     "name": "stderr",
     "output_type": "stream",
     "text": [
      "\r",
      "                                                                               \r",
      "\r",
      " 78% (583 of 738) |#################     | Elapsed Time: 0:02:06 ETA:   0:00:28"
     ]
    },
    {
     "name": "stdout",
     "output_type": "stream",
     "text": [
      "http://api.openweathermap.org/data/2.5/weather?appid=03b66fb88de8694398153caaae511ea5&q=kiama&units=imperial\n"
     ]
    },
    {
     "name": "stderr",
     "output_type": "stream",
     "text": [
      "\r",
      "                                                                               \r",
      "\r",
      " 79% (584 of 738) |#################     | Elapsed Time: 0:02:06 ETA:   0:00:26"
     ]
    },
    {
     "name": "stdout",
     "output_type": "stream",
     "text": [
      "http://api.openweathermap.org/data/2.5/weather?appid=03b66fb88de8694398153caaae511ea5&q=dzialdowo&units=imperial\n"
     ]
    },
    {
     "name": "stderr",
     "output_type": "stream",
     "text": [
      " 79% (586 of 738) |#################     | Elapsed Time: 0:02:07 ETA:   0:00:27"
     ]
    },
    {
     "name": "stdout",
     "output_type": "stream",
     "text": [
      "http://api.openweathermap.org/data/2.5/weather?appid=03b66fb88de8694398153caaae511ea5&q=vestmannaeyjar&units=imperial\n",
      "http://api.openweathermap.org/data/2.5/weather?appid=03b66fb88de8694398153caaae511ea5&q=galesong&units=imperial\n"
     ]
    },
    {
     "name": "stderr",
     "output_type": "stream",
     "text": [
      "\r",
      "                                                                               \r",
      "\r",
      " 79% (587 of 738) |#################     | Elapsed Time: 0:02:07 ETA:   0:00:28"
     ]
    },
    {
     "name": "stdout",
     "output_type": "stream",
     "text": [
      "http://api.openweathermap.org/data/2.5/weather?appid=03b66fb88de8694398153caaae511ea5&q=chinsali&units=imperial\n"
     ]
    },
    {
     "name": "stderr",
     "output_type": "stream",
     "text": [
      "\r",
      "                                                                               \r",
      "\r",
      " 79% (588 of 738) |#################     | Elapsed Time: 0:02:07 ETA:   0:00:30"
     ]
    },
    {
     "name": "stdout",
     "output_type": "stream",
     "text": [
      "http://api.openweathermap.org/data/2.5/weather?appid=03b66fb88de8694398153caaae511ea5&q=salinas&units=imperial\n"
     ]
    },
    {
     "name": "stderr",
     "output_type": "stream",
     "text": [
      "\r",
      "                                                                               \r",
      "\r",
      " 79% (589 of 738) |#################     | Elapsed Time: 0:02:07 ETA:   0:00:31"
     ]
    },
    {
     "name": "stdout",
     "output_type": "stream",
     "text": [
      "http://api.openweathermap.org/data/2.5/weather?appid=03b66fb88de8694398153caaae511ea5&q=numan&units=imperial\n"
     ]
    },
    {
     "name": "stderr",
     "output_type": "stream",
     "text": [
      " 80% (591 of 738) |#################     | Elapsed Time: 0:02:08 ETA:   0:00:33"
     ]
    },
    {
     "name": "stdout",
     "output_type": "stream",
     "text": [
      "http://api.openweathermap.org/data/2.5/weather?appid=03b66fb88de8694398153caaae511ea5&q=lavrentiya&units=imperial\n",
      "http://api.openweathermap.org/data/2.5/weather?appid=03b66fb88de8694398153caaae511ea5&q=kavieng&units=imperial\n"
     ]
    },
    {
     "name": "stderr",
     "output_type": "stream",
     "text": [
      "\r",
      "                                                                               \r",
      "\r",
      " 80% (592 of 738) |#################     | Elapsed Time: 0:02:08 ETA:   0:00:33"
     ]
    },
    {
     "name": "stdout",
     "output_type": "stream",
     "text": [
      "http://api.openweathermap.org/data/2.5/weather?appid=03b66fb88de8694398153caaae511ea5&q=inongo&units=imperial\n"
     ]
    },
    {
     "name": "stderr",
     "output_type": "stream",
     "text": [
      " 80% (594 of 738) |#################     | Elapsed Time: 0:02:08 ETA:   0:00:31"
     ]
    },
    {
     "name": "stdout",
     "output_type": "stream",
     "text": [
      "http://api.openweathermap.org/data/2.5/weather?appid=03b66fb88de8694398153caaae511ea5&q=astana&units=imperial\n",
      "http://api.openweathermap.org/data/2.5/weather?appid=03b66fb88de8694398153caaae511ea5&q=nyurba&units=imperial\n"
     ]
    },
    {
     "name": "stderr",
     "output_type": "stream",
     "text": [
      " 80% (596 of 738) |#################     | Elapsed Time: 0:02:09 ETA:   0:00:31"
     ]
    },
    {
     "name": "stdout",
     "output_type": "stream",
     "text": [
      "http://api.openweathermap.org/data/2.5/weather?appid=03b66fb88de8694398153caaae511ea5&q=bullhead city&units=imperial\n",
      "http://api.openweathermap.org/data/2.5/weather?appid=03b66fb88de8694398153caaae511ea5&q=karaul&units=imperial\n"
     ]
    },
    {
     "name": "stderr",
     "output_type": "stream",
     "text": [
      "\r",
      "                                                                               \r",
      "\r",
      " 80% (597 of 738) |#################     | Elapsed Time: 0:02:09 ETA:   0:00:30"
     ]
    },
    {
     "name": "stdout",
     "output_type": "stream",
     "text": [
      "http://api.openweathermap.org/data/2.5/weather?appid=03b66fb88de8694398153caaae511ea5&q=carnduff&units=imperial\n"
     ]
    },
    {
     "name": "stderr",
     "output_type": "stream",
     "text": [
      "\r",
      "                                                                               \r",
      "\r",
      " 81% (598 of 738) |#################     | Elapsed Time: 0:02:09 ETA:   0:00:30"
     ]
    },
    {
     "name": "stdout",
     "output_type": "stream",
     "text": [
      "http://api.openweathermap.org/data/2.5/weather?appid=03b66fb88de8694398153caaae511ea5&q=mahajanga&units=imperial\n"
     ]
    },
    {
     "name": "stderr",
     "output_type": "stream",
     "text": [
      "\r",
      "                                                                               \r",
      "\r",
      " 81% (599 of 738) |#################     | Elapsed Time: 0:02:10 ETA:   0:00:28"
     ]
    },
    {
     "name": "stdout",
     "output_type": "stream",
     "text": [
      "http://api.openweathermap.org/data/2.5/weather?appid=03b66fb88de8694398153caaae511ea5&q=nyuksenitsa&units=imperial\n"
     ]
    },
    {
     "name": "stderr",
     "output_type": "stream",
     "text": [
      "\r",
      "                                                                               \r",
      "\r",
      " 81% (600 of 738) |#################     | Elapsed Time: 0:02:10 ETA:   0:00:29"
     ]
    },
    {
     "name": "stdout",
     "output_type": "stream",
     "text": [
      "http://api.openweathermap.org/data/2.5/weather?appid=03b66fb88de8694398153caaae511ea5&q=honiara&units=imperial\n"
     ]
    },
    {
     "name": "stderr",
     "output_type": "stream",
     "text": [
      "\r",
      "                                                                               \r",
      "\r",
      " 81% (601 of 738) |#################     | Elapsed Time: 0:02:10 ETA:   0:00:32"
     ]
    },
    {
     "name": "stdout",
     "output_type": "stream",
     "text": [
      "http://api.openweathermap.org/data/2.5/weather?appid=03b66fb88de8694398153caaae511ea5&q=phonhong&units=imperial\n"
     ]
    },
    {
     "name": "stderr",
     "output_type": "stream",
     "text": [
      " 81% (603 of 738) |#################     | Elapsed Time: 0:02:11 ETA:   0:00:31"
     ]
    },
    {
     "name": "stdout",
     "output_type": "stream",
     "text": [
      "http://api.openweathermap.org/data/2.5/weather?appid=03b66fb88de8694398153caaae511ea5&q=kahului&units=imperial\n",
      "http://api.openweathermap.org/data/2.5/weather?appid=03b66fb88de8694398153caaae511ea5&q=puerto carreno&units=imperial\n"
     ]
    },
    {
     "name": "stderr",
     "output_type": "stream",
     "text": [
      " 81% (605 of 738) |##################    | Elapsed Time: 0:02:11 ETA:   0:00:30"
     ]
    },
    {
     "name": "stdout",
     "output_type": "stream",
     "text": [
      "http://api.openweathermap.org/data/2.5/weather?appid=03b66fb88de8694398153caaae511ea5&q=dikson&units=imperial\n",
      "http://api.openweathermap.org/data/2.5/weather?appid=03b66fb88de8694398153caaae511ea5&q=urdoma&units=imperial\n"
     ]
    },
    {
     "name": "stderr",
     "output_type": "stream",
     "text": [
      " 82% (607 of 738) |##################    | Elapsed Time: 0:02:11 ETA:   0:00:29"
     ]
    },
    {
     "name": "stdout",
     "output_type": "stream",
     "text": [
      "http://api.openweathermap.org/data/2.5/weather?appid=03b66fb88de8694398153caaae511ea5&q=torbay&units=imperial\n",
      "http://api.openweathermap.org/data/2.5/weather?appid=03b66fb88de8694398153caaae511ea5&q=pasighat&units=imperial\n"
     ]
    },
    {
     "name": "stderr",
     "output_type": "stream",
     "text": [
      "\r",
      "                                                                               \r",
      "\r",
      " 82% (608 of 738) |##################    | Elapsed Time: 0:02:12 ETA:   0:00:29"
     ]
    },
    {
     "name": "stdout",
     "output_type": "stream",
     "text": [
      "http://api.openweathermap.org/data/2.5/weather?appid=03b66fb88de8694398153caaae511ea5&q=peniche&units=imperial\n"
     ]
    },
    {
     "name": "stderr",
     "output_type": "stream",
     "text": [
      " 82% (610 of 738) |##################    | Elapsed Time: 0:02:12 ETA:   0:00:27"
     ]
    },
    {
     "name": "stdout",
     "output_type": "stream",
     "text": [
      "http://api.openweathermap.org/data/2.5/weather?appid=03b66fb88de8694398153caaae511ea5&q=hobart&units=imperial\n",
      "http://api.openweathermap.org/data/2.5/weather?appid=03b66fb88de8694398153caaae511ea5&q=san-pedro&units=imperial\n"
     ]
    },
    {
     "name": "stderr",
     "output_type": "stream",
     "text": [
      " 82% (612 of 738) |##################    | Elapsed Time: 0:02:12 ETA:   0:00:25"
     ]
    },
    {
     "name": "stdout",
     "output_type": "stream",
     "text": [
      "http://api.openweathermap.org/data/2.5/weather?appid=03b66fb88de8694398153caaae511ea5&q=te anau&units=imperial\n",
      "http://api.openweathermap.org/data/2.5/weather?appid=03b66fb88de8694398153caaae511ea5&q=general roca&units=imperial\n"
     ]
    },
    {
     "name": "stderr",
     "output_type": "stream",
     "text": [
      " 83% (614 of 738) |##################    | Elapsed Time: 0:02:13 ETA:   0:00:25"
     ]
    },
    {
     "name": "stdout",
     "output_type": "stream",
     "text": [
      "http://api.openweathermap.org/data/2.5/weather?appid=03b66fb88de8694398153caaae511ea5&q=aykhal&units=imperial\n",
      "http://api.openweathermap.org/data/2.5/weather?appid=03b66fb88de8694398153caaae511ea5&q=saint-philippe&units=imperial\n"
     ]
    },
    {
     "name": "stderr",
     "output_type": "stream",
     "text": [
      " 83% (616 of 738) |##################    | Elapsed Time: 0:02:13 ETA:   0:00:24"
     ]
    },
    {
     "name": "stdout",
     "output_type": "stream",
     "text": [
      "http://api.openweathermap.org/data/2.5/weather?appid=03b66fb88de8694398153caaae511ea5&q=kadoma&units=imperial\n",
      "http://api.openweathermap.org/data/2.5/weather?appid=03b66fb88de8694398153caaae511ea5&q=fare&units=imperial\n"
     ]
    },
    {
     "name": "stderr",
     "output_type": "stream",
     "text": [
      "\r",
      "                                                                               \r",
      "\r",
      " 83% (617 of 738) |##################    | Elapsed Time: 0:02:13 ETA:   0:00:24"
     ]
    },
    {
     "name": "stdout",
     "output_type": "stream",
     "text": [
      "http://api.openweathermap.org/data/2.5/weather?appid=03b66fb88de8694398153caaae511ea5&q=merauke&units=imperial\n"
     ]
    },
    {
     "name": "stderr",
     "output_type": "stream",
     "text": [
      " 83% (619 of 738) |##################    | Elapsed Time: 0:02:14 ETA:   0:00:22"
     ]
    },
    {
     "name": "stdout",
     "output_type": "stream",
     "text": [
      "http://api.openweathermap.org/data/2.5/weather?appid=03b66fb88de8694398153caaae511ea5&q=sorland&units=imperial\n",
      "http://api.openweathermap.org/data/2.5/weather?appid=03b66fb88de8694398153caaae511ea5&q=sabha&units=imperial\n"
     ]
    },
    {
     "name": "stderr",
     "output_type": "stream",
     "text": [
      " 84% (621 of 738) |##################    | Elapsed Time: 0:02:14 ETA:   0:00:23"
     ]
    },
    {
     "name": "stdout",
     "output_type": "stream",
     "text": [
      "http://api.openweathermap.org/data/2.5/weather?appid=03b66fb88de8694398153caaae511ea5&q=opobo&units=imperial\n",
      "http://api.openweathermap.org/data/2.5/weather?appid=03b66fb88de8694398153caaae511ea5&q=kindia&units=imperial\n"
     ]
    },
    {
     "name": "stderr",
     "output_type": "stream",
     "text": [
      "\r",
      "                                                                               \r",
      "\r",
      " 84% (622 of 738) |##################    | Elapsed Time: 0:02:14 ETA:   0:00:24"
     ]
    },
    {
     "name": "stdout",
     "output_type": "stream",
     "text": [
      "http://api.openweathermap.org/data/2.5/weather?appid=03b66fb88de8694398153caaae511ea5&q=tezu&units=imperial\n"
     ]
    },
    {
     "name": "stderr",
     "output_type": "stream",
     "text": [
      "\r",
      "                                                                               \r",
      "\r",
      " 84% (623 of 738) |##################    | Elapsed Time: 0:02:15 ETA:   0:00:24"
     ]
    },
    {
     "name": "stdout",
     "output_type": "stream",
     "text": [
      "http://api.openweathermap.org/data/2.5/weather?appid=03b66fb88de8694398153caaae511ea5&q=nago&units=imperial\n"
     ]
    },
    {
     "name": "stderr",
     "output_type": "stream",
     "text": [
      " 84% (625 of 738) |##################    | Elapsed Time: 0:02:15 ETA:   0:00:26"
     ]
    },
    {
     "name": "stdout",
     "output_type": "stream",
     "text": [
      "http://api.openweathermap.org/data/2.5/weather?appid=03b66fb88de8694398153caaae511ea5&q=we&units=imperial\n",
      "http://api.openweathermap.org/data/2.5/weather?appid=03b66fb88de8694398153caaae511ea5&q=canakkale&units=imperial\n"
     ]
    },
    {
     "name": "stderr",
     "output_type": "stream",
     "text": [
      " 84% (627 of 738) |##################    | Elapsed Time: 0:02:16 ETA:   0:00:25"
     ]
    },
    {
     "name": "stdout",
     "output_type": "stream",
     "text": [
      "http://api.openweathermap.org/data/2.5/weather?appid=03b66fb88de8694398153caaae511ea5&q=grand centre&units=imperial\n",
      "http://api.openweathermap.org/data/2.5/weather?appid=03b66fb88de8694398153caaae511ea5&q=tuy hoa&units=imperial\n"
     ]
    },
    {
     "name": "stderr",
     "output_type": "stream",
     "text": [
      " 85% (629 of 738) |##################    | Elapsed Time: 0:02:16 ETA:   0:00:25"
     ]
    },
    {
     "name": "stdout",
     "output_type": "stream",
     "text": [
      "http://api.openweathermap.org/data/2.5/weather?appid=03b66fb88de8694398153caaae511ea5&q=rungata&units=imperial\n",
      "http://api.openweathermap.org/data/2.5/weather?appid=03b66fb88de8694398153caaae511ea5&q=mayskiy&units=imperial\n"
     ]
    },
    {
     "name": "stderr",
     "output_type": "stream",
     "text": [
      "\r",
      "                                                                               \r",
      "\r",
      " 85% (630 of 738) |##################    | Elapsed Time: 0:02:16 ETA:   0:00:25"
     ]
    },
    {
     "name": "stdout",
     "output_type": "stream",
     "text": [
      "http://api.openweathermap.org/data/2.5/weather?appid=03b66fb88de8694398153caaae511ea5&q=sangar&units=imperial\n"
     ]
    },
    {
     "name": "stderr",
     "output_type": "stream",
     "text": [
      " 85% (632 of 738) |##################    | Elapsed Time: 0:02:17 ETA:   0:00:23"
     ]
    },
    {
     "name": "stdout",
     "output_type": "stream",
     "text": [
      "http://api.openweathermap.org/data/2.5/weather?appid=03b66fb88de8694398153caaae511ea5&q=jamestown&units=imperial\n",
      "http://api.openweathermap.org/data/2.5/weather?appid=03b66fb88de8694398153caaae511ea5&q=nigde&units=imperial\n"
     ]
    },
    {
     "name": "stderr",
     "output_type": "stream",
     "text": [
      " 85% (634 of 738) |##################    | Elapsed Time: 0:02:17 ETA:   0:00:22"
     ]
    },
    {
     "name": "stdout",
     "output_type": "stream",
     "text": [
      "http://api.openweathermap.org/data/2.5/weather?appid=03b66fb88de8694398153caaae511ea5&q=qui nhon&units=imperial\n",
      "http://api.openweathermap.org/data/2.5/weather?appid=03b66fb88de8694398153caaae511ea5&q=limon&units=imperial\n"
     ]
    },
    {
     "name": "stderr",
     "output_type": "stream",
     "text": [
      "\r",
      "                                                                               \r",
      "\r",
      " 86% (635 of 738) |##################    | Elapsed Time: 0:02:17 ETA:   0:00:23"
     ]
    },
    {
     "name": "stdout",
     "output_type": "stream",
     "text": [
      "http://api.openweathermap.org/data/2.5/weather?appid=03b66fb88de8694398153caaae511ea5&q=harstad&units=imperial\n"
     ]
    },
    {
     "name": "stderr",
     "output_type": "stream",
     "text": [
      "\r",
      "                                                                               \r",
      "\r",
      " 86% (636 of 738) |##################    | Elapsed Time: 0:02:18 ETA:   0:00:24"
     ]
    },
    {
     "name": "stdout",
     "output_type": "stream",
     "text": [
      "http://api.openweathermap.org/data/2.5/weather?appid=03b66fb88de8694398153caaae511ea5&q=dhidhdhoo&units=imperial\n"
     ]
    },
    {
     "name": "stderr",
     "output_type": "stream",
     "text": [
      " 86% (638 of 738) |###################   | Elapsed Time: 0:02:18 ETA:   0:00:24"
     ]
    },
    {
     "name": "stdout",
     "output_type": "stream",
     "text": [
      "http://api.openweathermap.org/data/2.5/weather?appid=03b66fb88de8694398153caaae511ea5&q=campbell river&units=imperial\n",
      "http://api.openweathermap.org/data/2.5/weather?appid=03b66fb88de8694398153caaae511ea5&q=beringovskiy&units=imperial\n"
     ]
    },
    {
     "name": "stderr",
     "output_type": "stream",
     "text": [
      "\r",
      "                                                                               \r",
      "\r",
      " 86% (639 of 738) |###################   | Elapsed Time: 0:02:18 ETA:   0:00:23"
     ]
    },
    {
     "name": "stdout",
     "output_type": "stream",
     "text": [
      "http://api.openweathermap.org/data/2.5/weather?appid=03b66fb88de8694398153caaae511ea5&q=umba&units=imperial\n"
     ]
    },
    {
     "name": "stderr",
     "output_type": "stream",
     "text": [
      "\r",
      "                                                                               \r",
      "\r",
      " 86% (640 of 738) |###################   | Elapsed Time: 0:02:19 ETA:   0:00:22"
     ]
    },
    {
     "name": "stdout",
     "output_type": "stream",
     "text": [
      "http://api.openweathermap.org/data/2.5/weather?appid=03b66fb88de8694398153caaae511ea5&q=helong&units=imperial\n"
     ]
    },
    {
     "name": "stderr",
     "output_type": "stream",
     "text": [
      " 86% (642 of 738) |###################   | Elapsed Time: 0:02:19 ETA:   0:00:22"
     ]
    },
    {
     "name": "stdout",
     "output_type": "stream",
     "text": [
      "http://api.openweathermap.org/data/2.5/weather?appid=03b66fb88de8694398153caaae511ea5&q=kodiak&units=imperial\n",
      "http://api.openweathermap.org/data/2.5/weather?appid=03b66fb88de8694398153caaae511ea5&q=arman&units=imperial\n"
     ]
    },
    {
     "name": "stderr",
     "output_type": "stream",
     "text": [
      " 87% (644 of 738) |###################   | Elapsed Time: 0:02:20 ETA:   0:00:22"
     ]
    },
    {
     "name": "stdout",
     "output_type": "stream",
     "text": [
      "http://api.openweathermap.org/data/2.5/weather?appid=03b66fb88de8694398153caaae511ea5&q=alexandria&units=imperial\n"
     ]
    },
    {
     "name": "stderr",
     "output_type": "stream",
     "text": [
      "\r",
      "                                                                               \r",
      "\r",
      " 87% (645 of 738) |###################   | Elapsed Time: 0:02:20 ETA:   0:00:21"
     ]
    },
    {
     "name": "stdout",
     "output_type": "stream",
     "text": [
      "http://api.openweathermap.org/data/2.5/weather?appid=03b66fb88de8694398153caaae511ea5&q=sentyabrskiy&units=imperial\n",
      "http://api.openweathermap.org/data/2.5/weather?appid=03b66fb88de8694398153caaae511ea5&q=bilibino&units=imperial\n"
     ]
    },
    {
     "name": "stderr",
     "output_type": "stream",
     "text": [
      "\r",
      "                                                                               \r",
      "\r",
      " 87% (646 of 738) |###################   | Elapsed Time: 0:02:20 ETA:   0:00:21"
     ]
    },
    {
     "name": "stdout",
     "output_type": "stream",
     "text": [
      "http://api.openweathermap.org/data/2.5/weather?appid=03b66fb88de8694398153caaae511ea5&q=kitgum&units=imperial\n"
     ]
    },
    {
     "name": "stderr",
     "output_type": "stream",
     "text": [
      " 87% (648 of 738) |###################   | Elapsed Time: 0:02:20 ETA:   0:00:20"
     ]
    },
    {
     "name": "stdout",
     "output_type": "stream",
     "text": [
      "http://api.openweathermap.org/data/2.5/weather?appid=03b66fb88de8694398153caaae511ea5&q=khatanga&units=imperial\n",
      "http://api.openweathermap.org/data/2.5/weather?appid=03b66fb88de8694398153caaae511ea5&q=solsvik&units=imperial\n"
     ]
    },
    {
     "name": "stderr",
     "output_type": "stream",
     "text": [
      "\r",
      "                                                                               \r",
      "\r",
      " 87% (649 of 738) |###################   | Elapsed Time: 0:02:21 ETA:   0:00:20"
     ]
    },
    {
     "name": "stdout",
     "output_type": "stream",
     "text": [
      "http://api.openweathermap.org/data/2.5/weather?appid=03b66fb88de8694398153caaae511ea5&q=myre&units=imperial\n"
     ]
    },
    {
     "name": "stderr",
     "output_type": "stream",
     "text": [
      " 88% (651 of 738) |###################   | Elapsed Time: 0:02:21 ETA:   0:00:19"
     ]
    },
    {
     "name": "stdout",
     "output_type": "stream",
     "text": [
      "http://api.openweathermap.org/data/2.5/weather?appid=03b66fb88de8694398153caaae511ea5&q=labuhan&units=imperial\n",
      "http://api.openweathermap.org/data/2.5/weather?appid=03b66fb88de8694398153caaae511ea5&q=kurush&units=imperial\n"
     ]
    },
    {
     "name": "stderr",
     "output_type": "stream",
     "text": [
      " 88% (653 of 738) |###################   | Elapsed Time: 0:02:22 ETA:   0:00:18"
     ]
    },
    {
     "name": "stdout",
     "output_type": "stream",
     "text": [
      "http://api.openweathermap.org/data/2.5/weather?appid=03b66fb88de8694398153caaae511ea5&q=burnie&units=imperial\n",
      "http://api.openweathermap.org/data/2.5/weather?appid=03b66fb88de8694398153caaae511ea5&q=bengkulu&units=imperial\n"
     ]
    },
    {
     "name": "stderr",
     "output_type": "stream",
     "text": [
      "\r",
      "                                                                               \r",
      "\r",
      " 88% (654 of 738) |###################   | Elapsed Time: 0:02:22 ETA:   0:00:17"
     ]
    },
    {
     "name": "stdout",
     "output_type": "stream",
     "text": [
      "http://api.openweathermap.org/data/2.5/weather?appid=03b66fb88de8694398153caaae511ea5&q=moussoro&units=imperial\n"
     ]
    },
    {
     "name": "stderr",
     "output_type": "stream",
     "text": [
      "\r",
      "                                                                               \r",
      "\r",
      " 88% (655 of 738) |###################   | Elapsed Time: 0:02:22 ETA:   0:00:20"
     ]
    },
    {
     "name": "stdout",
     "output_type": "stream",
     "text": [
      "http://api.openweathermap.org/data/2.5/weather?appid=03b66fb88de8694398153caaae511ea5&q=folldal&units=imperial\n"
     ]
    },
    {
     "name": "stderr",
     "output_type": "stream",
     "text": [
      " 89% (657 of 738) |###################   | Elapsed Time: 0:02:23 ETA:   0:00:19"
     ]
    },
    {
     "name": "stdout",
     "output_type": "stream",
     "text": [
      "http://api.openweathermap.org/data/2.5/weather?appid=03b66fb88de8694398153caaae511ea5&q=do rud&units=imperial\n",
      "http://api.openweathermap.org/data/2.5/weather?appid=03b66fb88de8694398153caaae511ea5&q=wenzhou&units=imperial\n"
     ]
    },
    {
     "name": "stderr",
     "output_type": "stream",
     "text": [
      "\r",
      "                                                                               \r",
      "\r",
      " 89% (658 of 738) |###################   | Elapsed Time: 0:02:23 ETA:   0:00:18"
     ]
    },
    {
     "name": "stdout",
     "output_type": "stream",
     "text": [
      "http://api.openweathermap.org/data/2.5/weather?appid=03b66fb88de8694398153caaae511ea5&q=shaunavon&units=imperial\n"
     ]
    },
    {
     "name": "stderr",
     "output_type": "stream",
     "text": [
      "\r",
      "                                                                               \r",
      "\r",
      " 89% (659 of 738) |###################   | Elapsed Time: 0:02:23 ETA:   0:00:18"
     ]
    },
    {
     "name": "stdout",
     "output_type": "stream",
     "text": [
      "http://api.openweathermap.org/data/2.5/weather?appid=03b66fb88de8694398153caaae511ea5&q=colac&units=imperial\n"
     ]
    },
    {
     "name": "stderr",
     "output_type": "stream",
     "text": [
      " 89% (661 of 738) |###################   | Elapsed Time: 0:02:23 ETA:   0:00:17"
     ]
    },
    {
     "name": "stdout",
     "output_type": "stream",
     "text": [
      "http://api.openweathermap.org/data/2.5/weather?appid=03b66fb88de8694398153caaae511ea5&q=cayenne&units=imperial\n",
      "http://api.openweathermap.org/data/2.5/weather?appid=03b66fb88de8694398153caaae511ea5&q=kailua&units=imperial\n"
     ]
    },
    {
     "name": "stderr",
     "output_type": "stream",
     "text": [
      "\r",
      "                                                                               \r",
      "\r",
      " 89% (662 of 738) |###################   | Elapsed Time: 0:02:24 ETA:   0:00:19"
     ]
    },
    {
     "name": "stdout",
     "output_type": "stream",
     "text": [
      "http://api.openweathermap.org/data/2.5/weather?appid=03b66fb88de8694398153caaae511ea5&q=akropong&units=imperial\n"
     ]
    },
    {
     "name": "stderr",
     "output_type": "stream",
     "text": [
      " 89% (664 of 738) |###################   | Elapsed Time: 0:02:24 ETA:   0:00:17"
     ]
    },
    {
     "name": "stdout",
     "output_type": "stream",
     "text": [
      "http://api.openweathermap.org/data/2.5/weather?appid=03b66fb88de8694398153caaae511ea5&q=faya&units=imperial\n",
      "http://api.openweathermap.org/data/2.5/weather?appid=03b66fb88de8694398153caaae511ea5&q=sarangani&units=imperial\n"
     ]
    },
    {
     "name": "stderr",
     "output_type": "stream",
     "text": [
      "\r",
      "                                                                               \r",
      "\r",
      " 90% (665 of 738) |###################   | Elapsed Time: 0:02:24 ETA:   0:00:15"
     ]
    },
    {
     "name": "stdout",
     "output_type": "stream",
     "text": [
      "http://api.openweathermap.org/data/2.5/weather?appid=03b66fb88de8694398153caaae511ea5&q=coahuayana&units=imperial\n"
     ]
    },
    {
     "name": "stderr",
     "output_type": "stream",
     "text": [
      "\r",
      "                                                                               \r",
      "\r",
      " 90% (666 of 738) |###################   | Elapsed Time: 0:02:25 ETA:   0:00:16"
     ]
    },
    {
     "name": "stdout",
     "output_type": "stream",
     "text": [
      "http://api.openweathermap.org/data/2.5/weather?appid=03b66fb88de8694398153caaae511ea5&q=magadan&units=imperial\n"
     ]
    },
    {
     "name": "stderr",
     "output_type": "stream",
     "text": [
      "\r",
      "                                                                               \r",
      "\r",
      " 90% (667 of 738) |###################   | Elapsed Time: 0:02:25 ETA:   0:00:16"
     ]
    },
    {
     "name": "stdout",
     "output_type": "stream",
     "text": [
      "http://api.openweathermap.org/data/2.5/weather?appid=03b66fb88de8694398153caaae511ea5&q=northam&units=imperial\n"
     ]
    },
    {
     "name": "stderr",
     "output_type": "stream",
     "text": [
      "\r",
      "                                                                               \r",
      "\r",
      " 90% (668 of 738) |###################   | Elapsed Time: 0:02:28 ETA:   0:03:40"
     ]
    },
    {
     "name": "stdout",
     "output_type": "stream",
     "text": [
      "http://api.openweathermap.org/data/2.5/weather?appid=03b66fb88de8694398153caaae511ea5&q=rzhaksa&units=imperial\n"
     ]
    },
    {
     "name": "stderr",
     "output_type": "stream",
     "text": [
      " 90% (670 of 738) |###################   | Elapsed Time: 0:02:28 ETA:   0:01:20"
     ]
    },
    {
     "name": "stdout",
     "output_type": "stream",
     "text": [
      "http://api.openweathermap.org/data/2.5/weather?appid=03b66fb88de8694398153caaae511ea5&q=faanui&units=imperial\n",
      "http://api.openweathermap.org/data/2.5/weather?appid=03b66fb88de8694398153caaae511ea5&q=bud&units=imperial\n"
     ]
    },
    {
     "name": "stderr",
     "output_type": "stream",
     "text": [
      " 91% (672 of 738) |####################  | Elapsed Time: 0:02:29 ETA:   0:00:52"
     ]
    },
    {
     "name": "stdout",
     "output_type": "stream",
     "text": [
      "http://api.openweathermap.org/data/2.5/weather?appid=03b66fb88de8694398153caaae511ea5&q=inhambane&units=imperial\n",
      "http://api.openweathermap.org/data/2.5/weather?appid=03b66fb88de8694398153caaae511ea5&q=norman wells&units=imperial\n"
     ]
    },
    {
     "name": "stderr",
     "output_type": "stream",
     "text": [
      " 91% (674 of 738) |####################  | Elapsed Time: 0:02:29 ETA:   0:00:38"
     ]
    },
    {
     "name": "stdout",
     "output_type": "stream",
     "text": [
      "http://api.openweathermap.org/data/2.5/weather?appid=03b66fb88de8694398153caaae511ea5&q=saskylakh&units=imperial\n",
      "http://api.openweathermap.org/data/2.5/weather?appid=03b66fb88de8694398153caaae511ea5&q=mys shmidta&units=imperial\n"
     ]
    },
    {
     "name": "stderr",
     "output_type": "stream",
     "text": [
      "\r",
      "                                                                               \r",
      "\r",
      " 91% (675 of 738) |####################  | Elapsed Time: 0:02:29 ETA:   0:00:34"
     ]
    },
    {
     "name": "stdout",
     "output_type": "stream",
     "text": [
      "http://api.openweathermap.org/data/2.5/weather?appid=03b66fb88de8694398153caaae511ea5&q=bitung&units=imperial\n"
     ]
    },
    {
     "name": "stderr",
     "output_type": "stream",
     "text": [
      " 91% (677 of 738) |####################  | Elapsed Time: 0:02:30 ETA:   0:00:29"
     ]
    },
    {
     "name": "stdout",
     "output_type": "stream",
     "text": [
      "http://api.openweathermap.org/data/2.5/weather?appid=03b66fb88de8694398153caaae511ea5&q=bairiki&units=imperial\n",
      "http://api.openweathermap.org/data/2.5/weather?appid=03b66fb88de8694398153caaae511ea5&q=kermanshah&units=imperial\n"
     ]
    },
    {
     "name": "stderr",
     "output_type": "stream",
     "text": [
      " 92% (679 of 738) |####################  | Elapsed Time: 0:02:30 ETA:   0:00:11"
     ]
    },
    {
     "name": "stdout",
     "output_type": "stream",
     "text": [
      "http://api.openweathermap.org/data/2.5/weather?appid=03b66fb88de8694398153caaae511ea5&q=saldanha&units=imperial\n",
      "http://api.openweathermap.org/data/2.5/weather?appid=03b66fb88de8694398153caaae511ea5&q=guatire&units=imperial\n"
     ]
    },
    {
     "name": "stderr",
     "output_type": "stream",
     "text": [
      " 92% (681 of 738) |####################  | Elapsed Time: 0:02:30 ETA:   0:00:10"
     ]
    },
    {
     "name": "stdout",
     "output_type": "stream",
     "text": [
      "http://api.openweathermap.org/data/2.5/weather?appid=03b66fb88de8694398153caaae511ea5&q=mogok&units=imperial\n",
      "http://api.openweathermap.org/data/2.5/weather?appid=03b66fb88de8694398153caaae511ea5&q=waingapu&units=imperial\n"
     ]
    },
    {
     "name": "stderr",
     "output_type": "stream",
     "text": [
      "\r",
      "                                                                               \r",
      "\r",
      " 92% (682 of 738) |####################  | Elapsed Time: 0:02:31 ETA:   0:00:10"
     ]
    },
    {
     "name": "stdout",
     "output_type": "stream",
     "text": [
      "http://api.openweathermap.org/data/2.5/weather?appid=03b66fb88de8694398153caaae511ea5&q=angol&units=imperial\n"
     ]
    },
    {
     "name": "stderr",
     "output_type": "stream",
     "text": [
      " 92% (684 of 738) |####################  | Elapsed Time: 0:02:31 ETA:   0:00:10"
     ]
    },
    {
     "name": "stdout",
     "output_type": "stream",
     "text": [
      "http://api.openweathermap.org/data/2.5/weather?appid=03b66fb88de8694398153caaae511ea5&q=half moon bay&units=imperial\n",
      "http://api.openweathermap.org/data/2.5/weather?appid=03b66fb88de8694398153caaae511ea5&q=canaries&units=imperial\n"
     ]
    },
    {
     "name": "stderr",
     "output_type": "stream",
     "text": [
      " 92% (686 of 738) |####################  | Elapsed Time: 0:02:31 ETA:   0:00:10"
     ]
    },
    {
     "name": "stdout",
     "output_type": "stream",
     "text": [
      "http://api.openweathermap.org/data/2.5/weather?appid=03b66fb88de8694398153caaae511ea5&q=asau&units=imperial\n",
      "http://api.openweathermap.org/data/2.5/weather?appid=03b66fb88de8694398153caaae511ea5&q=butler&units=imperial\n"
     ]
    },
    {
     "name": "stderr",
     "output_type": "stream",
     "text": [
      " 93% (688 of 738) |####################  | Elapsed Time: 0:02:32 ETA:   0:00:09"
     ]
    },
    {
     "name": "stdout",
     "output_type": "stream",
     "text": [
      "http://api.openweathermap.org/data/2.5/weather?appid=03b66fb88de8694398153caaae511ea5&q=lerwick&units=imperial\n",
      "http://api.openweathermap.org/data/2.5/weather?appid=03b66fb88de8694398153caaae511ea5&q=tual&units=imperial\n"
     ]
    },
    {
     "name": "stderr",
     "output_type": "stream",
     "text": [
      "\r",
      "                                                                               \r",
      "\r",
      " 93% (689 of 738) |####################  | Elapsed Time: 0:02:32 ETA:   0:00:09"
     ]
    },
    {
     "name": "stdout",
     "output_type": "stream",
     "text": [
      "http://api.openweathermap.org/data/2.5/weather?appid=03b66fb88de8694398153caaae511ea5&q=shirokiy&units=imperial\n"
     ]
    },
    {
     "name": "stderr",
     "output_type": "stream",
     "text": [
      " 93% (691 of 738) |####################  | Elapsed Time: 0:02:33 ETA:   0:00:09"
     ]
    },
    {
     "name": "stdout",
     "output_type": "stream",
     "text": [
      "http://api.openweathermap.org/data/2.5/weather?appid=03b66fb88de8694398153caaae511ea5&q=rikitea&units=imperial\n",
      "http://api.openweathermap.org/data/2.5/weather?appid=03b66fb88de8694398153caaae511ea5&q=opuwo&units=imperial\n"
     ]
    },
    {
     "name": "stderr",
     "output_type": "stream",
     "text": [
      "\r",
      "                                                                               \r",
      "\r",
      " 93% (692 of 738) |####################  | Elapsed Time: 0:02:33 ETA:   0:00:09"
     ]
    },
    {
     "name": "stdout",
     "output_type": "stream",
     "text": [
      "http://api.openweathermap.org/data/2.5/weather?appid=03b66fb88de8694398153caaae511ea5&q=den helder&units=imperial\n"
     ]
    },
    {
     "name": "stderr",
     "output_type": "stream",
     "text": [
      " 94% (694 of 738) |####################  | Elapsed Time: 0:02:33 ETA:   0:00:08"
     ]
    },
    {
     "name": "stdout",
     "output_type": "stream",
     "text": [
      "http://api.openweathermap.org/data/2.5/weather?appid=03b66fb88de8694398153caaae511ea5&q=ostrovnoy&units=imperial\n",
      "http://api.openweathermap.org/data/2.5/weather?appid=03b66fb88de8694398153caaae511ea5&q=nizhneyansk&units=imperial\n"
     ]
    },
    {
     "name": "stderr",
     "output_type": "stream",
     "text": [
      " 94% (696 of 738) |####################  | Elapsed Time: 0:02:34 ETA:   0:00:08"
     ]
    },
    {
     "name": "stdout",
     "output_type": "stream",
     "text": [
      "http://api.openweathermap.org/data/2.5/weather?appid=03b66fb88de8694398153caaae511ea5&q=saint george&units=imperial\n",
      "http://api.openweathermap.org/data/2.5/weather?appid=03b66fb88de8694398153caaae511ea5&q=alyangula&units=imperial\n"
     ]
    },
    {
     "name": "stderr",
     "output_type": "stream",
     "text": [
      " 94% (698 of 738) |####################  | Elapsed Time: 0:02:34 ETA:   0:00:08"
     ]
    },
    {
     "name": "stdout",
     "output_type": "stream",
     "text": [
      "http://api.openweathermap.org/data/2.5/weather?appid=03b66fb88de8694398153caaae511ea5&q=mahebourg&units=imperial\n",
      "http://api.openweathermap.org/data/2.5/weather?appid=03b66fb88de8694398153caaae511ea5&q=havelock&units=imperial\n"
     ]
    },
    {
     "name": "stderr",
     "output_type": "stream",
     "text": [
      "\r",
      "                                                                               \r",
      "\r",
      " 94% (699 of 738) |####################  | Elapsed Time: 0:02:34 ETA:   0:00:07"
     ]
    },
    {
     "name": "stdout",
     "output_type": "stream",
     "text": [
      "http://api.openweathermap.org/data/2.5/weather?appid=03b66fb88de8694398153caaae511ea5&q=asyut&units=imperial\n"
     ]
    },
    {
     "name": "stderr",
     "output_type": "stream",
     "text": [
      " 94% (701 of 738) |####################  | Elapsed Time: 0:02:34 ETA:   0:00:07"
     ]
    },
    {
     "name": "stdout",
     "output_type": "stream",
     "text": [
      "http://api.openweathermap.org/data/2.5/weather?appid=03b66fb88de8694398153caaae511ea5&q=sistranda&units=imperial\n",
      "http://api.openweathermap.org/data/2.5/weather?appid=03b66fb88de8694398153caaae511ea5&q=san policarpo&units=imperial\n"
     ]
    },
    {
     "name": "stderr",
     "output_type": "stream",
     "text": [
      "\r",
      "                                                                               \r",
      "\r",
      " 95% (702 of 738) |####################  | Elapsed Time: 0:02:35 ETA:   0:00:07"
     ]
    },
    {
     "name": "stdout",
     "output_type": "stream",
     "text": [
      "http://api.openweathermap.org/data/2.5/weather?appid=03b66fb88de8694398153caaae511ea5&q=baraki barak&units=imperial\n"
     ]
    },
    {
     "name": "stderr",
     "output_type": "stream",
     "text": [
      "\r",
      "                                                                               \r",
      "\r",
      " 95% (703 of 738) |####################  | Elapsed Time: 0:02:35 ETA:   0:00:06"
     ]
    },
    {
     "name": "stdout",
     "output_type": "stream",
     "text": [
      "http://api.openweathermap.org/data/2.5/weather?appid=03b66fb88de8694398153caaae511ea5&q=linqing&units=imperial\n"
     ]
    },
    {
     "name": "stderr",
     "output_type": "stream",
     "text": [
      "\r",
      "                                                                               \r",
      "\r",
      " 95% (704 of 738) |####################  | Elapsed Time: 0:02:35 ETA:   0:00:06"
     ]
    },
    {
     "name": "stdout",
     "output_type": "stream",
     "text": [
      "http://api.openweathermap.org/data/2.5/weather?appid=03b66fb88de8694398153caaae511ea5&q=meadow lake&units=imperial\n"
     ]
    },
    {
     "name": "stderr",
     "output_type": "stream",
     "text": [
      "\r",
      "                                                                               \r",
      "\r",
      " 95% (705 of 738) |##################### | Elapsed Time: 0:02:35 ETA:   0:00:06"
     ]
    },
    {
     "name": "stdout",
     "output_type": "stream",
     "text": [
      "http://api.openweathermap.org/data/2.5/weather?appid=03b66fb88de8694398153caaae511ea5&q=yima&units=imperial\n"
     ]
    },
    {
     "name": "stderr",
     "output_type": "stream",
     "text": [
      "\r",
      "                                                                               \r",
      "\r",
      " 95% (706 of 738) |##################### | Elapsed Time: 0:02:36 ETA:   0:00:07"
     ]
    },
    {
     "name": "stdout",
     "output_type": "stream",
     "text": [
      "http://api.openweathermap.org/data/2.5/weather?appid=03b66fb88de8694398153caaae511ea5&q=laguna&units=imperial\n"
     ]
    },
    {
     "name": "stderr",
     "output_type": "stream",
     "text": [
      " 95% (708 of 738) |##################### | Elapsed Time: 0:02:36 ETA:   0:00:07"
     ]
    },
    {
     "name": "stdout",
     "output_type": "stream",
     "text": [
      "http://api.openweathermap.org/data/2.5/weather?appid=03b66fb88de8694398153caaae511ea5&q=salalah&units=imperial\n",
      "http://api.openweathermap.org/data/2.5/weather?appid=03b66fb88de8694398153caaae511ea5&q=russell&units=imperial\n"
     ]
    },
    {
     "name": "stderr",
     "output_type": "stream",
     "text": [
      " 96% (710 of 738) |##################### | Elapsed Time: 0:02:37 ETA:   0:00:07"
     ]
    },
    {
     "name": "stdout",
     "output_type": "stream",
     "text": [
      "http://api.openweathermap.org/data/2.5/weather?appid=03b66fb88de8694398153caaae511ea5&q=tawkar&units=imperial\n",
      "http://api.openweathermap.org/data/2.5/weather?appid=03b66fb88de8694398153caaae511ea5&q=amga&units=imperial\n"
     ]
    },
    {
     "name": "stderr",
     "output_type": "stream",
     "text": [
      "\r",
      "                                                                               \r",
      "\r",
      " 96% (711 of 738) |##################### | Elapsed Time: 0:02:37 ETA:   0:00:06"
     ]
    },
    {
     "name": "stdout",
     "output_type": "stream",
     "text": [
      "http://api.openweathermap.org/data/2.5/weather?appid=03b66fb88de8694398153caaae511ea5&q=qaracala&units=imperial\n"
     ]
    },
    {
     "name": "stderr",
     "output_type": "stream",
     "text": [
      " 96% (713 of 738) |##################### | Elapsed Time: 0:02:37 ETA:   0:00:06"
     ]
    },
    {
     "name": "stdout",
     "output_type": "stream",
     "text": [
      "http://api.openweathermap.org/data/2.5/weather?appid=03b66fb88de8694398153caaae511ea5&q=cabinda&units=imperial\n",
      "http://api.openweathermap.org/data/2.5/weather?appid=03b66fb88de8694398153caaae511ea5&q=musenita&units=imperial\n"
     ]
    },
    {
     "name": "stderr",
     "output_type": "stream",
     "text": [
      " 96% (715 of 738) |##################### | Elapsed Time: 0:02:38 ETA:   0:00:05"
     ]
    },
    {
     "name": "stdout",
     "output_type": "stream",
     "text": [
      "http://api.openweathermap.org/data/2.5/weather?appid=03b66fb88de8694398153caaae511ea5&q=nabire&units=imperial\n",
      "http://api.openweathermap.org/data/2.5/weather?appid=03b66fb88de8694398153caaae511ea5&q=ambilobe&units=imperial\n"
     ]
    },
    {
     "name": "stderr",
     "output_type": "stream",
     "text": [
      " 97% (717 of 738) |##################### | Elapsed Time: 0:02:38 ETA:   0:00:04"
     ]
    },
    {
     "name": "stdout",
     "output_type": "stream",
     "text": [
      "http://api.openweathermap.org/data/2.5/weather?appid=03b66fb88de8694398153caaae511ea5&q=tessalit&units=imperial\n",
      "http://api.openweathermap.org/data/2.5/weather?appid=03b66fb88de8694398153caaae511ea5&q=narsaq&units=imperial\n"
     ]
    },
    {
     "name": "stderr",
     "output_type": "stream",
     "text": [
      " 97% (719 of 738) |##################### | Elapsed Time: 0:02:38 ETA:   0:00:04"
     ]
    },
    {
     "name": "stdout",
     "output_type": "stream",
     "text": [
      "http://api.openweathermap.org/data/2.5/weather?appid=03b66fb88de8694398153caaae511ea5&q=marv dasht&units=imperial\n",
      "http://api.openweathermap.org/data/2.5/weather?appid=03b66fb88de8694398153caaae511ea5&q=husavik&units=imperial\n"
     ]
    },
    {
     "name": "stderr",
     "output_type": "stream",
     "text": [
      " 97% (721 of 738) |##################### | Elapsed Time: 0:02:39 ETA:   0:00:03"
     ]
    },
    {
     "name": "stdout",
     "output_type": "stream",
     "text": [
      "http://api.openweathermap.org/data/2.5/weather?appid=03b66fb88de8694398153caaae511ea5&q=taoudenni&units=imperial\n",
      "http://api.openweathermap.org/data/2.5/weather?appid=03b66fb88de8694398153caaae511ea5&q=yambio&units=imperial\n"
     ]
    },
    {
     "name": "stderr",
     "output_type": "stream",
     "text": [
      " 97% (723 of 738) |##################### | Elapsed Time: 0:02:39 ETA:   0:00:02"
     ]
    },
    {
     "name": "stdout",
     "output_type": "stream",
     "text": [
      "http://api.openweathermap.org/data/2.5/weather?appid=03b66fb88de8694398153caaae511ea5&q=shakawe&units=imperial\n",
      "http://api.openweathermap.org/data/2.5/weather?appid=03b66fb88de8694398153caaae511ea5&q=plettenberg bay&units=imperial\n"
     ]
    },
    {
     "name": "stderr",
     "output_type": "stream",
     "text": [
      "\r",
      "                                                                               \r",
      "\r",
      " 98% (724 of 738) |##################### | Elapsed Time: 0:02:39 ETA:   0:00:02"
     ]
    },
    {
     "name": "stdout",
     "output_type": "stream",
     "text": [
      "http://api.openweathermap.org/data/2.5/weather?appid=03b66fb88de8694398153caaae511ea5&q=wagar&units=imperial\n"
     ]
    },
    {
     "name": "stderr",
     "output_type": "stream",
     "text": [
      "\r",
      "                                                                               \r",
      "\r",
      " 98% (725 of 738) |##################### | Elapsed Time: 0:02:39 ETA:   0:00:02"
     ]
    },
    {
     "name": "stdout",
     "output_type": "stream",
     "text": [
      "http://api.openweathermap.org/data/2.5/weather?appid=03b66fb88de8694398153caaae511ea5&q=manali&units=imperial\n"
     ]
    },
    {
     "name": "stderr",
     "output_type": "stream",
     "text": [
      "\r",
      "                                                                               \r",
      "\r",
      " 98% (726 of 738) |##################### | Elapsed Time: 0:02:40 ETA:   0:00:02"
     ]
    },
    {
     "name": "stdout",
     "output_type": "stream",
     "text": [
      "http://api.openweathermap.org/data/2.5/weather?appid=03b66fb88de8694398153caaae511ea5&q=lisiy nos&units=imperial\n"
     ]
    },
    {
     "name": "stderr",
     "output_type": "stream",
     "text": [
      " 98% (728 of 738) |##################### | Elapsed Time: 0:02:40 ETA:   0:00:01"
     ]
    },
    {
     "name": "stdout",
     "output_type": "stream",
     "text": [
      "http://api.openweathermap.org/data/2.5/weather?appid=03b66fb88de8694398153caaae511ea5&q=hamilton&units=imperial\n",
      "http://api.openweathermap.org/data/2.5/weather?appid=03b66fb88de8694398153caaae511ea5&q=college&units=imperial\n"
     ]
    },
    {
     "name": "stderr",
     "output_type": "stream",
     "text": [
      "\r",
      "                                                                               \r",
      "\r",
      " 98% (729 of 738) |##################### | Elapsed Time: 0:02:40 ETA:   0:00:01"
     ]
    },
    {
     "name": "stdout",
     "output_type": "stream",
     "text": [
      "http://api.openweathermap.org/data/2.5/weather?appid=03b66fb88de8694398153caaae511ea5&q=kalianget&units=imperial\n"
     ]
    },
    {
     "name": "stderr",
     "output_type": "stream",
     "text": [
      "\r",
      "                                                                               \r",
      "\r",
      " 98% (730 of 738) |##################### | Elapsed Time: 0:02:41 ETA:   0:00:01"
     ]
    },
    {
     "name": "stdout",
     "output_type": "stream",
     "text": [
      "http://api.openweathermap.org/data/2.5/weather?appid=03b66fb88de8694398153caaae511ea5&q=tigil&units=imperial\n"
     ]
    },
    {
     "name": "stderr",
     "output_type": "stream",
     "text": [
      "\r",
      "                                                                               \r",
      "\r",
      " 99% (731 of 738) |##################### | Elapsed Time: 0:02:41 ETA:   0:00:01"
     ]
    },
    {
     "name": "stdout",
     "output_type": "stream",
     "text": [
      "http://api.openweathermap.org/data/2.5/weather?appid=03b66fb88de8694398153caaae511ea5&q=santa vitoria do palmar&units=imperial\n"
     ]
    },
    {
     "name": "stderr",
     "output_type": "stream",
     "text": [
      " 99% (733 of 738) |##################### | Elapsed Time: 0:02:41 ETA:   0:00:01"
     ]
    },
    {
     "name": "stdout",
     "output_type": "stream",
     "text": [
      "http://api.openweathermap.org/data/2.5/weather?appid=03b66fb88de8694398153caaae511ea5&q=mehamn&units=imperial\n",
      "http://api.openweathermap.org/data/2.5/weather?appid=03b66fb88de8694398153caaae511ea5&q=neiafu&units=imperial\n"
     ]
    },
    {
     "name": "stderr",
     "output_type": "stream",
     "text": [
      " 99% (735 of 738) |##################### | Elapsed Time: 0:02:41 ETA:   0:00:00"
     ]
    },
    {
     "name": "stdout",
     "output_type": "stream",
     "text": [
      "http://api.openweathermap.org/data/2.5/weather?appid=03b66fb88de8694398153caaae511ea5&q=arlit&units=imperial\n",
      "http://api.openweathermap.org/data/2.5/weather?appid=03b66fb88de8694398153caaae511ea5&q=mutsamudu&units=imperial\n"
     ]
    },
    {
     "name": "stderr",
     "output_type": "stream",
     "text": [
      " 99% (737 of 738) |##################### | Elapsed Time: 0:02:42 ETA:   0:00:00"
     ]
    },
    {
     "name": "stdout",
     "output_type": "stream",
     "text": [
      "http://api.openweathermap.org/data/2.5/weather?appid=03b66fb88de8694398153caaae511ea5&q=umzimvubu&units=imperial\n",
      "http://api.openweathermap.org/data/2.5/weather?appid=03b66fb88de8694398153caaae511ea5&q=samusu&units=imperial\n"
     ]
    },
    {
     "name": "stderr",
     "output_type": "stream",
     "text": [
      "100% (738 of 738) |######################| Elapsed Time: 0:02:42 Time:  0:02:42\n"
     ]
    },
    {
     "name": "stdout",
     "output_type": "stream",
     "text": [
      "No data found for 84 cities\n"
     ]
    }
   ],
   "source": [
    "# set key\n",
    "open_weather_key = \"03b66fb88de8694398153caaae511ea5\"\n",
    "\n",
    "# initalize lists\n",
    "temps = []\n",
    "humidity = []\n",
    "clouds = []\n",
    "wind = []\n",
    "city_lat = []\n",
    "city_lng = []\n",
    "completed_cities = []\n",
    "\n",
    "# initalize progress bar\n",
    "bar = progressbar.ProgressBar()\n",
    "\n",
    "\n",
    "\n",
    "while(len(temps) < 500 or len(humidity) < 500 or len(clouds) < 500 or len(wind) < 500 or len(city_lat) < 500):\n",
    "    # set error count\n",
    "    count = 0\n",
    "    \n",
    "    # get city weather data\n",
    "    for j in bar(range(len(cities))):\n",
    "        # TODO: Include a print log of each city as it's being processed with the city number, city name, and requested URL.\n",
    "        time.sleep(0.02)\n",
    "        city = cities[j]\n",
    "        url = \"http://api.openweathermap.org/data/2.5/weather?\"\n",
    "        try:\n",
    "            # Build query URL\n",
    "            query_url = url + \"appid=\" + open_weather_key + \"&q=\" + city + '&units=imperial'\n",
    "            print(query_url)\n",
    "            test = req.get(query_url).json()\n",
    "            \n",
    "            temps.append(test['main']['temp'])\n",
    "            humidity.append(test['main']['humidity'])\n",
    "            clouds.append(test['clouds']['all'])\n",
    "            wind.append(test['wind']['speed'])\n",
    "            city_lat.append(test['coord']['lat'])\n",
    "            city_lng.append(test['coord']['lon'])\n",
    "            completed_cities.append(city)\n",
    "        except:\n",
    "            count += 1\n",
    "\n",
    "    print('No data found for ' + str(count) + ' cities')\n",
    "\n",
    "    if(len(temps) < 500 or len(humidity) < 500 or len(clouds) < 500 or len(wind) < 500 or len(city_lat) < 500):\n",
    "        print('Not enough data. Running script again.')"
   ]
  },
  {
   "cell_type": "code",
   "execution_count": null,
   "metadata": {},
   "outputs": [],
   "source": []
  },
  {
   "cell_type": "markdown",
   "metadata": {},
   "source": [
    "## Generate Cities List"
   ]
  },
  {
   "cell_type": "code",
   "execution_count": 24,
   "metadata": {},
   "outputs": [],
   "source": []
  },
  {
   "cell_type": "code",
   "execution_count": 11,
   "metadata": {},
   "outputs": [
    {
     "name": "stdout",
     "output_type": "stream",
     "text": [
      "{'coord': {'lon': 12.15, 'lat': -15.19}, 'weather': [{'id': 800, 'main': 'Clear', 'description': 'clear sky', 'icon': '01n'}], 'base': 'stations', 'main': {'temp': 63.95, 'pressure': 1025.71, 'humidity': 100, 'temp_min': 63.95, 'temp_max': 63.95, 'sea_level': 1029.62, 'grnd_level': 1025.71}, 'wind': {'speed': 3.74, 'deg': 199.51}, 'clouds': {'all': 0}, 'dt': 1534969979, 'sys': {'message': 0.0031, 'country': 'AO', 'sunrise': 1534915397, 'sunset': 1534957504}, 'id': 3347019, 'name': 'Namibe', 'cod': 200}\n"
     ]
    }
   ],
   "source": []
  },
  {
   "cell_type": "code",
   "execution_count": 12,
   "metadata": {},
   "outputs": [
    {
     "name": "stdout",
     "output_type": "stream",
     "text": [
      "{\n",
      "    \"base\": \"stations\",\n",
      "    \"clouds\": {\n",
      "        \"all\": 0\n",
      "    },\n",
      "    \"cod\": 200,\n",
      "    \"coord\": {\n",
      "        \"lat\": -15.19,\n",
      "        \"lon\": 12.15\n",
      "    },\n",
      "    \"dt\": 1534969979,\n",
      "    \"id\": 3347019,\n",
      "    \"main\": {\n",
      "        \"grnd_level\": 1025.71,\n",
      "        \"humidity\": 100,\n",
      "        \"pressure\": 1025.71,\n",
      "        \"sea_level\": 1029.62,\n",
      "        \"temp\": 63.95,\n",
      "        \"temp_max\": 63.95,\n",
      "        \"temp_min\": 63.95\n",
      "    },\n",
      "    \"name\": \"Namibe\",\n",
      "    \"sys\": {\n",
      "        \"country\": \"AO\",\n",
      "        \"message\": 0.0031,\n",
      "        \"sunrise\": 1534915397,\n",
      "        \"sunset\": 1534957504\n",
      "    },\n",
      "    \"weather\": [\n",
      "        {\n",
      "            \"description\": \"clear sky\",\n",
      "            \"icon\": \"01n\",\n",
      "            \"id\": 800,\n",
      "            \"main\": \"Clear\"\n",
      "        }\n",
      "    ],\n",
      "    \"wind\": {\n",
      "        \"deg\": 199.51,\n",
      "        \"speed\": 3.74\n",
      "    }\n",
      "}\n"
     ]
    }
   ],
   "source": []
  },
  {
   "cell_type": "markdown",
   "metadata": {},
   "source": [
    "## Perform API Calls"
   ]
  },
  {
   "cell_type": "code",
   "execution_count": 4,
   "metadata": {},
   "outputs": [
    {
     "data": {
      "text/plain": [
       "{'cod': '400', 'message': 'Nothing to geocode'}"
      ]
     },
     "execution_count": 4,
     "metadata": {},
     "output_type": "execute_result"
    }
   ],
   "source": []
  },
  {
   "cell_type": "code",
   "execution_count": null,
   "metadata": {},
   "outputs": [],
   "source": []
  }
 ],
 "metadata": {
  "anaconda-cloud": {},
  "kernelspec": {
   "display_name": "Python 3",
   "language": "python",
   "name": "python3"
  },
  "language_info": {
   "codemirror_mode": {
    "name": "ipython",
    "version": 3
   },
   "file_extension": ".py",
   "mimetype": "text/x-python",
   "name": "python",
   "nbconvert_exporter": "python",
   "pygments_lexer": "ipython3",
   "version": "3.6.5"
  }
 },
 "nbformat": 4,
 "nbformat_minor": 1
}
